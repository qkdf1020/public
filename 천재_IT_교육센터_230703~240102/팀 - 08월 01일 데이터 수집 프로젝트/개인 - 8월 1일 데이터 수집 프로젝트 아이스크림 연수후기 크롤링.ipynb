{
 "cells": [
  {
   "cell_type": "code",
   "execution_count": null,
   "id": "f5e29126",
   "metadata": {},
   "outputs": [],
   "source": [
    "# 해당 파일은 python 3.10.9에서 작성 되었습니다."
   ]
  },
  {
   "cell_type": "code",
   "execution_count": 9,
   "id": "80bc163f",
   "metadata": {},
   "outputs": [],
   "source": [
    "# 패키지 불러오기\n",
    "from selenium import webdriver\n",
    "from selenium.webdriver.common.keys import Keys\n",
    "from selenium.webdriver.common.by import By\n",
    "import pandas as pd"
   ]
  },
  {
   "cell_type": "code",
   "execution_count": 12,
   "id": "74b13518",
   "metadata": {},
   "outputs": [],
   "source": [
    "ind = 1  # 현재 복사한 순서\n",
    "no = 1  # 1~10페이지 중 위치한 곳\n",
    "page = 1  # 현재 페이지 번호\n",
    "list1  = []  # 결과물이 저장되는 리스트\n",
    "\n",
    "driver = webdriver.Chrome()\n",
    "\n",
    "# 웹페이지 오픈\n",
    "driver.get('https://teacher.i-scream.co.kr/help/afterword/list.do?sso=ok')\n",
    "\n",
    "while page <= 3 :\n",
    "        try :\n",
    "            driver.find_element(by = 'xpath', value = f'//*[@id=\"content\"]/div[3]/table/tbody/tr[{ind}]/td[3]/a').click() # 제목 클릭\n",
    "            title = driver.find_element(by = 'xpath',value = f'//*[@id=\"bbs_wrap\"]/div/dl[1]/dd').text # 제목\n",
    "            training_name = driver.find_element(by ='xpath', value = f'//*[@id=\"bbs_wrap\"]/div/dl[2]/dd/a').text # 연수명\n",
    "            classification = driver.find_element(by ='xpath', value = f'//*[@id=\"bbs_wrap\"]/div/dl[3]/dd[2]').text # 분류\n",
    "            rank_element = driver.find_element(By . CSS_SELECTOR, \"#bbs_wrap > div > dl:nth-child(3) > dd:nth-child(2) > span > span\") # 만족도\n",
    "            rank = rank_element.get_attribute('class').split('-')[-1][-1] # 만족도\n",
    "            content = driver.find_element(by ='xpath', value = f'//*[@id=\"bbs_wrap\"]/div/div[1]').text\n",
    "            driver.find_element(by = 'xpath', value = f'//*[@id=\"btn-list\"]').click() # 목록 클릭\n",
    "            list1.append([title, training_name, classification, rank, content])\n",
    "            ind += 1\n",
    "        except :\n",
    "            # 더 이상 해당 요소를 찾을 수 없을 때 (페이지 이동)\n",
    "            try :\n",
    "                no += 1\n",
    "                xpath_next_page = f'//*[@id=\"paging\"]/ul/li[{no+1}]/a'\n",
    "                driver.find_element(by = 'xpath', value = xpath_next_page).is_displayed()\n",
    "                driver.find_element(by = 'xpath', value = xpath_next_page).click()\n",
    "                ind = 1\n",
    "                page += 1\n",
    "                # 중간 저장\n",
    "                df = pd.DataFrame(list1)\n",
    "                df.to_csv('filename.csv', index = False)\n",
    "                continue\n",
    "            except :\n",
    "                if no >= 10 :\n",
    "                    xpath_last_page = '//*[@id=\"paging\"]/ul/li[12]/a'\n",
    "                    driver.find_element(by = 'xpath', value = xpath_last_page).click()\n",
    "                    no = 1\n",
    "                    ind = 1\n",
    "                    page += 1\n",
    "                    continue\n",
    "                break"
   ]
  }
 ],
 "metadata": {
  "kernelspec": {
   "display_name": "Python 3 (ipykernel)",
   "language": "python",
   "name": "python3"
  },
  "language_info": {
   "codemirror_mode": {
    "name": "ipython",
    "version": 3
   },
   "file_extension": ".py",
   "mimetype": "text/x-python",
   "name": "python",
   "nbconvert_exporter": "python",
   "pygments_lexer": "ipython3",
   "version": "3.10.9"
  }
 },
 "nbformat": 4,
 "nbformat_minor": 5
}
