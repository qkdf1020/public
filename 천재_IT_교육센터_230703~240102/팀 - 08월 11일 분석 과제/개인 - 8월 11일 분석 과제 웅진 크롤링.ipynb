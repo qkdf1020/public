{
 "cells": [
  {
   "cell_type": "code",
   "execution_count": null,
   "id": "a9884bbf",
   "metadata": {},
   "outputs": [],
   "source": [
    "# python 3.10.9에서 작성 되었습니다."
   ]
  },
  {
   "cell_type": "code",
   "execution_count": 21,
   "id": "80bc163f",
   "metadata": {},
   "outputs": [],
   "source": [
    "# 패키지 불러오기\n",
    "from selenium import webdriver\n",
    "from selenium.webdriver.common.keys import Keys\n",
    "from selenium.webdriver.common.by import By\n",
    "import pandas as pd\n",
    "import time"
   ]
  },
  {
   "cell_type": "code",
   "execution_count": 37,
   "id": "74b13518",
   "metadata": {},
   "outputs": [],
   "source": [
    "ind = 1 # 현재 복사한 순서\n",
    "no = 1  # 지역목록 순서\n",
    "list1  = [] # 결과물이 저장되는 리스트\n",
    "            # title_1 : 분류\n",
    "            # title_2 : 지점명\n",
    "            # addr : 주소\n",
    "\n",
    "driver = webdriver.Chrome()\n",
    "driver.get('https://www.smartallclass.co.kr/mem/studyroom/list.php')\n",
    "driver.find_element(by='xpath',value = f'//*[@id=\"tabs\"]/div[1]/div[1]/a[2]').click()\n",
    "driver.find_element(by='xpath',value = f'//*[@id=\"search_sido\"]').click()\n",
    "driver.find_element(by='xpath', value = f'//*[@id=\"search_sido\"]/option[{no}]').click()\n",
    "\n",
    "while 1 :\n",
    "    try :\n",
    "        # 분류, 지점명, 주소\n",
    "        title_1 = driver.find_element(by='xpath',value = f'//*[@id=\"result-place-list\"]/li[{ind}]/a/div/p[1]/span').text\n",
    "        title_2 = driver.find_element(by='xpath',value = f'//*[@id=\"result-place-list\"]/li[{ind}]/a/div/p[1]/b').text\n",
    "        address = driver.find_element(by='xpath',value = f'//*[@id=\"result-place-list\"]/li[{ind}]/a/div/p[2]').text\n",
    "        list1.append([title_1, title_2, address])\n",
    "        \n",
    "        ind += 1\n",
    "\n",
    "    except :\n",
    "        # 다음 지역으로 넘어가기\n",
    "        try :\n",
    "            driver.find_element(by='xpath',value = f'//*[@id=\"search_sido\"]').click()\n",
    "            driver.find_element(by='xpath', value = f'//*[@id=\"search_sido\"]/option[{no + 1}]').click()\n",
    "            no += 1\n",
    "            ind = 1\n",
    "            \n",
    "            time.sleep(3)  # import time\n",
    "            \n",
    "            # 중간 저장\n",
    "            df = pd.DataFrame(list1)\n",
    "            df.to_csv('웅진스마트올_공부방.csv', index = False)\n",
    "            \n",
    "            continue\n",
    "        \n",
    "        except :\n",
    "            break"
   ]
  },
  {
   "cell_type": "code",
   "execution_count": null,
   "id": "81192bf8",
   "metadata": {},
   "outputs": [],
   "source": []
  }
 ],
 "metadata": {
  "kernelspec": {
   "display_name": "Python 3 (ipykernel)",
   "language": "python",
   "name": "python3"
  },
  "language_info": {
   "codemirror_mode": {
    "name": "ipython",
    "version": 3
   },
   "file_extension": ".py",
   "mimetype": "text/x-python",
   "name": "python",
   "nbconvert_exporter": "python",
   "pygments_lexer": "ipython3",
   "version": "3.10.9"
  }
 },
 "nbformat": 4,
 "nbformat_minor": 5
}
