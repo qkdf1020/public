{
 "cells": [
  {
   "cell_type": "code",
   "execution_count": null,
   "id": "a2bbc2f3",
   "metadata": {},
   "outputs": [],
   "source": [
    "# 해당 파일은 python 3.10.9에서 실행 되었습니다."
   ]
  },
  {
   "cell_type": "code",
   "execution_count": null,
   "id": "b708e6e4",
   "metadata": {},
   "outputs": [],
   "source": [
    "import pandas as pd"
   ]
  },
  {
   "cell_type": "code",
   "execution_count": null,
   "id": "8f1198f7",
   "metadata": {},
   "outputs": [],
   "source": [
    "df1 = pd.read_csv('한국자산관리공사_국유부동산 매각현황_20221231.csv',encoding='cp949')\n",
    "df1"
   ]
  },
  {
   "cell_type": "markdown",
   "id": "929b2698",
   "metadata": {},
   "source": [
    "# 전처리"
   ]
  },
  {
   "cell_type": "markdown",
   "id": "ee868573",
   "metadata": {},
   "source": [
    "# 매각만 분리"
   ]
  },
  {
   "cell_type": "code",
   "execution_count": null,
   "id": "cb324777",
   "metadata": {},
   "outputs": [],
   "source": [
    "df1['처분구분명'].unique()"
   ]
  },
  {
   "cell_type": "code",
   "execution_count": null,
   "id": "e542d540",
   "metadata": {},
   "outputs": [],
   "source": [
    "df2 = df1[df1['처분구분명'].apply(lambda x : x.startswith('처분(매각'))]"
   ]
  },
  {
   "cell_type": "code",
   "execution_count": null,
   "id": "0ecc9a5b",
   "metadata": {
    "scrolled": true
   },
   "outputs": [],
   "source": [
    "df2['처분구분명'].unique()"
   ]
  },
  {
   "cell_type": "markdown",
   "id": "29385b36",
   "metadata": {},
   "source": [
    "# 매각 면적 0 제거"
   ]
  },
  {
   "cell_type": "code",
   "execution_count": null,
   "id": "04d5f7f3",
   "metadata": {},
   "outputs": [],
   "source": [
    "df3 = df2[df2['대장면적(제곱미터)'] > 0]"
   ]
  },
  {
   "cell_type": "markdown",
   "id": "10bd686e",
   "metadata": {},
   "source": [
    "# 공부지목 nan값 제거"
   ]
  },
  {
   "cell_type": "code",
   "execution_count": null,
   "id": "ccb25b20",
   "metadata": {
    "scrolled": true
   },
   "outputs": [],
   "source": [
    "df3['공부지목'].unique()"
   ]
  },
  {
   "cell_type": "code",
   "execution_count": null,
   "id": "049a575b",
   "metadata": {},
   "outputs": [],
   "source": [
    "df3['공부지목'] = df3['공부지목'].fillna('확인불가')"
   ]
  },
  {
   "cell_type": "code",
   "execution_count": null,
   "id": "c34a532a",
   "metadata": {
    "scrolled": false
   },
   "outputs": [],
   "source": [
    "df3['공부지목'].unique()"
   ]
  },
  {
   "cell_type": "markdown",
   "id": "c7609988",
   "metadata": {},
   "source": [
    "# 팀명 nan값 제거"
   ]
  },
  {
   "cell_type": "code",
   "execution_count": null,
   "id": "0ef9c536",
   "metadata": {},
   "outputs": [],
   "source": [
    "df3['팀명'].isna().unique()"
   ]
  },
  {
   "cell_type": "code",
   "execution_count": null,
   "id": "9aaa35be",
   "metadata": {
    "scrolled": true
   },
   "outputs": [],
   "source": [
    "df3['팀명'].unique()"
   ]
  },
  {
   "cell_type": "code",
   "execution_count": null,
   "id": "d6493d07",
   "metadata": {},
   "outputs": [],
   "source": [
    "target = ['국유재산관리1팀', '국유울산팀', '국유재산관리2팀', '국유춘천팀', '국유목포팀', '국유여수팀',\n",
    "       '국유제주팀', '국유팀', '국유광주2팀', '국유원주팀', '국유진주팀', '내포지부', '국유재산관리팀',\n",
    "       '국유 충주팀', '재산관리3팀', '국유군산팀', '국유재산관리3팀', '국유 안동팀', '국유 포항팀',\n",
    "       '의정부팀', '재산관리2팀', '국유광주1팀', '국유평택팀', '재산관리1팀', '재산관리5팀', '국유통영팀',\n",
    "       '재산관리4팀', '재산관리6팀', '팀미정', '국유목포지부', '국유여수지부', '국유제주지부', '포항지부',\n",
    "       '안동지부', '국유재산1팀', '국유재산3팀', '의정부지부', '국유광주3팀', '국유재산2팀', '울산지부',\n",
    "       '국유재산관리4팀', '기획관리팀', '원주지부', '국유1팀', '국유2팀', '춘천지부', '국유진주지부',\n",
    "       '국유통영지부', '국유광주4팀', '국유목포지사', '국유여수지사', '내포지사', '충주지사', '군산지사',\n",
    "       '국유진주지사', '국유통영지사', '포항지사', '안동지사', '국유제주지사', '울산지사', '국유재산관리5팀',\n",
    "       '평택지사', '의정부지사', '원주지사', '춘천지사', '해안면무주지국유화지원추진단']\n",
    "df = df3[df3['팀명'].apply(lambda x : x in target)]"
   ]
  },
  {
   "cell_type": "markdown",
   "id": "a259f54b",
   "metadata": {},
   "source": [
    "# 매각 금액이 가장 많은 팀과 하위 팀의 차이 확인하기"
   ]
  },
  {
   "cell_type": "code",
   "execution_count": null,
   "id": "5da5beda",
   "metadata": {
    "scrolled": true
   },
   "outputs": [],
   "source": [
    "df['팀명'].unique()"
   ]
  },
  {
   "cell_type": "code",
   "execution_count": null,
   "id": "5116c692",
   "metadata": {},
   "outputs": [],
   "source": [
    "dfs = pd.DataFrame(df.groupby('팀명')['대장금액(원)'].sum())"
   ]
  },
  {
   "cell_type": "code",
   "execution_count": null,
   "id": "150c51e1",
   "metadata": {
    "scrolled": false
   },
   "outputs": [],
   "source": [
    "dfs"
   ]
  },
  {
   "cell_type": "code",
   "execution_count": null,
   "id": "2820b68f",
   "metadata": {
    "scrolled": true
   },
   "outputs": [],
   "source": [
    "dfs.idxmax()"
   ]
  },
  {
   "cell_type": "code",
   "execution_count": null,
   "id": "0d065aa8",
   "metadata": {},
   "outputs": [],
   "source": [
    "dfs.max()"
   ]
  },
  {
   "cell_type": "code",
   "execution_count": null,
   "id": "5cbab5aa",
   "metadata": {
    "scrolled": true
   },
   "outputs": [],
   "source": [
    "dfs.idxmin()"
   ]
  },
  {
   "cell_type": "code",
   "execution_count": null,
   "id": "7e54253d",
   "metadata": {},
   "outputs": [],
   "source": [
    "dfs.min()"
   ]
  },
  {
   "cell_type": "code",
   "execution_count": null,
   "id": "ff798864",
   "metadata": {},
   "outputs": [],
   "source": [
    "from scipy import stats\n",
    "import numpy as np\n",
    "import pandas as pd\n",
    "import seaborn as sns\n",
    "import matplotlib.pyplot as plt"
   ]
  },
  {
   "cell_type": "code",
   "execution_count": null,
   "id": "1146f61a",
   "metadata": {},
   "outputs": [],
   "source": [
    "m1 = df['팀명'] == '국유재산3팀'\n",
    "n1 = df['팀명'] == '해안면무주지국유화지원추진단'"
   ]
  },
  {
   "cell_type": "code",
   "execution_count": null,
   "id": "f1bbf8d0",
   "metadata": {},
   "outputs": [],
   "source": [
    "m = df[m1]['대장금액(원)']\n",
    "n = df[n1]['대장금액(원)']"
   ]
  },
  {
   "cell_type": "code",
   "execution_count": null,
   "id": "09e470ef",
   "metadata": {},
   "outputs": [],
   "source": [
    "ttest = stats.ttest_ind(m, n)"
   ]
  },
  {
   "cell_type": "code",
   "execution_count": null,
   "id": "0d5fa959",
   "metadata": {},
   "outputs": [],
   "source": [
    "ttest.pvalue"
   ]
  },
  {
   "cell_type": "code",
   "execution_count": null,
   "id": "3305b4f9",
   "metadata": {},
   "outputs": [],
   "source": [
    "ttest.statistic"
   ]
  },
  {
   "cell_type": "code",
   "execution_count": null,
   "id": "013c052a",
   "metadata": {},
   "outputs": [],
   "source": [
    "stats.shapiro(m)"
   ]
  },
  {
   "cell_type": "code",
   "execution_count": null,
   "id": "f42b6c4a",
   "metadata": {},
   "outputs": [],
   "source": [
    "stats.shapiro(n)"
   ]
  },
  {
   "cell_type": "code",
   "execution_count": null,
   "id": "9c3d1f87",
   "metadata": {},
   "outputs": [],
   "source": [
    "stats.ks_2samp(m, n)"
   ]
  },
  {
   "cell_type": "markdown",
   "id": "84139698",
   "metadata": {},
   "source": [
    "# 부점 구분으로 수정 - 매각 금액이 가장 많은 팀과 하위 팀의 차이 확인하기"
   ]
  },
  {
   "cell_type": "code",
   "execution_count": null,
   "id": "df3c53b9",
   "metadata": {},
   "outputs": [],
   "source": [
    "dfa = df.groupby(['부점명','팀명']).agg({'대장금액(원)' : sum})"
   ]
  },
  {
   "cell_type": "code",
   "execution_count": null,
   "id": "93dbe5a7",
   "metadata": {},
   "outputs": [],
   "source": [
    "dfa.idxmax()"
   ]
  },
  {
   "cell_type": "code",
   "execution_count": null,
   "id": "9c3dd4bd",
   "metadata": {
    "scrolled": true
   },
   "outputs": [],
   "source": [
    "dfa.max()"
   ]
  },
  {
   "cell_type": "code",
   "execution_count": null,
   "id": "e89edb8c",
   "metadata": {},
   "outputs": [],
   "source": [
    "dfa.idxmin()"
   ]
  },
  {
   "cell_type": "code",
   "execution_count": null,
   "id": "69b5d609",
   "metadata": {
    "scrolled": true
   },
   "outputs": [],
   "source": [
    "dfa.min()"
   ]
  },
  {
   "cell_type": "markdown",
   "id": "9ff08335",
   "metadata": {},
   "source": [
    "# 연도별 매각금액 추이 확인하기"
   ]
  },
  {
   "cell_type": "code",
   "execution_count": null,
   "id": "4f3d130e",
   "metadata": {},
   "outputs": [],
   "source": [
    "from sklearn.datasets import load_iris\n",
    "import matplotlib as mpl\n",
    "import matplotlib.pyplot as plt\n",
    "import pandas as pd\n",
    "import matplotlib.font_manager as fm"
   ]
  },
  {
   "cell_type": "code",
   "execution_count": null,
   "id": "b31ee660",
   "metadata": {},
   "outputs": [],
   "source": [
    "sns.lineplot(data = df, x = '연도구분', y = '대장금액(원)')\n",
    "plt.show()"
   ]
  },
  {
   "cell_type": "code",
   "execution_count": null,
   "id": "25bc4039",
   "metadata": {},
   "outputs": [],
   "source": [
    "[f.name for f in fm.fontManager.ttflist]"
   ]
  },
  {
   "cell_type": "code",
   "execution_count": null,
   "id": "ebd6607c",
   "metadata": {},
   "outputs": [],
   "source": [
    "plt.rc('font', family='Malgun Gothic')"
   ]
  },
  {
   "cell_type": "code",
   "execution_count": null,
   "id": "a87b1b04",
   "metadata": {},
   "outputs": [],
   "source": [
    "sns.lineplot(data = df, x = '연도구분', y = '대장금액(원)')\n",
    "plt.show()"
   ]
  },
  {
   "cell_type": "markdown",
   "id": "1de08df9",
   "metadata": {},
   "source": [
    "# 상위 5개 지역별 매각 면적 확인하기"
   ]
  },
  {
   "cell_type": "code",
   "execution_count": null,
   "id": "d18b7cee",
   "metadata": {},
   "outputs": [],
   "source": [
    "dfb = df.groupby(['부점명','팀명']).agg({'대장면적(제곱미터)' : sum})"
   ]
  },
  {
   "cell_type": "code",
   "execution_count": null,
   "id": "23322c3b",
   "metadata": {},
   "outputs": [],
   "source": [
    "dfb"
   ]
  },
  {
   "cell_type": "code",
   "execution_count": null,
   "id": "97297f8f",
   "metadata": {},
   "outputs": [],
   "source": [
    "dfc = dfb.nlargest(5, '대장면적(제곱미터)', keep='first')"
   ]
  },
  {
   "cell_type": "code",
   "execution_count": null,
   "id": "708a3d97",
   "metadata": {
    "scrolled": true
   },
   "outputs": [],
   "source": [
    "dfc"
   ]
  },
  {
   "cell_type": "code",
   "execution_count": null,
   "id": "cec7aa60",
   "metadata": {
    "scrolled": true
   },
   "outputs": [],
   "source": [
    "import matplotlib.pyplot as plt\n",
    "\n",
    "fig, ax = plt.subplots()\n",
    "\n",
    "팀명 = ['강원지역본부\\n국유팀', '강원지역본부\\n국유춘천팀', '대전충남지역본부\\n내포지사',\n",
    "      '전북지역본부\\n국유재산관리1팀', '광주전남지역본부\\n국유광주2팀']\n",
    "counts = [4414675.000, 2163883.000, 1952206.696, 1730079.900, 1489381.000]\n",
    "\n",
    "ax.bar(팀명, counts)\n",
    "\n",
    "\n",
    "ax.set_title('팀별 매각 면적 상위 5곳')\n",
    "ax.legend(title='대장면적(제곱미터)')\n",
    "\n",
    "plt.show()"
   ]
  },
  {
   "cell_type": "code",
   "execution_count": null,
   "id": "d976ae41",
   "metadata": {},
   "outputs": [],
   "source": [
    "dfd = pd.DataFrame(df.groupby('지역구분')['대장면적(제곱미터)'].sum())"
   ]
  },
  {
   "cell_type": "code",
   "execution_count": null,
   "id": "926e5d36",
   "metadata": {},
   "outputs": [],
   "source": [
    "dfd"
   ]
  },
  {
   "cell_type": "code",
   "execution_count": null,
   "id": "005d1fc4",
   "metadata": {},
   "outputs": [],
   "source": [
    "dfe = dfd.nlargest(5, '대장면적(제곱미터)', keep='first')"
   ]
  },
  {
   "cell_type": "code",
   "execution_count": null,
   "id": "66455b07",
   "metadata": {
    "scrolled": true
   },
   "outputs": [],
   "source": [
    "dfe"
   ]
  },
  {
   "cell_type": "code",
   "execution_count": null,
   "id": "671cd939",
   "metadata": {},
   "outputs": [],
   "source": [
    "import matplotlib.pyplot as plt\n",
    "\n",
    "fig, ax = plt.subplots()\n",
    "\n",
    "팀명 = ['강원도', '경기도', '전라남도', '전라북도', '경상북도']\n",
    "counts = [9584364.950, 8319993.462, 5811610.737, 4984516.275, 4857939.602]\n",
    "\n",
    "ax.bar(팀명, counts)\n",
    "\n",
    "\n",
    "ax.set_title('지역별 매각 면적 상위 5곳')\n",
    "ax.legend(title='대장면적(제곱미터)')\n",
    "\n",
    "plt.show()"
   ]
  },
  {
   "cell_type": "markdown",
   "id": "111eb1cf",
   "metadata": {},
   "source": [
    "# 계약 일자 정보 기준으로, 매각이 많은 때의 특징 알아보기"
   ]
  },
  {
   "cell_type": "code",
   "execution_count": null,
   "id": "0f09068e",
   "metadata": {
    "scrolled": true
   },
   "outputs": [],
   "source": [
    "df"
   ]
  },
  {
   "cell_type": "code",
   "execution_count": null,
   "id": "12c9cfb2",
   "metadata": {},
   "outputs": [],
   "source": [
    "df11 = df.groupby('계약일자')['대장금액(원)'].describe()"
   ]
  },
  {
   "cell_type": "code",
   "execution_count": null,
   "id": "6a7ba0e1",
   "metadata": {},
   "outputs": [],
   "source": [
    "df12 = df.groupby('계약일자')['대장면적(제곱미터)'].describe()"
   ]
  },
  {
   "cell_type": "code",
   "execution_count": null,
   "id": "3f9ff9ab",
   "metadata": {},
   "outputs": [],
   "source": [
    "d1 = df11.nlargest(5, 'count', keep='first')"
   ]
  },
  {
   "cell_type": "code",
   "execution_count": null,
   "id": "1eb0c796",
   "metadata": {},
   "outputs": [],
   "source": [
    "d2 = df12.nlargest(5, 'count', keep='first')"
   ]
  },
  {
   "cell_type": "code",
   "execution_count": null,
   "id": "d2f5dd22",
   "metadata": {},
   "outputs": [],
   "source": [
    "d1"
   ]
  },
  {
   "cell_type": "code",
   "execution_count": null,
   "id": "ba1edd6a",
   "metadata": {},
   "outputs": [],
   "source": [
    "d2"
   ]
  },
  {
   "cell_type": "code",
   "execution_count": null,
   "id": "f494e810",
   "metadata": {},
   "outputs": [],
   "source": [
    "target1 = ['2017-12-01', '2022-07-25', '2020-04-01','2019-08-29', '2017-10-27']\n",
    "df10 = df[df['계약일자'].apply(lambda x : x in target1)]"
   ]
  },
  {
   "cell_type": "code",
   "execution_count": null,
   "id": "86c475bb",
   "metadata": {},
   "outputs": [],
   "source": [
    "d10 = pd.DataFrame(df10.groupby('계약일자')['지역구분'].value_counts())"
   ]
  },
  {
   "cell_type": "code",
   "execution_count": null,
   "id": "cc351680",
   "metadata": {
    "scrolled": true
   },
   "outputs": [],
   "source": [
    "d10"
   ]
  },
  {
   "cell_type": "code",
   "execution_count": null,
   "id": "24fabd44",
   "metadata": {},
   "outputs": [],
   "source": [
    "import matplotlib.pyplot as plt\n",
    "\n",
    "fig, ax = plt.subplots()\n",
    "\n",
    "팀명 = ['2017-\\n10-27', '2017-\\n12-01', '2019-\\n08-29', '2020-\\n04-01', '2022-\\n07-25']\n",
    "counts = [412, 592, 431, 442, 486]\n",
    "\n",
    "ax.bar(팀명, counts)\n",
    "\n",
    "\n",
    "ax.set_title('일자별 매각량 상위 5일 매각량')\n",
    "ax.legend(title='매각량(건)')\n",
    "\n",
    "plt.show()"
   ]
  },
  {
   "cell_type": "code",
   "execution_count": null,
   "id": "70a2df30",
   "metadata": {},
   "outputs": [],
   "source": [
    "d10 = df10.groupby('계약일자')['지역구분'].describe()"
   ]
  },
  {
   "cell_type": "code",
   "execution_count": null,
   "id": "acf77dfc",
   "metadata": {},
   "outputs": [],
   "source": [
    "d10"
   ]
  },
  {
   "cell_type": "code",
   "execution_count": null,
   "id": "9ec30dab",
   "metadata": {},
   "outputs": [],
   "source": []
  }
 ],
 "metadata": {
  "kernelspec": {
   "display_name": "Python 3 (ipykernel)",
   "language": "python",
   "name": "python3"
  },
  "language_info": {
   "codemirror_mode": {
    "name": "ipython",
    "version": 3
   },
   "file_extension": ".py",
   "mimetype": "text/x-python",
   "name": "python",
   "nbconvert_exporter": "python",
   "pygments_lexer": "ipython3",
   "version": "3.10.9"
  }
 },
 "nbformat": 4,
 "nbformat_minor": 5
}
