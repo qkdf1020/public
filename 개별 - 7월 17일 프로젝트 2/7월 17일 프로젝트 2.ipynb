{
 "cells": [
  {
   "cell_type": "code",
   "execution_count": null,
   "id": "57381d01",
   "metadata": {},
   "outputs": [],
   "source": [
    "# 해당 파일은 python 3.10.9에서 실행 되었습니다."
   ]
  },
  {
   "cell_type": "code",
   "execution_count": null,
   "id": "446504db",
   "metadata": {},
   "outputs": [],
   "source": [
    "# 시작할 때 사용할 패키지 파일을 전부 입력한다.\n",
    "import pandas as pd\n",
    "import numpy as np\n",
    "import matplotlib.pyplot as plt\n",
    "import seaborn as sns\n",
    "import plotly.express as px\n",
    "import re\n",
    "from scipy import stats\n",
    "from statannot import add_stat_annotation\n",
    "# 그래프 한글 표시 요류 관련 해결 방법\n",
    "plt.rc('font', family='Malgun Gothic')"
   ]
  },
  {
   "cell_type": "code",
   "execution_count": null,
   "id": "5c4a800e",
   "metadata": {
    "scrolled": true
   },
   "outputs": [],
   "source": [
    "# 자료불러오기\n",
    "df = pd.read_excel('미니프로젝트-쇼핑몰 실습데이터.xlsx') # 내부 데이터로 공유 불가\n",
    "df.head(2)"
   ]
  },
  {
   "cell_type": "markdown",
   "id": "918e02e3",
   "metadata": {},
   "source": [
    "# 할부기간 nan값 1개월로 변경"
   ]
  },
  {
   "cell_type": "code",
   "execution_count": null,
   "id": "88125949",
   "metadata": {},
   "outputs": [],
   "source": [
    "# 할부기간 종류 확인\n",
    "df['할부기간'].unique()"
   ]
  },
  {
   "cell_type": "code",
   "execution_count": null,
   "id": "519734e5",
   "metadata": {
    "scrolled": false
   },
   "outputs": [],
   "source": [
    "# 할부기간 nsn값 1개월로 변경\n",
    "df['할부기간'] = df['할부기간'].fillna('1개월')\n",
    "df.head(2)"
   ]
  },
  {
   "cell_type": "markdown",
   "id": "c9dc9425",
   "metadata": {},
   "source": [
    "# 처리상태 종류 확인 및 구매확정 이외 삭제"
   ]
  },
  {
   "cell_type": "code",
   "execution_count": null,
   "id": "94eb8aa7",
   "metadata": {},
   "outputs": [],
   "source": [
    "df['처리상태'].unique()"
   ]
  },
  {
   "cell_type": "code",
   "execution_count": null,
   "id": "bded922e",
   "metadata": {
    "scrolled": true
   },
   "outputs": [],
   "source": [
    "df['처리상태'].value_counts()"
   ]
  },
  {
   "cell_type": "code",
   "execution_count": null,
   "id": "4e523070",
   "metadata": {
    "scrolled": false
   },
   "outputs": [],
   "source": [
    "df1 = df[df['처리상태'] == '구매확정']\n",
    "df1.head(2)"
   ]
  },
  {
   "cell_type": "markdown",
   "id": "87b6f81e",
   "metadata": {},
   "source": [
    "# 불필요 열 삭제\n",
    "제조사, 초도상품, 제작문구 내역"
   ]
  },
  {
   "cell_type": "code",
   "execution_count": null,
   "id": "0657ecfe",
   "metadata": {
    "scrolled": true
   },
   "outputs": [],
   "source": [
    "df1['제조사'].value_counts()"
   ]
  },
  {
   "cell_type": "code",
   "execution_count": null,
   "id": "ccd5fc86",
   "metadata": {
    "scrolled": false
   },
   "outputs": [],
   "source": [
    "# nan값 확인\n",
    "df1['제조사'].isna().value_counts()"
   ]
  },
  {
   "cell_type": "code",
   "execution_count": null,
   "id": "56b28cd2",
   "metadata": {},
   "outputs": [],
   "source": [
    "df1['제작문구 내역'].unique()"
   ]
  },
  {
   "cell_type": "code",
   "execution_count": null,
   "id": "d84f5145",
   "metadata": {},
   "outputs": [],
   "source": [
    "df1['초도상품'].unique()"
   ]
  },
  {
   "cell_type": "code",
   "execution_count": null,
   "id": "0aa5ab78",
   "metadata": {
    "scrolled": true
   },
   "outputs": [],
   "source": [
    "df2 = df1.drop(labels = ['제조사', '제작문구 내역', '초도상품'], axis = 1)\n",
    "df2.head(2)"
   ]
  },
  {
   "cell_type": "markdown",
   "id": "3969f22a",
   "metadata": {},
   "source": [
    "# 이외 nan값 제거"
   ]
  },
  {
   "cell_type": "code",
   "execution_count": null,
   "id": "79ea774f",
   "metadata": {},
   "outputs": [],
   "source": [
    "df3 = df2.dropna()\n",
    "df3.head(2)"
   ]
  },
  {
   "cell_type": "markdown",
   "id": "96b42f26",
   "metadata": {},
   "source": [
    "# 결제 방법 간소화"
   ]
  },
  {
   "cell_type": "code",
   "execution_count": null,
   "id": "09f5ae7c",
   "metadata": {
    "scrolled": false
   },
   "outputs": [],
   "source": [
    "# 결제방법 확인\n",
    "df3['결제방법'].unique()"
   ]
  },
  {
   "cell_type": "code",
   "execution_count": null,
   "id": "1c2e2ab2",
   "metadata": {
    "scrolled": true
   },
   "outputs": [],
   "source": [
    "df4 = df3.replace(['신 + 포', '신 + 적 + 포', '신 + 적', '신 + 웰컴'],'신용카드')"
   ]
  },
  {
   "cell_type": "code",
   "execution_count": null,
   "id": "25c05e84",
   "metadata": {},
   "outputs": [],
   "source": [
    "df5 = df4.replace('적 + 포','적립금')"
   ]
  },
  {
   "cell_type": "code",
   "execution_count": null,
   "id": "44b09877",
   "metadata": {},
   "outputs": [],
   "source": [
    "df6= df5.replace(['후 + 포', '후 + 적 + 포', '후 + 적'],'후불')"
   ]
  },
  {
   "cell_type": "code",
   "execution_count": null,
   "id": "e646e559",
   "metadata": {},
   "outputs": [],
   "source": [
    "df7 = df6.replace(['후 + 포', '후 + 적 + 포', '후 + 적'],'후불')"
   ]
  },
  {
   "cell_type": "code",
   "execution_count": null,
   "id": "dad46298",
   "metadata": {},
   "outputs": [],
   "source": [
    "df8 = df7.replace(['정 + 포', '정 + 적 + 포', '정 + 적'],'정기결제')"
   ]
  },
  {
   "cell_type": "code",
   "execution_count": null,
   "id": "46687a94",
   "metadata": {},
   "outputs": [],
   "source": [
    "df9 = df8.replace(['현 + 적', '현 + 포', '현 + 적 + 포'],'현금간편결제')"
   ]
  },
  {
   "cell_type": "code",
   "execution_count": null,
   "id": "b086cc53",
   "metadata": {
    "scrolled": true
   },
   "outputs": [],
   "source": [
    "df9['결제방법'].unique()"
   ]
  },
  {
   "cell_type": "code",
   "execution_count": null,
   "id": "06a39803",
   "metadata": {},
   "outputs": [],
   "source": [
    "# target 이외의 이상 값 항목 삭제\n",
    "target = ['신용카드', '가상계좌', '포인트', '적립금', '웰컴마일', '후불', '정기결제', '현금간편결제']\n",
    "df10 = df9[df9['결제방법'].apply(lambda x : x in target)]"
   ]
  },
  {
   "cell_type": "code",
   "execution_count": null,
   "id": "8893a1d2",
   "metadata": {},
   "outputs": [],
   "source": [
    "df10['결제방법'].unique()"
   ]
  },
  {
   "cell_type": "code",
   "execution_count": null,
   "id": "b4ca66f2",
   "metadata": {},
   "outputs": [],
   "source": [
    "# 결제방법 '['신용카드', '가상계좌', '포인트', '적립금', '웰컴마일', '후불', '정기결제', '현금간편결제']"
   ]
  },
  {
   "cell_type": "markdown",
   "id": "b3de6fc4",
   "metadata": {},
   "source": [
    "# 주문일자에서 주문 시간 제거"
   ]
  },
  {
   "cell_type": "code",
   "execution_count": null,
   "id": "0f84c848",
   "metadata": {
    "scrolled": true
   },
   "outputs": [],
   "source": [
    "# 주문일자 문자열로 변경\n",
    "df10['주문일자'] = df10['주문일자'].astype('str')\n",
    "df10.head(2)"
   ]
  },
  {
   "cell_type": "code",
   "execution_count": null,
   "id": "95b58fd4",
   "metadata": {},
   "outputs": [],
   "source": [
    "# '주문일자'에서 주문시간 제거\n",
    "df10['주문일자'] = df10['주문일자'].apply(lambda x: x.split(' ')[0])"
   ]
  },
  {
   "cell_type": "code",
   "execution_count": null,
   "id": "dfb99af1",
   "metadata": {
    "scrolled": true
   },
   "outputs": [],
   "source": [
    "# '주문일자'에서 '구매 연도'와 '구매 월' 열 추가\n",
    "df10['구매 연도'] = df10['주문일자'].apply(lambda x: x.split('-')[0])\n",
    "df10['구매 월'] = df10['주문일자'].apply(lambda x: x.split('-')[1])"
   ]
  },
  {
   "cell_type": "code",
   "execution_count": null,
   "id": "8197d767",
   "metadata": {
    "scrolled": false
   },
   "outputs": [],
   "source": [
    "# '주문일자'에서 연도와 월만 가져와서'구매 연월' 열 추가\n",
    "df10['구매 연월'] = df10['주문일자'].apply(lambda x: x.split('-')[0]) + '-' + df10['주문일자'].apply(lambda x: x.split('-')[1])\n",
    "df10.head(2)"
   ]
  },
  {
   "cell_type": "markdown",
   "id": "b6de11dc",
   "metadata": {},
   "source": [
    "# 1. 입점 기업별 RFM 분석(3그룹) 진행"
   ]
  },
  {
   "cell_type": "code",
   "execution_count": null,
   "id": "1962c7e6",
   "metadata": {
    "scrolled": true
   },
   "outputs": [],
   "source": [
    "# '업체명'과 '주문일자'로 데이터프레임 만들기\n",
    "df11 = df10[['업체명','주문일자']].drop_duplicates()\n",
    "df11"
   ]
  },
  {
   "cell_type": "code",
   "execution_count": null,
   "id": "e7e342ec",
   "metadata": {},
   "outputs": [],
   "source": [
    "# 마지막 주문일자 확인\n",
    "df11['주문일자'].max()"
   ]
  },
  {
   "cell_type": "code",
   "execution_count": null,
   "id": "f19da454",
   "metadata": {},
   "outputs": [],
   "source": [
    "# 첫 주문일자 확인\n",
    "df11['주문일자'].min()"
   ]
  },
  {
   "cell_type": "code",
   "execution_count": null,
   "id": "2d65bbc4",
   "metadata": {},
   "outputs": [],
   "source": [
    "# '주문일자'에서 중복되는 항목 제외하고 해당 내용만 데이터프레임 만들기\n",
    "df10[['주문일자']].drop_duplicates()"
   ]
  },
  {
   "cell_type": "code",
   "execution_count": null,
   "id": "9bfce8e4",
   "metadata": {
    "scrolled": true
   },
   "outputs": [],
   "source": [
    "# 업체별로 주문일수 \n",
    "d11 = df11['업체명'].value_counts().reset_index()\n",
    "d11"
   ]
  },
  {
   "cell_type": "code",
   "execution_count": null,
   "id": "a926af15",
   "metadata": {},
   "outputs": [],
   "source": [
    "# 업체별로 주문일수 통계\n",
    "df11['업체명'].value_counts().reset_index().describe().astype('int64')"
   ]
  },
  {
   "cell_type": "code",
   "execution_count": null,
   "id": "6a947df9",
   "metadata": {
    "scrolled": true
   },
   "outputs": [],
   "source": [
    "# 1그룹\n",
    "R1 = (d11['업체명'] >= 530).value_counts()\n",
    "R1"
   ]
  },
  {
   "cell_type": "code",
   "execution_count": null,
   "id": "2c08a5ab",
   "metadata": {},
   "outputs": [],
   "source": [
    "# 3그룹\n",
    "R2 = (d11['업체명'] < 151).value_counts()\n",
    "R2"
   ]
  },
  {
   "cell_type": "code",
   "execution_count": null,
   "id": "e8ee20ab",
   "metadata": {
    "scrolled": true
   },
   "outputs": [],
   "source": [
    "# 1,2,3그룹 전체 수\n",
    "R3 = (d11['업체명'] >= 0).value_counts()\n",
    "R3"
   ]
  },
  {
   "cell_type": "code",
   "execution_count": null,
   "id": "7bc87f05",
   "metadata": {},
   "outputs": [],
   "source": [
    "# 2그룹\n",
    "print(R3 - R1 - R2)"
   ]
  },
  {
   "cell_type": "code",
   "execution_count": null,
   "id": "a6e8b540",
   "metadata": {
    "scrolled": false
   },
   "outputs": [],
   "source": [
    "# 업체별 총 주문 횟수\n",
    "df12 = df10['업체명'].value_counts().reset_index()\n",
    "df12"
   ]
  },
  {
   "cell_type": "code",
   "execution_count": null,
   "id": "e0e0e04d",
   "metadata": {
    "scrolled": true
   },
   "outputs": [],
   "source": [
    "# 총 주문 횟수\n",
    "df12['업체명'].sum()"
   ]
  },
  {
   "cell_type": "code",
   "execution_count": null,
   "id": "e4d457a4",
   "metadata": {
    "scrolled": true
   },
   "outputs": [],
   "source": [
    "# 업체별로 주문건수 통계\n",
    "df12['업체명'].describe().astype('int64')"
   ]
  },
  {
   "cell_type": "code",
   "execution_count": null,
   "id": "2cc3c0de",
   "metadata": {},
   "outputs": [],
   "source": [
    "# 1그룹\n",
    "F1 = (df12['업체명'] >= 1903).value_counts()\n",
    "F1"
   ]
  },
  {
   "cell_type": "code",
   "execution_count": null,
   "id": "260ea83d",
   "metadata": {},
   "outputs": [],
   "source": [
    "# 3그룹\n",
    "F2 = (df12['업체명'] < 952).value_counts()\n",
    "F2"
   ]
  },
  {
   "cell_type": "code",
   "execution_count": null,
   "id": "789fe239",
   "metadata": {},
   "outputs": [],
   "source": [
    "# 1,2,3그룹 전체 수\n",
    "F3 = (df12['업체명'] >= 0).value_counts()\n",
    "F3"
   ]
  },
  {
   "cell_type": "code",
   "execution_count": null,
   "id": "9d16fa9b",
   "metadata": {},
   "outputs": [],
   "source": [
    "# 2그룹\n",
    "print(F3 - F1 - F2)"
   ]
  },
  {
   "cell_type": "code",
   "execution_count": null,
   "id": "642a60c2",
   "metadata": {
    "scrolled": true
   },
   "outputs": [],
   "source": [
    "# 업체별 총 판매금액 \n",
    "df13 = pd.DataFrame(df10.groupby('업체명')['판매금액'].sum().reset_index())\n",
    "df13"
   ]
  },
  {
   "cell_type": "code",
   "execution_count": null,
   "id": "a27500b0",
   "metadata": {},
   "outputs": [],
   "source": [
    "# 총 판매금액 \n",
    "df13['판매금액'].sum()"
   ]
  },
  {
   "cell_type": "code",
   "execution_count": null,
   "id": "fbd12c92",
   "metadata": {},
   "outputs": [],
   "source": [
    "# 업체별로 총 판매금액 통계\n",
    "df13['판매금액'].describe().astype('int64')"
   ]
  },
  {
   "cell_type": "code",
   "execution_count": null,
   "id": "cfe0af11",
   "metadata": {},
   "outputs": [],
   "source": [
    "# 1그룹\n",
    "M1 = (df13['판매금액'] >= 86156557).value_counts()\n",
    "M1"
   ]
  },
  {
   "cell_type": "code",
   "execution_count": null,
   "id": "d2f7f8e8",
   "metadata": {},
   "outputs": [],
   "source": [
    "# 3그룹\n",
    "M2 = (df13['판매금액'] < 43078279).value_counts()\n",
    "M2"
   ]
  },
  {
   "cell_type": "code",
   "execution_count": null,
   "id": "acf65c6c",
   "metadata": {},
   "outputs": [],
   "source": [
    "# 1,2,3그룹 전체 수\n",
    "M3 = (df13['판매금액'] >= 0).value_counts()\n",
    "M3"
   ]
  },
  {
   "cell_type": "code",
   "execution_count": null,
   "id": "5e8daf21",
   "metadata": {},
   "outputs": [],
   "source": [
    "# 2그룹\n",
    "print(M3 - M1 - M2)"
   ]
  },
  {
   "cell_type": "markdown",
   "id": "5f3ee855",
   "metadata": {},
   "source": [
    "# 2. 매출 시각화\n",
    "a. 월별, 연도별 매출\n",
    "\n",
    "b. 월별 순수익 (처리 상황, 할부 기간 고려)"
   ]
  },
  {
   "cell_type": "code",
   "execution_count": null,
   "id": "b2b1bb9f",
   "metadata": {},
   "outputs": [],
   "source": [
    "# 구매 연월별 총판매금액\n",
    "df10.groupby('구매 연월')['판매금액'].sum().reset_index()"
   ]
  },
  {
   "cell_type": "code",
   "execution_count": null,
   "id": "1c4bf56d",
   "metadata": {},
   "outputs": [],
   "source": [
    "# barplot\n",
    "sns.barplot(df10, x = '구매 연월', y = '판매금액')\n",
    "plt.xticks(rotation = -90)"
   ]
  },
  {
   "cell_type": "code",
   "execution_count": null,
   "id": "b81090a1",
   "metadata": {
    "scrolled": true
   },
   "outputs": [],
   "source": [
    "# lineplot\n",
    "sns.lineplot(df10, x = '구매 연월', y = '판매금액')\n",
    "plt.xticks(rotation = -90)"
   ]
  },
  {
   "cell_type": "code",
   "execution_count": null,
   "id": "65514f81",
   "metadata": {
    "scrolled": false
   },
   "outputs": [],
   "source": [
    "# pie\n",
    "px.pie(df10, values = '판매금액', names = '구매 연월', title = '월별 판매 금액')"
   ]
  },
  {
   "cell_type": "code",
   "execution_count": null,
   "id": "45cc88f0",
   "metadata": {},
   "outputs": [],
   "source": [
    "# 구매 연도별 총판매금액\n",
    "df10.groupby('구매 연도')['판매금액'].sum().reset_index()"
   ]
  },
  {
   "cell_type": "code",
   "execution_count": null,
   "id": "97b9c5fc",
   "metadata": {},
   "outputs": [],
   "source": [
    "px.pie(df10, values = '판매금액', names = '구매 연도', title = '연도별 판매 금액')"
   ]
  },
  {
   "cell_type": "markdown",
   "id": "34097b82",
   "metadata": {},
   "source": [
    "# 3. 결제 방법에 따른 분석\n",
    "a. 결제 방법과 결제금액의 연관성 분석\n",
    "\n",
    "b. 결제방법은 맨 앞의 한가지만 사용한 것으로 간주"
   ]
  },
  {
   "cell_type": "code",
   "execution_count": null,
   "id": "941ccb63",
   "metadata": {
    "scrolled": true
   },
   "outputs": [],
   "source": [
    "# 결제방법 별 총 판매 금액\n",
    "df20 = df10.groupby('결제방법')['판매금액'].sum().reset_index()\n",
    "df20"
   ]
  },
  {
   "cell_type": "code",
   "execution_count": null,
   "id": "5f126d42",
   "metadata": {},
   "outputs": [],
   "source": [
    "# barplot\n",
    "sns.barplot(df20, x = '결제방법', y = '판매금액')"
   ]
  },
  {
   "cell_type": "code",
   "execution_count": null,
   "id": "4a5e9be2",
   "metadata": {
    "scrolled": false
   },
   "outputs": [],
   "source": [
    "# pie\n",
    "px.pie(df20, values = '판매금액', names = '결제방법', title = '결제 방법별 판매 금액')"
   ]
  },
  {
   "cell_type": "code",
   "execution_count": null,
   "id": "b13e400a",
   "metadata": {},
   "outputs": [],
   "source": [
    "# boxplot\n",
    "sns.boxplot(df10, x = '결제방법', y = '판매금액')"
   ]
  },
  {
   "cell_type": "code",
   "execution_count": null,
   "id": "32218b5c",
   "metadata": {},
   "outputs": [],
   "source": [
    "# 스피어만 등위상관계수\n",
    "stats.spearmanr(df10['결제방법'],df10['판매금액'])"
   ]
  },
  {
   "cell_type": "code",
   "execution_count": null,
   "id": "b382d4f5",
   "metadata": {},
   "outputs": [],
   "source": [
    "# 켄달의 등위상관계수\n",
    "stats.kendalltau(df10['결제방법'],df10['판매금액'])"
   ]
  },
  {
   "cell_type": "markdown",
   "id": "d311b271",
   "metadata": {},
   "source": [
    "# 1. 매출 시각화 2\n",
    "a. 최대 매출 상품 3종류 집계\n",
    "\n",
    "b. 주문 연도에 따른 해당 상품의 매출 증감 분석"
   ]
  },
  {
   "cell_type": "code",
   "execution_count": null,
   "id": "44412d2d",
   "metadata": {
    "scrolled": true
   },
   "outputs": [],
   "source": [
    "# 상품별 총 판매 금액\n",
    "df21 = df10.groupby('상품명')['판매금액'].sum().reset_index()\n",
    "df21"
   ]
  },
  {
   "cell_type": "code",
   "execution_count": null,
   "id": "bf4df6d7",
   "metadata": {},
   "outputs": [],
   "source": [
    "# 상품별 총 판매 금액 상위 3 상품\n",
    "df21.nlargest(3, '판매금액', keep='first')"
   ]
  },
  {
   "cell_type": "code",
   "execution_count": null,
   "id": "bf8d6841",
   "metadata": {
    "scrolled": false
   },
   "outputs": [],
   "source": [
    "# 상품별 총 판매 금액 상위 3 상품만 따로 표기\n",
    "target = ['[신세계] 신세계 상품권-4만원권', '[스마트 HBE] 학습 전용 태블릿-일반결제', '[스마트 HBE] 학습 전용 태블릿-정기결제']\n",
    "df22 = df10[df10['상품명'].apply(lambda x : x in target)]\n",
    "df22"
   ]
  },
  {
   "cell_type": "code",
   "execution_count": null,
   "id": "3a0a49f4",
   "metadata": {
    "scrolled": false
   },
   "outputs": [],
   "source": [
    "# 상품별 총 판매 금액 상위 3 상품 연도별 판매 금액\n",
    "df23 = df22.groupby(['상품명', '구매 연도']).agg({'판매금액' : sum}).reset_index()\n",
    "df23"
   ]
  },
  {
   "cell_type": "code",
   "execution_count": null,
   "id": "d8b1ec2b",
   "metadata": {},
   "outputs": [],
   "source": [
    "# 상품별 총 판매 금액 상위 3 상품 연도별 판매 금액 그래프\n",
    "px.line(df23.sort_values(by = '구매 연도'), x = '구매 연도', y = '판매금액', color = '상품명', markers = True)"
   ]
  },
  {
   "cell_type": "code",
   "execution_count": null,
   "id": "e6e16ee3",
   "metadata": {},
   "outputs": [],
   "source": [
    "# 상품별 총 판매 금액 상위 3 상품 월별 판매 금액\n",
    "df24 = df22.groupby(['상품명', '구매 월']).agg({'판매금액' : sum}).reset_index()\n",
    "df24"
   ]
  },
  {
   "cell_type": "code",
   "execution_count": null,
   "id": "3c28e549",
   "metadata": {},
   "outputs": [],
   "source": [
    "# 상품별 총 판매 금액 상위 3 상품 월별 판매 금액 그래프\n",
    "px.line(df24, x = '구매 월', y = '판매금액', color = '상품명', markers = True)"
   ]
  },
  {
   "cell_type": "markdown",
   "id": "9ea3a860",
   "metadata": {},
   "source": [
    "# 2. 연관성 분석\n",
    "a. 주문한 달과 판매금액의 상관관계 분석"
   ]
  },
  {
   "cell_type": "code",
   "execution_count": null,
   "id": "a10683a3",
   "metadata": {},
   "outputs": [],
   "source": [
    "# 스피어만 상관계수\n",
    "stats.spearmanr(df10['구매 월'],df10['판매금액'])"
   ]
  },
  {
   "cell_type": "code",
   "execution_count": null,
   "id": "c8b62fb5",
   "metadata": {},
   "outputs": [],
   "source": [
    "# 켄달의 타우\n",
    "stats.kendalltau(df10['구매 월'],df10['판매금액'])"
   ]
  },
  {
   "cell_type": "code",
   "execution_count": null,
   "id": "1473e15e",
   "metadata": {},
   "outputs": [],
   "source": [
    "# barplot\n",
    "sns.barplot(df10, x = '구매 월', y = '판매금액')"
   ]
  }
 ],
 "metadata": {
  "kernelspec": {
   "display_name": "Python 3 (ipykernel)",
   "language": "python",
   "name": "python3"
  },
  "language_info": {
   "codemirror_mode": {
    "name": "ipython",
    "version": 3
   },
   "file_extension": ".py",
   "mimetype": "text/x-python",
   "name": "python",
   "nbconvert_exporter": "python",
   "pygments_lexer": "ipython3",
   "version": "3.10.9"
  }
 },
 "nbformat": 4,
 "nbformat_minor": 5
}
