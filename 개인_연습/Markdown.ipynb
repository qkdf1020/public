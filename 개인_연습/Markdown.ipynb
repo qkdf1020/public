{
 "cells": [
  {
   "cell_type": "markdown",
   "metadata": {},
   "source": [
    "## 헤딩 태그\n",
    "문서에 소제목을 표시하기 위해서 다음과 같은 헤딩 태그 사용\n",
    "# H1\n",
    "## H2\n",
    "### H3\n",
    "#### H4\n",
    "##### H5\n",
    "###### H6"
   ]
  },
  {
   "cell_type": "markdown",
   "metadata": {},
   "source": [
    "### 인용구\n",
    "인용문은 다음처럼 표현합니다(※ 인용문은 HTML blockquote 엘리먼트로 변환됩니다.)\n",
    "> 인용문은 다음처럼 표현합니다."
   ]
  },
  {
   "cell_type": "markdown",
   "metadata": {},
   "source": [
    "## 리스트\n",
    "### 순차 표시\n",
    "1. 하나\n",
    "2. 둘\n",
    "3. 셋\n",
    "\n",
    "### 비순차 표시\n",
    "* 홍길동\n",
    "* 김철수\n",
    "* 김영희\n",
    "\n",
    "### 중첩 표시\n",
    "중첩해서 리스트를 표현하기 위해서는 들여쓰기(스페이스 4개)가 필요\n",
    "* 커피의 장점\n",
    "    * 맛있다.\n",
    "    * 잠을 깨운다.\n",
    "* 커피의 단점\n",
    "    * 잠이 안온다.\n",
    "    * 건강에 해롭다."
   ]
  },
  {
   "cell_type": "markdown",
   "metadata": {},
   "source": [
    "## 강조 구문\n",
    "### 진하게 표시 (Bold)\n",
    "강조하고 싶은 부분을 **진하게**\n",
    "\n",
    "### 기울여 표시 (Italic)\n",
    "강조하고 싶은 부분을 *기울게*, _기울게_"
   ]
  },
  {
   "cell_type": "markdown",
   "metadata": {},
   "source": [
    "## 링크와 이미지"
   ]
  },
  {
   "cell_type": "markdown",
   "metadata": {},
   "source": [
    "### 링크\n",
    "[개인깃허브](https://github.com/qkdf1020/public.git)"
   ]
  },
  {
   "cell_type": "markdown",
   "metadata": {},
   "source": [
    "### 이미지 표시\n",
    "![위키독스 로고](http://wikidocs.net/images/book/wikidocs.png)"
   ]
  },
  {
   "cell_type": "markdown",
   "metadata": {},
   "source": [
    "### 이미지 정렬과 삽입\n",
    "이미지를 정렬 또는 삽입하려면 img 태그를 사용"
   ]
  },
  {
   "cell_type": "markdown",
   "metadata": {},
   "source": [
    "#### 왼쪽 정렬\n",
    "이미지를 왼쪽으로 정렬하기 위해서는 위와 같이 p 태그와 img 태그를 같이 사용\n",
    "<p align=\"left\">\n",
    "    <img src=\"https://picsum.photos/100/100\">\n",
    "</p>\n",
    "\n",
    "#### 왼쪽 삽입\n",
    "<img align=\"left\"  src=\"https://picsum.photos/100/100\" style=\"margin-right:10px\">\n",
    "이미지를 텍스트 본문 왼쪽에 삽입하기 위해서는 위와 같이 img 태그를 사용하면 됩니다. align=\"left\" 속성을 주고 이미지 우측에는 마진을 주어야 깔끔하게 보입니다. 이미지 우측으로 작성되는 텍스트는 이미지의 세로 길이만큼 계속 들여쓰기 되어 표시됩니다."
   ]
  },
  {
   "cell_type": "markdown",
   "metadata": {},
   "source": [
    "#### 오른쪽 정렬\n",
    "이미지를 오른쪽으로 정렬하기 위해서는 위와 같이 p 태그와 img 태그를 같이 사용\n",
    "<p align=\"right\">\n",
    "    <img src=\"https://picsum.photos/100/100\">\n",
    "</p>\n",
    "\n",
    "#### 오른쪽 삽입\n",
    "<img align=\"right\"  src=\"https://picsum.photos/100/100\" style=\"margin-left:10px\">\n",
    "이미지를 텍스트 본문 오른쪽에 삽입하기 위해서는 위와 같이 img 태그를 사용하면 됩니다. align=\"right\" 속성을 주고 이미지 좌측에는 마진을 주어야 깔끔하게 보입니다. 이미지 좌측으로 작성되는 텍스트는 이미지의 세로 길이만큼 계속 들여쓰기 되어 표시됩니다."
   ]
  },
  {
   "cell_type": "markdown",
   "metadata": {},
   "source": [
    "#### 가운데 정렬\n",
    "이미지를 가운데로 정렬하기 위해서는 위와 같이 p 태그와 img 태그를 같이 사용\n",
    "<p align=\"center\">\n",
    "  <img src=\"https://picsum.photos/460/300\">\n",
    "</p>"
   ]
  },
  {
   "cell_type": "markdown",
   "metadata": {},
   "source": [
    "## 강제 줄 바꿈\n",
    "공백 2개 추가하면 됨  \n",
    "첫 번째 줄  \n",
    "두 번째 줄 "
   ]
  },
  {
   "cell_type": "markdown",
   "metadata": {},
   "source": [
    "## 코드 블록\n",
    "Back Quote(`) 문자 세 개(```)를 코드의 위아래에 삽입  \n",
    "자동으로 언어를 판별하여 신택스 강조가 적용\n",
    "```\n",
    "def sum(a, b):\n",
    "    return a+b\n",
    "```"
   ]
  },
  {
   "cell_type": "markdown",
   "metadata": {},
   "source": [
    "## 언어 지정 코드 블록\n",
    "특정 언어(예:python)를 지정하여 코드 블록을 설정\n",
    "* Bash (bash)\n",
    "* C# (cs)\n",
    "* C++ (cpp)\n",
    "* CSS (css)\n",
    "* Diff (diff)\n",
    "* HTML, XML (html)\n",
    "* HTTP (http)\n",
    "* Ini (ini)\n",
    "* JSON (json)\n",
    "* Java (java)\n",
    "* JavaScript (javascript)\n",
    "* PHP (php)\n",
    "* Perl (perl)\n",
    "* Python (python)\n",
    "* Ruby (ruby)\n",
    "* SQL (sql)\n",
    "* Dart (dart)"
   ]
  },
  {
   "cell_type": "markdown",
   "metadata": {},
   "source": [
    "```python\n",
    "def sum(a, b):\n",
    "    return a+b\n",
    "```"
   ]
  },
  {
   "cell_type": "markdown",
   "metadata": {},
   "source": [
    "## plaintext 코드 블록\n",
    "만약 코드 블록을 사용하고 싶지만 신택스 강조 기능을 사용하고 싶지 않은 경우"
   ]
  },
  {
   "cell_type": "markdown",
   "metadata": {},
   "source": [
    "```plaintext\n",
    "def sum(a, b):\n",
    "    return a+b\n",
    "```"
   ]
  },
  {
   "cell_type": "markdown",
   "metadata": {},
   "source": [
    "## 인라인 코드 블록\n",
    "짧은 코드 문장을 한 문장 내에 삽입하고 싶을 경우코드 부분을 앞, 뒤에 Back Quote(`) 삽입"
   ]
  },
  {
   "cell_type": "markdown",
   "metadata": {},
   "source": [
    "프로그램 수행 중 `return a+b`라는 문장을 만나면 결괏값이 리턴됩니다."
   ]
  },
  {
   "cell_type": "markdown",
   "metadata": {},
   "source": [
    "## 마크다운 extension"
   ]
  },
  {
   "cell_type": "markdown",
   "metadata": {},
   "source": [
    "### 테이블\n",
    "head1 | head2\n",
    "------|-------\n",
    "hello | foo\n",
    "hi    | bar"
   ]
  },
  {
   "cell_type": "markdown",
   "metadata": {},
   "source": [
    "### 테이블 정렬\n",
    "좌측 정렬 | 우측 정렬 | 가운데 정렬\n",
    ":------ |------:|:------:\n",
    "연필 | 500 | Yes\n",
    "커피 | 9000 | No\n",
    "크레파스 | 15000 | Yes"
   ]
  },
  {
   "cell_type": "markdown",
   "metadata": {},
   "source": [
    "[자료 출처](https://wikidocs.net/1678)"
   ]
  }
 ],
 "metadata": {
  "kernelspec": {
   "display_name": "bot",
   "language": "python",
   "name": "python3"
  },
  "language_info": {
   "codemirror_mode": {
    "name": "ipython",
    "version": 3
   },
   "file_extension": ".py",
   "mimetype": "text/x-python",
   "name": "python",
   "nbconvert_exporter": "python",
   "pygments_lexer": "ipython3",
   "version": "3.10.9"
  }
 },
 "nbformat": 4,
 "nbformat_minor": 2
}
