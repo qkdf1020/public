{
 "cells": [
  {
   "cell_type": "code",
   "execution_count": null,
   "metadata": {},
   "outputs": [],
   "source": [
    "# 해당 파일은 python 3.10.9에서 작성 되었습니다."
   ]
  },
  {
   "cell_type": "code",
   "execution_count": null,
   "metadata": {},
   "outputs": [],
   "source": [
    "# 패키지 불러오기\n",
    "from selenium import webdriver\n",
    "from selenium.webdriver.common.keys import Keys\n",
    "from selenium.webdriver.common.by import By\n",
    "import pandas as pd\n",
    "import time"
   ]
  },
  {
   "cell_type": "code",
   "execution_count": null,
   "metadata": {},
   "outputs": [],
   "source": [
    "ind = 1  # 현재 복사한 순서\n",
    "no = 3  # 1~10페이지 중 위치한 곳\n",
    "list1  = []  # 결과물이 저장되는 리스트\n",
    "\n",
    "             # title : 지점명  \n",
    "             # adress : 주소 \n",
    "\n",
    "driver = webdriver.Edge()\n",
    "driver.get('https://www.smarthb-math.co.kr/franchise/find.php?code=franchiseeLocation&searchopt=&sido=')\n",
    "time.sleep(30)  # import time\n",
    "\n",
    "while 1 :\n",
    "    try :\n",
    "        # 지점명, 주소\n",
    "        title = driver.find_element(by='xpath',value = f'//*[@id=\"mCSB_1_container\"]/ul/li[{ind}]/p[2]/a').text\n",
    "        time.sleep(3)  # import time\n",
    "        address = driver.find_element(by ='xpath', value = f'//*[@id=\"mCSB_1_container\"]/ul/li[{ind}]/a/p[1]').text\n",
    "        list1.append([title, address])\n",
    "            \n",
    "        ind += 1\n",
    "            \n",
    "        # 중간 저장\n",
    "        df = pd.DataFrame(list1)\n",
    "        df.to_csv('해법수학.csv', index = False)\n",
    "\n",
    "    except:\n",
    "        # 다음 페이지로 이동\n",
    "        if no < 13 :\n",
    "            driver.find_element(by='xpath',value = f'//*[@id=\"mCSB_1_container\"]/table/tbody/tr/td/div/ul/li[{no + 1}]/a').click()\n",
    "            ind = 1\n",
    "            time.sleep(30)  # import time\n",
    "                \n",
    "            continue\n",
    "        \n",
    "        # 페이지 번호가 10이넘어가면 다음화살표를 클릭 \n",
    "        elif no >= 12 :\n",
    "            driver.find_element(by='xpath',value = f'//*[@id=\"mCSB_1_container\"]/table/tbody/tr/td/div/ul/li[13]/a').click()\n",
    "            no = 3\n",
    "            ind = 1                  \n",
    "                    \n",
    "            continue\n",
    "                \n",
    "        # 더이상 이동할수 없을 경우 종료\n",
    "        else :\n",
    "            break"
   ]
  },
  {
   "cell_type": "code",
   "execution_count": null,
   "metadata": {},
   "outputs": [],
   "source": []
  }
 ],
 "metadata": {
  "kernelspec": {
   "display_name": "base",
   "language": "python",
   "name": "python3"
  },
  "language_info": {
   "codemirror_mode": {
    "name": "ipython",
    "version": 3
   },
   "file_extension": ".py",
   "mimetype": "text/x-python",
   "name": "python",
   "nbconvert_exporter": "python",
   "pygments_lexer": "ipython3",
   "version": "3.10.9"
  },
  "orig_nbformat": 4
 },
 "nbformat": 4,
 "nbformat_minor": 2
}
