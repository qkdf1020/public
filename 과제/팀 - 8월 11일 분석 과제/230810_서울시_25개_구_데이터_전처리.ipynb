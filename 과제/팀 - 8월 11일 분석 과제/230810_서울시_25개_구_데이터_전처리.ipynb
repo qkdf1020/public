{
 "cells": [
  {
   "cell_type": "code",
   "execution_count": null,
   "metadata": {},
   "outputs": [],
   "source": [
    "# 해당 파일은 python 3.10.9에서 작성 되었습니다."
   ]
  },
  {
   "cell_type": "code",
   "execution_count": null,
   "metadata": {},
   "outputs": [],
   "source": [
    "# 시작할 때 사용할 패키지\n",
    "import pandas as pd\n",
    "import os"
   ]
  },
  {
   "cell_type": "code",
   "execution_count": null,
   "metadata": {},
   "outputs": [],
   "source": [
    "# 현재 프로세스의 작업 디렉토리 확인\n",
    "cur_dir = os.getcwd()\n",
    "print('현재 프로세스의 작업 디렉토리 : ', cur_dir)\n",
    "\n",
    "# 현재 작업파일의 경로에 있는 리스트 확인 -> 리스트로 반환\n",
    "dir_list = os.listdir(cur_dir)\n",
    "print(dir_list)\n",
    "\n",
    "# 지정된 경로의 디렉토리를 순차적으로 탐색 -> 주로 for문과 활용\n",
    "for curDir, dirs, files in os.walk(cur_dir):\n",
    "    print(curDir, dirs, files)\n",
    "    for f in files :\n",
    "        print(os.path.join(curDir, f))"
   ]
  },
  {
   "cell_type": "code",
   "execution_count": null,
   "metadata": {},
   "outputs": [],
   "source": [
    "# 특정 경로의 파일 리스트 확인\n",
    "data_list = os.listdir(cur_dir + '/서울시_25개_구_데이터')\n",
    "print(\"데이터셋 목록(data_list) : \", data_list)"
   ]
  },
  {
   "cell_type": "code",
   "execution_count": null,
   "metadata": {},
   "outputs": [],
   "source": [
    "# csv 파일들 dict 형태로 반환\n",
    "dataset = dict()\n",
    "\n",
    "for data in data_list :\n",
    "    print(data[0 : -4])\n",
    "    dataset[data[0 : -4]] = pd.read_csv(cur_dir + f'/서울시_25개_구_데이터/{data}', encoding = 'cp949') # 변수 f'{}'"
   ]
  },
  {
   "cell_type": "code",
   "execution_count": null,
   "metadata": {},
   "outputs": [],
   "source": [
    "# 중복제거 및 불필요 열 제거\n",
    "dataset['e지방지표_강남구'] = dataset['e지방지표_강남구'].drop_duplicates().reset_index().drop(['index', '지표별(1)'], axis = 1)\n",
    "dataset['e지방지표_강동구'] = dataset['e지방지표_강동구'].drop_duplicates().reset_index().drop(['index', '지표별(1)'], axis = 1)\n",
    "dataset['e지방지표_강북구'] = dataset['e지방지표_강북구'].drop_duplicates().reset_index().drop(['index', '지표별(1)'], axis = 1)\n",
    "dataset['e지방지표_강서구'] = dataset['e지방지표_강서구'].drop_duplicates().reset_index().drop(['index', '지표별(1)'], axis = 1)\n",
    "dataset['e지방지표_관악구'] = dataset['e지방지표_관악구'].drop_duplicates().reset_index().drop(['index', '지표별(1)'], axis = 1)\n",
    "dataset['e지방지표_광진구'] = dataset['e지방지표_광진구'].drop_duplicates().reset_index().drop(['index', '지표별(1)'], axis = 1)\n",
    "dataset['e지방지표_구로구'] = dataset['e지방지표_구로구'].drop_duplicates().reset_index().drop(['index', '지표별(1)'], axis = 1)\n",
    "dataset['e지방지표_금천구'] = dataset['e지방지표_금천구'].drop_duplicates().reset_index().drop(['index', '지표별(1)'], axis = 1)\n",
    "dataset['e지방지표_노원구'] = dataset['e지방지표_노원구'].drop_duplicates().reset_index().drop(['index', '지표별(1)'], axis = 1)\n",
    "dataset['e지방지표_도봉구'] = dataset['e지방지표_도봉구'].drop_duplicates().reset_index().drop(['index', '지표별(1)'], axis = 1)\n",
    "dataset['e지방지표_동대문구'] = dataset['e지방지표_동대문구'].drop_duplicates().reset_index().drop(['index', '지표별(1)'], axis = 1)\n",
    "dataset['e지방지표_동작구'] = dataset['e지방지표_동작구'].drop_duplicates().reset_index().drop(['index', '지표별(1)'], axis = 1)\n",
    "dataset['e지방지표_마포구'] = dataset['e지방지표_마포구'].drop_duplicates().reset_index().drop(['index', '지표별(1)'], axis = 1)\n",
    "dataset['e지방지표_서대문구'] = dataset['e지방지표_서대문구'].drop_duplicates().reset_index().drop(['index', '지표별(1)'], axis = 1)\n",
    "dataset['e지방지표_서초구'] = dataset['e지방지표_서초구'].drop_duplicates().reset_index().drop(['index', '지표별(1)'], axis = 1)\n",
    "dataset['e지방지표_성공구'] = dataset['e지방지표_성공구'].drop_duplicates().reset_index().drop(['index', '지표별(1)'], axis = 1)\n",
    "dataset['e지방지표_성북구'] = dataset['e지방지표_성북구'].drop_duplicates().reset_index().drop(['index', '지표별(1)'], axis = 1)\n",
    "dataset['e지방지표_송파구'] = dataset['e지방지표_송파구'].drop_duplicates().reset_index().drop(['index', '지표별(1)'], axis = 1)\n",
    "dataset['e지방지표_양천구'] = dataset['e지방지표_양천구'].drop_duplicates().reset_index().drop(['index', '지표별(1)'], axis = 1)\n",
    "dataset['e지방지표_영등포구'] = dataset['e지방지표_영등포구'].drop_duplicates().reset_index().drop(['index', '지표별(1)'], axis = 1)\n",
    "dataset['e지방지표_용산구'] = dataset['e지방지표_용산구'].drop_duplicates().reset_index().drop(['index', '지표별(1)'], axis = 1)\n",
    "dataset['e지방지표_은평구'] = dataset['e지방지표_은평구'].drop_duplicates().reset_index().drop(['index', '지표별(1)'], axis = 1)\n",
    "dataset['e지방지표_종로구'] = dataset['e지방지표_종로구'].drop_duplicates().reset_index().drop(['index', '지표별(1)'], axis = 1)\n",
    "dataset['e지방지표_중구'] = dataset['e지방지표_중구'].drop_duplicates().reset_index().drop(['index', '지표별(1)'], axis = 1)\n",
    "dataset['e지방지표_중랑구'] = dataset['e지방지표_중랑구'].drop_duplicates().reset_index().drop(['index', '지표별(1)'], axis = 1)"
   ]
  },
  {
   "cell_type": "code",
   "execution_count": null,
   "metadata": {},
   "outputs": [],
   "source": [
    "# 25개 자치구별 데이터 하나의 데이터 합치기 = merge_data1\n",
    "merge_data1 = pd.merge(dataset['e지방지표_강남구'], dataset['e지방지표_강동구'], how = 'inner', on = ['지표별(2)'])\n",
    "merge_data1 = pd.merge(merge_data1, dataset['e지방지표_강북구'], how = 'inner', on = ['지표별(2)'])\n",
    "merge_data1 = pd.merge(merge_data1, dataset['e지방지표_강서구'], how = 'inner', on = ['지표별(2)'])\n",
    "merge_data1 = pd.merge(merge_data1, dataset['e지방지표_관악구'], how = 'inner', on = ['지표별(2)'])\n",
    "merge_data1 = pd.merge(merge_data1, dataset['e지방지표_광진구'], how = 'inner', on = ['지표별(2)'])\n",
    "merge_data1 = pd.merge(merge_data1, dataset['e지방지표_구로구'], how = 'inner', on = ['지표별(2)'])\n",
    "merge_data1 = pd.merge(merge_data1, dataset['e지방지표_금천구'], how = 'inner', on = ['지표별(2)'])\n",
    "merge_data1 = pd.merge(merge_data1, dataset['e지방지표_노원구'], how = 'inner', on = ['지표별(2)'])\n",
    "merge_data1 = pd.merge(merge_data1, dataset['e지방지표_도봉구'], how = 'inner', on = ['지표별(2)'])\n",
    "merge_data1 = pd.merge(merge_data1, dataset['e지방지표_동대문구'], how = 'inner', on = ['지표별(2)'])\n",
    "merge_data1 = pd.merge(merge_data1, dataset['e지방지표_동작구'], how = 'inner', on = ['지표별(2)'])\n",
    "merge_data1 = pd.merge(merge_data1, dataset['e지방지표_마포구'], how = 'inner', on = ['지표별(2)'])\n",
    "merge_data1 = pd.merge(merge_data1, dataset['e지방지표_서대문구'], how = 'inner', on = ['지표별(2)'])\n",
    "merge_data1 = pd.merge(merge_data1, dataset['e지방지표_서초구'], how = 'inner', on = ['지표별(2)'])\n",
    "merge_data1 = pd.merge(merge_data1, dataset['e지방지표_성공구'], how = 'inner', on = ['지표별(2)'])\n",
    "merge_data1 = pd.merge(merge_data1, dataset['e지방지표_성북구'], how = 'inner', on = ['지표별(2)'])\n",
    "merge_data1 = pd.merge(merge_data1, dataset['e지방지표_송파구'], how = 'inner', on = ['지표별(2)'])\n",
    "merge_data1 = pd.merge(merge_data1, dataset['e지방지표_양천구'], how = 'inner', on = ['지표별(2)'])\n",
    "merge_data1 = pd.merge(merge_data1, dataset['e지방지표_영등포구'], how = 'inner', on = ['지표별(2)'])\n",
    "merge_data1 = pd.merge(merge_data1, dataset['e지방지표_용산구'], how = 'inner', on = ['지표별(2)'])\n",
    "merge_data1 = pd.merge(merge_data1, dataset['e지방지표_은평구'], how = 'inner', on = ['지표별(2)'])\n",
    "merge_data1 = pd.merge(merge_data1, dataset['e지방지표_종로구'], how = 'inner', on = ['지표별(2)'])\n",
    "merge_data1 = pd.merge(merge_data1, dataset['e지방지표_중구'], how = 'inner', on = ['지표별(2)'])\n",
    "merge_data1 = pd.merge(merge_data1, dataset['e지방지표_중랑구'], how = 'inner', on = ['지표별(2)'])\n",
    "merge_data1.head(1)"
   ]
  },
  {
   "cell_type": "code",
   "execution_count": null,
   "metadata": {},
   "outputs": [],
   "source": [
    "# 불필요 행 제거\n",
    "merge_data1 = merge_data1.drop(labels = 0)\n",
    "merge_data1.head(1)"
   ]
  },
  {
   "cell_type": "code",
   "execution_count": null,
   "metadata": {},
   "outputs": [],
   "source": [
    "# 인덱스 재설정\n",
    "merge_data1 = merge_data1.set_index('지표별(2)')\n",
    "merge_data1.head(1)"
   ]
  },
  {
   "cell_type": "code",
   "execution_count": null,
   "metadata": {},
   "outputs": [],
   "source": [
    "# 행, 열 변경\n",
    "merge_data1 = merge_data1.transpose()\n",
    "merge_data1.head(1)"
   ]
  },
  {
   "cell_type": "code",
   "execution_count": null,
   "metadata": {},
   "outputs": [],
   "source": [
    "# 인덱스 추가\n",
    "merge_data1 = merge_data1.reset_index()\n",
    "merge_data1.head()"
   ]
  },
  {
   "cell_type": "code",
   "execution_count": null,
   "metadata": {},
   "outputs": [],
   "source": [
    "# 열 이름 변경\n",
    "merge_data1 = merge_data1.rename(columns = {'index' : '자치구'})\n",
    "merge_data1.head(1)"
   ]
  },
  {
   "cell_type": "code",
   "execution_count": null,
   "metadata": {},
   "outputs": [],
   "source": [
    "# 자치구 이름에서 서울 제거\n",
    "merge_data1['자치구'] = merge_data1['자치구'].str.replace('서울 ', '')\n",
    "merge_data1.head(1)"
   ]
  },
  {
   "cell_type": "code",
   "execution_count": null,
   "metadata": {},
   "outputs": [],
   "source": [
    "# 서울 25개 자치구 통합 자료 내보내기\n",
    "merge_data1.to_csv('서울시_25개_구_데이터.csv', index = False)"
   ]
  },
  {
   "cell_type": "code",
   "execution_count": null,
   "metadata": {},
   "outputs": [],
   "source": [
    "# 서울 25개 자치구 통합 자료 불러오기 및 25개 사설학원 수 데이터 불러오기\n",
    "merge_data1 = pd.read_csv('서울시_25개_구_데이터.csv')\n",
    "df_aca = pd.read_csv('서울시_25개_구_학원수.csv')\n",
    "df_aca = df_aca.drop(['시점', '자치구별(1)'], axis = 1)\n",
    "df_aca = df_aca.drop(labels = 0)\n",
    "df_aca = df_aca.rename(columns = {'자치구별(2)' : '자치구'})\n",
    "df_aca.head(1)"
   ]
  },
  {
   "cell_type": "code",
   "execution_count": null,
   "metadata": {},
   "outputs": [],
   "source": [
    "# merge_data1와 25개 자치구 사설학원 수 데이터 합치기 = merge_data2\n",
    "merge_data2 = pd.merge(merge_data1, df_aca)\n",
    "merge_data2.head(1)"
   ]
  },
  {
   "cell_type": "code",
   "execution_count": null,
   "metadata": {},
   "outputs": [],
   "source": [
    "# 서울 25개 자치구 미성년자 자녀가 있는 가구수 데이터 불러오기\n",
    "# 불필요 행 제거 및 열 이름 변경\n",
    "df_chi = pd.read_csv('서울시_25개_구_미성년자가_있는_자녀수별_가구.csv', encoding = 'cp949')\n",
    "df_chi = df_chi.drop(labels = range(0, 2)).reset_index().drop(['index'], axis = 1)\n",
    "df_chi = df_chi.rename(columns = {'2021' : '자녀가 있는 가구수 (가구)', '행정구역별(시군구)' : '자치구'})\n",
    "df_chi.head(1)"
   ]
  },
  {
   "cell_type": "code",
   "execution_count": null,
   "metadata": {},
   "outputs": [],
   "source": [
    "# merge_data2와 25개 자치구 미성년자 자녀가 있는 가구수 합치기 = merge_data3\n",
    "merge_data3 = pd.merge(merge_data2, df_chi)\n",
    "merge_data3.head(1)"
   ]
  },
  {
   "cell_type": "code",
   "execution_count": null,
   "metadata": {},
   "outputs": [],
   "source": [
    "# 서울교통공사 지하철역 데이터 불러오기\n",
    "df_rail = pd.read_csv('서울교통공사 지하철역 주소 및 전화번호 정보.csv', encoding = 'cp949')\n",
    "df_rail"
   ]
  },
  {
   "cell_type": "code",
   "execution_count": null,
   "metadata": {},
   "outputs": [],
   "source": [
    "# 서울 주소지가 서울인 데이터 찾아서 저장\n",
    "df_rail = df_rail[df_rail['구주소'].apply(lambda x : x.startswith('서울'))]\n",
    "df_rail"
   ]
  },
  {
   "cell_type": "code",
   "execution_count": null,
   "metadata": {},
   "outputs": [],
   "source": [
    "# 주소 열 항목 값을 시와 구로 나눠서 각각 새로운 열 생성\n",
    "df_rail['시'] = df_rail['구주소'].apply(\n",
    "    lambda x: x.split(' ')[0])\n",
    "\n",
    "df_rail['지하철역수 (개)'] = df_rail['구주소'].apply(\n",
    "    lambda x: x.split(' ')[1])\n",
    "df_rail.head(1)"
   ]
  },
  {
   "cell_type": "code",
   "execution_count": null,
   "metadata": {},
   "outputs": [],
   "source": [
    "# 자치구별로 지하철역 개수 구하기\n",
    "df_rail_count = pd.DataFrame(df_rail['지하철역수 (개)'].value_counts())\n",
    "df_rail_count = df_rail_count.reset_index().rename(columns = {'index' : '자치구'})\n",
    "df_rail_count"
   ]
  },
  {
   "cell_type": "code",
   "execution_count": null,
   "metadata": {},
   "outputs": [],
   "source": [
    "# merge_data3과 25개 자치구 지하철 역 개수 합치기 = merge_data4\n",
    "merge_data4 = pd.merge(merge_data3, df_rail_count)\n",
    "merge_data4.head(1)"
   ]
  },
  {
   "cell_type": "code",
   "execution_count": null,
   "metadata": {},
   "outputs": [],
   "source": [
    "# 해법수학 공부방 크롤링 데이터 불러오기\n",
    "df_hb = pd.read_csv('hb.csv', encoding = 'cp949')\n",
    "df_hb"
   ]
  },
  {
   "cell_type": "code",
   "execution_count": null,
   "metadata": {},
   "outputs": [],
   "source": [
    "# 서울에 있는 해법수학 공부방만 분류\n",
    "df_hb = df_hb[df_hb['address'].apply(lambda x : x.startswith('서울'))]\n",
    "df_hb"
   ]
  },
  {
   "cell_type": "code",
   "execution_count": null,
   "metadata": {},
   "outputs": [],
   "source": [
    "# 주소 열 항목 값을 시와 구로 나눠서 각각 새로운 열 생성\n",
    "df_hb['시'] = df_hb['address'].apply(\n",
    "    lambda x: x.split(' ')[0])\n",
    "\n",
    "df_hb['해법수학공부방수 (개소)'] = df_hb['address'].apply(\n",
    "    lambda x: x.split(' ')[1])\n",
    "df_hb.head(1)"
   ]
  },
  {
   "cell_type": "code",
   "execution_count": null,
   "metadata": {},
   "outputs": [],
   "source": [
    "# 자치구별로 해법수학 공부방 개수 구하기\n",
    "df_hb_count = pd.DataFrame(df_hb['해법수학공부방수 (개소)'].value_counts())\n",
    "df_hb_count = df_hb_count.reset_index().rename(columns = {'index' : '자치구'})\n",
    "df_hb_count"
   ]
  },
  {
   "cell_type": "code",
   "execution_count": null,
   "metadata": {},
   "outputs": [],
   "source": [
    "# merge_data4과 25개 자치구별 해법수학 공부방 개수 합치기 = merge_data5\n",
    "merge_data5 = pd.merge(merge_data4, df_hb_count)\n",
    "merge_data5.head(1)"
   ]
  },
  {
   "cell_type": "code",
   "execution_count": null,
   "metadata": {},
   "outputs": [],
   "source": [
    "# 웅진스마트올_공부방 크롤링 데이터 불러오기\n",
    "df_woon = pd.read_csv('웅진스마트올_공부방_서울_위도_경도.csv')\n",
    "df_woon"
   ]
  },
  {
   "cell_type": "code",
   "execution_count": null,
   "metadata": {},
   "outputs": [],
   "source": [
    "# 주소 열 항목 값을 시와 구로 나눠서 각각 새로운 열 생성\n",
    "df_woon['시'] = df_woon['address'].apply(\n",
    "    lambda x: x.split(' ')[0])\n",
    "\n",
    "df_woon['웅진스마트올공부방수 (개소)'] = df_woon['address'].apply(\n",
    "    lambda x: x.split(' ')[1])\n",
    "df_woon.head(1)"
   ]
  },
  {
   "cell_type": "code",
   "execution_count": null,
   "metadata": {},
   "outputs": [],
   "source": [
    "# 구 이외 도로명 주소 찾기\n",
    "df_woon['웅진스마트올공부방수 (개소)'].value_counts()"
   ]
  },
  {
   "cell_type": "code",
   "execution_count": null,
   "metadata": {},
   "outputs": [],
   "source": [
    "# 예외 데이터 주소찾기\n",
    "df_woon[df_woon['웅진스마트올공부방수 (개소)'].isin(['양산로3길9'])]"
   ]
  },
  {
   "cell_type": "code",
   "execution_count": null,
   "metadata": {},
   "outputs": [],
   "source": [
    "# 예외 데이터 지도 검색 후 변경\n",
    "df_woon['웅진스마트올공부방수 (개소)'] = df_woon['웅진스마트올공부방수 (개소)'].str.replace('노원구수락산로234', '노원구')\n",
    "df_woon['웅진스마트올공부방수 (개소)'] = df_woon['웅진스마트올공부방수 (개소)'].str.replace('학동로', '강남구')\n",
    "df_woon['웅진스마트올공부방수 (개소)'] = df_woon['웅진스마트올공부방수 (개소)'].str.replace('월계로', '노원구')\n",
    "df_woon['웅진스마트올공부방수 (개소)'] = df_woon['웅진스마트올공부방수 (개소)'].str.replace('양산로3길9', '영등포구')"
   ]
  },
  {
   "cell_type": "code",
   "execution_count": null,
   "metadata": {},
   "outputs": [],
   "source": [
    "# 자치구별로 웅진스마트올 공부방 개수 구하기\n",
    "df_woon_count = pd.DataFrame(df_woon['웅진스마트올공부방수 (개소)'].value_counts())\n",
    "df_woon_count = df_woon_count.reset_index().rename(columns = {'index' : '자치구'})\n",
    "df_woon_count"
   ]
  },
  {
   "cell_type": "code",
   "execution_count": null,
   "metadata": {},
   "outputs": [],
   "source": [
    "# merge_data5과 25개 자치구별 웅진스마트올 공부방 개수 합치기 = merge_data6\n",
    "merge_data6 = pd.merge(merge_data5, df_woon_count)\n",
    "merge_data6.head(1)"
   ]
  },
  {
   "cell_type": "code",
   "execution_count": null,
   "metadata": {},
   "outputs": [],
   "source": [
    "# 최종 데이터 결과 내보내기\n",
    "merge_data6.to_csv('서울시_25개_구_데이터_최종.csv', index = False)"
   ]
  },
  {
   "cell_type": "code",
   "execution_count": null,
   "metadata": {},
   "outputs": [],
   "source": []
  }
 ],
 "metadata": {
  "kernelspec": {
   "display_name": "base",
   "language": "python",
   "name": "python3"
  },
  "language_info": {
   "codemirror_mode": {
    "name": "ipython",
    "version": 3
   },
   "file_extension": ".py",
   "mimetype": "text/x-python",
   "name": "python",
   "nbconvert_exporter": "python",
   "pygments_lexer": "ipython3",
   "version": "3.10.9"
  },
  "orig_nbformat": 4
 },
 "nbformat": 4,
 "nbformat_minor": 2
}
