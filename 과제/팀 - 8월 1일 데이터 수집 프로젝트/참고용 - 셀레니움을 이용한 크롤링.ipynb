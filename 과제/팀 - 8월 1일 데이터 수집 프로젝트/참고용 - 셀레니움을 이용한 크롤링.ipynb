{
 "cells": [
  {
   "cell_type": "code",
   "execution_count": null,
   "id": "0b487b27",
   "metadata": {},
   "outputs": [],
   "source": [
    "# 패키지 불러오기\n",
    "from selenium import webdriver\n",
    "import pandas as pd\n",
    "\n",
    "driver = webdriver.Chrome()\n",
    "\n",
    "# 검색어 입력 및 검색\n",
    "keyword = '서울 종로구 어학원'\n",
    "kakao_map_search_url = f\"https://map.kakao.com/?q={keyword}\"\n",
    "\n",
    "driver.get(kakao_map_search_url)\n",
    "driver.get(kakao_map_search_url)"
   ]
  },
  {
   "cell_type": "markdown",
   "id": "f11fa461",
   "metadata": {},
   "source": [
    "카카오맵에서는 업체명과 주소가 각각 //*[@id=\"info.search.place.list\"]/li[인덱스]/div[3]/strong/a[2] 와 //*[@id=\"info.search.place.list\"]/li[인덱스]/div[5]/div[2]/p[1] 라는 XPATH로 지정되어 있습니다. 그래서, 각각의 반복마다 인덱스 숫자를 늘려가면서 몇번째 업체명과 주소인지를 확인하고 복사하도록 반복문을 구축해 봤어요.\n",
    "\n",
    "그리고, 카카오맵은 첫 페이지에 페이지 이동 버튼이 보이지 않는다는 특징이 있습니다. 1페이지에서는 '장소 더보기' 라는 버튼을 눌러야 2페이지로 이동하고, 2페이지부터 특정 페이지로 이동할 수 있도록 구성되어 있습니다. 그래서, 더보기 버튼(XPATH 기준 //*[@id=\"info.search.place.more\"] )이 있다면 1페이지, 아니면 2페이지 이상으로 간주하고 해당 페이지에 맞는 동작을 취하도록 코드를 구성했습니다."
   ]
  },
  {
   "cell_type": "code",
   "execution_count": null,
   "id": "ead8c907",
   "metadata": {},
   "outputs": [],
   "source": [
    "ind = 1  # 현재 복사한 순서\n",
    "no = 1  # 1~5페이지 중 위치한 곳\n",
    "page = 1  # 현재 페이지 번호\n",
    "list1 = []  # 결과물이 저장되는 리스트\n",
    "\n",
    "while 1:\n",
    "    try:\n",
    "        # 업체명, 주소\n",
    "        title = driver.find_element(by='xpath',value = f'//*[@id=\"info.search.place.list\"]/li[{ind}]/div[3]/strong/a[2]').text\n",
    "        addr = driver.find_element(by='xpath',value = f'//*[@id=\"info.search.place.list\"]/li[{ind}]/div[5]/div[2]/p[1]').text\n",
    "        list1.append([title, addr])\n",
    "        \n",
    "        ind += 1\n",
    "        \n",
    "    except:\n",
    "        # 더보기 버튼 찾기\n",
    "        if driver.find_element(by='xpath',value = f'//*[@id=\"info.search.place.more\"]').is_displayed():\n",
    "            driver.find_element(by='xpath',value = f'//*[@id=\"info.search.place.more\"]').click()\n",
    "            no += 1\n",
    "            ind = 1\n",
    "            page += 1\n",
    "            continue\n",
    "\n",
    "        # 다음 페이지로 이동\n",
    "        elif no >= 5:\n",
    "            driver.find_element(by='xpath',value = f'//*[@id=\"info.search.page.next\"]').click()\n",
    "            no = 1\n",
    "            ind = 1\n",
    "            page += 1\n",
    "            continue\n",
    "            \n",
    "        # 5페이지 단위마다 다음 페이지 버튼 누르기\n",
    "        elif driver.find_element(by='xpath',value = f'//*[@id=\"info.search.page.no{no+1}\"]').is_displayed():\n",
    "            no += 1\n",
    "            driver.find_element(by='xpath',value = f'//*[@id=\"info.search.page.no{no}\"]').click()\n",
    "            ind = 1\n",
    "            page += 1\n",
    "            continue\n",
    "        \n",
    "        # 더이상 이동할수 없을 경우 종료\n",
    "        else:\n",
    "            break"
   ]
  },
  {
   "cell_type": "markdown",
   "id": "ad788e5d",
   "metadata": {},
   "source": [
    "위 코드로 업체 정보를 크롤링한 결과는 2차원 리스트의 형태로 저장되는데, 이는 파이썬에서 판다스 데이터프레임(Pandas DataFrame)으로 변환한다면 우리가 흔히 쓰는 표 형태로 이용할 수 있습니다. 이 다음에는 to_excel 함수 또는 to_csv 함수 등을 이용해서 xlsx 또는 csv 파일로 내보낼수도 있지요."
   ]
  },
  {
   "cell_type": "code",
   "execution_count": null,
   "id": "135aa44e",
   "metadata": {},
   "outputs": [],
   "source": [
    "pd.DataFrame(list1)"
   ]
  },
  {
   "cell_type": "code",
   "execution_count": 5,
   "id": "79db006c",
   "metadata": {},
   "outputs": [],
   "source": [
    "for i in range(10):\n",
    "    globals()[f'var_{i}'] = i"
   ]
  },
  {
   "cell_type": "code",
   "execution_count": 6,
   "id": "2fdb83e6",
   "metadata": {},
   "outputs": [
    {
     "data": {
      "text/plain": [
       "0"
      ]
     },
     "execution_count": 6,
     "metadata": {},
     "output_type": "execute_result"
    }
   ],
   "source": [
    "var_0"
   ]
  },
  {
   "cell_type": "code",
   "execution_count": 7,
   "id": "536f6336",
   "metadata": {},
   "outputs": [
    {
     "data": {
      "text/plain": [
       "5"
      ]
     },
     "execution_count": 7,
     "metadata": {},
     "output_type": "execute_result"
    }
   ],
   "source": [
    "var_5"
   ]
  },
  {
   "cell_type": "code",
   "execution_count": null,
   "id": "07bd42a0",
   "metadata": {},
   "outputs": [],
   "source": []
  }
 ],
 "metadata": {
  "kernelspec": {
   "display_name": "Python 3 (ipykernel)",
   "language": "python",
   "name": "python3"
  },
  "language_info": {
   "codemirror_mode": {
    "name": "ipython",
    "version": 3
   },
   "file_extension": ".py",
   "mimetype": "text/x-python",
   "name": "python",
   "nbconvert_exporter": "python",
   "pygments_lexer": "ipython3",
   "version": "3.10.9"
  }
 },
 "nbformat": 4,
 "nbformat_minor": 5
}
