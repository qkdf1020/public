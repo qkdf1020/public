{
 "cells": [
  {
   "cell_type": "code",
   "execution_count": null,
   "metadata": {},
   "outputs": [],
   "source": [
    "# python 3.10.9에서 작성 되었습니다."
   ]
  },
  {
   "cell_type": "markdown",
   "metadata": {},
   "source": [
    "### KDT\n",
    "#### 1. Python 데이터분석: 예측모델 개발\n",
    "\n",
    "- 데이터 : 밀크티 초등 각 학년별 10000명으로 총 60000명의 데이터\n",
    "\n",
    "\n",
    "- 분석 결과\n",
    "    - 전체 60000명 중 이탈자는 총 932명이고 그중 가장 이탈자가 많은 학년은 6학년으로 221명의 이탈자가 있으며 이탈 이유로는 본격적으로 학원을 다니며 중학교 교육 과정의 선행 학습으로 판단된다.\n",
    "\n",
    "    - 전체 이탈자 932명중 신규 구매자는 639명, 재구매자는 293명으로 확인되며, 1, 2학년 학생들의 경우 이탈자의 약 80 ~ 90% 정도가 신규 구매자이며, 3, 4학년의 경우 약 30%, 5, 6학년의 경우 약 45 ~ 50% 정도로의 비율을 보인다.\n",
    "\n",
    "    - 전체 학생들의 대상으로 이탈 예측을 했을 경우 기능 중요도(Feature importance)에서 누적 수금액과 누적 유료 학습 일 수가 다른 항목들의 합보다 2, 3배 이상의 중요도를 보이고 있는 것으로 보이고 있다.\n",
    "\n",
    "    - 이는 이용자 본인이 결제를 해여 사용하는 것이 아니라 학부모들의 결제와 의견이 학생들의 학습일수와 학습시간, 획득점수 보다 큰 영향을 주는 것을 보인다.\n",
    "\n",
    "    - 따라서 신규 구매자들의 이탈이 가장 많은 1, 2학년 구간에서 이탈자를 최소화 한다면 3, 4, 5, 6학년 까지는 장기적으로 밀크티 초등 서비스를 장기적으로 이용할 것으로 보인다.\n",
    "    "
   ]
  },
  {
   "cell_type": "markdown",
   "metadata": {},
   "source": [
    "#### 2. 데이터 불러오기 및 전처리"
   ]
  },
  {
   "cell_type": "code",
   "execution_count": null,
   "metadata": {},
   "outputs": [],
   "source": [
    "# 시작할 때 사용할 패키지\n",
    "import pandas as pd\n",
    "import numpy as np\n",
    "import re\n",
    "import os\n",
    "\n",
    "# 시각화\n",
    "import matplotlib.pyplot as plt\n",
    "import seaborn as sns\n",
    "import plotly.express as px\n",
    "\n",
    "from scipy import stats\n",
    "from statannot import add_stat_annotation\n",
    "\n",
    "# 그래프 한글 표시 요류 관련 해결 방법\n",
    "plt.rc('font', family = 'Malgun Gothic')\n",
    "\n",
    "# 그래프 사이즈 지정\n",
    "plt.rcParams['figure.figsize'] = [12, 8]\n",
    "\n",
    "# 그래프 타이틀 한글 출력\n",
    "plt.rcParams['font.family'] = 'Malgun Gothic'"
   ]
  },
  {
   "cell_type": "code",
   "execution_count": null,
   "metadata": {},
   "outputs": [],
   "source": [
    "# 현재 프로세스의 작업 디렉토리 확인\n",
    "cur_dir = os.getcwd()\n",
    "print('현재 프로세스의 작업 디렉토리 : ', cur_dir)\n",
    "\n",
    "# 현재 작업파일의 경로에 있는 리스트 확인 -> 리스트로 반환\n",
    "dir_list = os.listdir(cur_dir)\n",
    "print(dir_list)\n",
    "\n",
    "# 지정된 경로의 디렉토리를 순차적으로 탐색 -> 주로 for문과 활용\n",
    "for curDir, dirs, files in os.walk(cur_dir):\n",
    "    print(curDir, dirs, files)\n",
    "    for f in files :\n",
    "        print(os.path.join(curDir, f))"
   ]
  },
  {
   "cell_type": "code",
   "execution_count": null,
   "metadata": {},
   "outputs": [],
   "source": [
    "# 데이터 읽어 오기\n",
    "# 파일명: churn_data.csv\n",
    "churn_data = pd.read_csv('c:/Users/qkdf1/Documents/Documents/230807/data/churn_data.csv', index_col = 0)\n",
    "churn_data.head(1)\n",
    "# 60000 rows × 13 columns"
   ]
  },
  {
   "cell_type": "code",
   "execution_count": null,
   "metadata": {},
   "outputs": [],
   "source": [
    "# 데이터 기본 확인 (전체 레코드 수, 컬럼명 등)\n",
    "churn_data.info()\n",
    "# 60000 rows × 13 columns"
   ]
  },
  {
   "cell_type": "code",
   "execution_count": null,
   "metadata": {},
   "outputs": [],
   "source": [
    "# 결측치 확인\n",
    "null_check_df = churn_data\n",
    "null_cnt_df = pd.DataFrame(null_check_df.isnull().sum()).rename(columns = {0:'null_count'}).reset_index()\n",
    "null_cnt_df['null_ratio'] = round(null_cnt_df['null_count']/len(null_check_df) * 100, 2)\n",
    "null_cnt_df"
   ]
  },
  {
   "cell_type": "code",
   "execution_count": null,
   "metadata": {},
   "outputs": [],
   "source": [
    "# grade_sect_cd 컬럼 확인\n",
    "churn_data['grade_sect_cd'].unique()"
   ]
  },
  {
   "cell_type": "markdown",
   "metadata": {},
   "source": [
    "#### grade_sect_cd을 숫자만 뺴서 grade로 저장"
   ]
  },
  {
   "cell_type": "code",
   "execution_count": null,
   "metadata": {},
   "outputs": [],
   "source": [
    "def change_value(values):\n",
    "    if values == 'G011':\n",
    "        return 1\n",
    "    elif values == 'G012':\n",
    "        return 2\n",
    "    elif values == 'G013':\n",
    "        return 3\n",
    "    elif values == 'G014':\n",
    "        return 4\n",
    "    elif values == 'G015':\n",
    "        return 5\n",
    "    elif values == 'G016':\n",
    "        return 6"
   ]
  },
  {
   "cell_type": "code",
   "execution_count": null,
   "metadata": {},
   "outputs": [],
   "source": [
    "churn_data['grade'] = churn_data['grade_sect_cd'].apply(change_value).astype('int64')\n",
    "churn_data.head(1)"
   ]
  },
  {
   "cell_type": "markdown",
   "metadata": {},
   "source": [
    "#### label의 값을 이탈, 미이탈로 변경하여 label_re로 저장"
   ]
  },
  {
   "cell_type": "code",
   "execution_count": null,
   "metadata": {},
   "outputs": [],
   "source": [
    "def change_value(values):\n",
    "    if values == 0 :\n",
    "        return '미이탈'\n",
    "    elif values == 1 :\n",
    "        return '이탈'"
   ]
  },
  {
   "cell_type": "code",
   "execution_count": null,
   "metadata": {},
   "outputs": [],
   "source": [
    "churn_data['label_re'] = churn_data['label'].apply(change_value)\n",
    "churn_data.head(1)"
   ]
  },
  {
   "cell_type": "markdown",
   "metadata": {},
   "source": [
    "#### re_purch의 값을 신규, 재구매로 바꾸어 re_purch_re로 저장"
   ]
  },
  {
   "cell_type": "code",
   "execution_count": null,
   "metadata": {},
   "outputs": [],
   "source": [
    "def change_value(values):\n",
    "    if values == False :\n",
    "        return '신규'\n",
    "    elif values == True :\n",
    "        return '재구매'"
   ]
  },
  {
   "cell_type": "code",
   "execution_count": null,
   "metadata": {},
   "outputs": [],
   "source": [
    "churn_data['re_purch_re'] = churn_data['re_purch'].apply(change_value)\n",
    "churn_data.head(1)"
   ]
  },
  {
   "cell_type": "markdown",
   "metadata": {},
   "source": [
    "#### re_purch의 값을 1, 0으로 변경"
   ]
  },
  {
   "cell_type": "code",
   "execution_count": null,
   "metadata": {},
   "outputs": [],
   "source": [
    "def change_value(values):\n",
    "    if values == True :\n",
    "        return 1\n",
    "    elif values == False :\n",
    "        return 0"
   ]
  },
  {
   "cell_type": "code",
   "execution_count": null,
   "metadata": {},
   "outputs": [],
   "source": [
    "churn_data['re_purch'] = churn_data['re_purch'].apply(change_value)\n",
    "churn_data.head(1)"
   ]
  },
  {
   "cell_type": "code",
   "execution_count": null,
   "metadata": {},
   "outputs": [],
   "source": [
    "# 전체 학생들의 신규, 재구매 수\n",
    "churn_data['re_purch'].value_counts()"
   ]
  },
  {
   "cell_type": "code",
   "execution_count": null,
   "metadata": {},
   "outputs": [],
   "source": [
    "# 이탈자만 따로 빼서 데이터 프레임으로 만들기\n",
    "churn_data_이탈 = churn_data[churn_data['label_re'] == '이탈']\n",
    "churn_data_이탈.head(1)"
   ]
  },
  {
   "cell_type": "code",
   "execution_count": null,
   "metadata": {},
   "outputs": [],
   "source": [
    "# 전체 이탈자의 신규, 재구매 수\n",
    "churn_data_이탈['re_purch_re'].value_counts()"
   ]
  },
  {
   "cell_type": "code",
   "execution_count": null,
   "metadata": {},
   "outputs": [],
   "source": [
    "# 학년별 이탈자 수\n",
    "churn_data_이탈['grade'].value_counts()"
   ]
  },
  {
   "cell_type": "markdown",
   "metadata": {},
   "source": [
    "### 학년별 이탈자의 신규, 재구매 수 시각화"
   ]
  },
  {
   "cell_type": "code",
   "execution_count": null,
   "metadata": {},
   "outputs": [],
   "source": [
    "sns.countplot(data = churn_data_이탈, x = 'grade', hue = 're_purch_re', hue_order = ['신규', '재구매'])\n",
    "plt.xticks(ticks = [0, 1, 2, 3, 4, 5], labels = ['1학년', '2학년', '3학년', '4학년', '5학년', '6학년'])\n",
    "plt.ylabel('학생 수')\n",
    "plt.title('학년별 이탈자의 신규, 재구매 수')"
   ]
  },
  {
   "cell_type": "markdown",
   "metadata": {},
   "source": [
    "### 성별 미이탈 & 이탈"
   ]
  },
  {
   "cell_type": "code",
   "execution_count": null,
   "metadata": {},
   "outputs": [],
   "source": [
    "# 학습 데이터, 레이블 (label) 분리\n",
    "\n",
    "# 'grade_sect_cd' 값 -> 1, 2, 3, 4, 5, 6 으로 치환 -> 'grade' 컬럼 구성\n",
    "\n",
    "# 필요 컬럼만 가져오기 (X : 학습 데이터, y: 레이블)\n",
    "x = churn_data[['grade',\n",
    "               'tmon_pchrg_lrn_dcnt',\n",
    "               'acmlt_pchrg_lrn_dcnt',\n",
    "               'acmlt_bilclct_amt',\n",
    "               'correct_rate_avg',\n",
    "               'learning_time_avg',\n",
    "               'media_action_cnt_sum',\n",
    "               'non_video_viewed_cnt_sum',\n",
    "               'get_mm_point_sum',\n",
    "               're_purch']]\n",
    "\n",
    "y = churn_data['label']"
   ]
  },
  {
   "cell_type": "code",
   "execution_count": null,
   "metadata": {},
   "outputs": [],
   "source": [
    "# Train, Test 데이터 분리 (이탈 미이탈 값 확인)\n",
    "from sklearn.model_selection import train_test_split\n",
    "\n",
    "X_train, X_test, y_train, y_test = train_test_split(x, y, test_size = 0.2, random_state = 42)\n",
    "\n",
    "print('[Trian] 전체 :{}, 이탈 : {}, 미이탈 {}'.format(len(X_train), y_train[y_train == 1].shape[0], y_train[y_train == 0].shape[0]))\n",
    "print('[test] 전체 :{}, 이탈 : {}, 미이탈 {}'.format(len(X_test), y_test[y_test == 1].shape[0], y_test[y_test == 0].shape[0]))"
   ]
  },
  {
   "cell_type": "code",
   "execution_count": null,
   "metadata": {},
   "outputs": [],
   "source": [
    "# LGBM 모델 학습\n",
    "# pip install lightgbm\n",
    "from lightgbm import LGBMClassifier\n",
    "LGBMC_model = LGBMClassifier(random_state = 0, verbose = -1)\n",
    "LGBMC_model.fit(X_train, y_train)"
   ]
  },
  {
   "cell_type": "code",
   "execution_count": null,
   "metadata": {},
   "outputs": [],
   "source": [
    "# 예측 결과\n",
    "# 예측 및 결과\n",
    "y_pred = LGBMC_model.predict(X_test)\n",
    "y_pred = list(y_pred)\n",
    "print('[Predict] 이탈 : {}, 미이탈 : {}'.format(y_pred.count(1), y_pred.count(0)))\n",
    "# y_test : 결과 값 (실제 값)"
   ]
  },
  {
   "cell_type": "code",
   "execution_count": null,
   "metadata": {},
   "outputs": [],
   "source": [
    "# Accuracy 측정\n",
    "from sklearn.metrics import accuracy_score\n",
    "accuracy_score(y_test, y_pred)"
   ]
  },
  {
   "cell_type": "code",
   "execution_count": null,
   "metadata": {},
   "outputs": [],
   "source": [
    "# precision, recall, f1 score 측정\n",
    "from sklearn.metrics import precision_recall_fscore_support\n",
    "precision_recall_fscore_support(y_test, y_pred, average = 'binary')"
   ]
  },
  {
   "cell_type": "code",
   "execution_count": null,
   "metadata": {},
   "outputs": [],
   "source": [
    "# 영향도 (주요 변수 시각화)\n",
    "from lightgbm import plot_importance\n",
    "import matplotlib.pyplot as plt\n",
    "%matplotlib inline\n",
    "\n",
    "fig, ax = plt.subplots(figsize = (5, 5))\n",
    "plot_importance(LGBMC_model, ax = ax)"
   ]
  },
  {
   "cell_type": "code",
   "execution_count": null,
   "metadata": {},
   "outputs": [],
   "source": []
  },
  {
   "cell_type": "code",
   "execution_count": null,
   "metadata": {},
   "outputs": [],
   "source": [
    "def churn_model(grade_df, grade_name = '1') :\n",
    "    \n",
    "    x = grade_df[['tmon_pchrg_lrn_dcnt',\n",
    "                  'acmlt_pchrg_lrn_dcnt',\n",
    "                  'acmlt_bilclct_amt',\n",
    "                  'correct_rate_avg',\n",
    "                  'learning_time_avg',\n",
    "                  'media_action_cnt_sum',\n",
    "                  'non_video_viewed_cnt_sum',\n",
    "                  'get_mm_point_sum',\n",
    "                  're_purch']]\n",
    "    \n",
    "    y = grade_df['label']\n",
    "    \n",
    "    # Train, Test 데이터 분리 (이탈 미이탈 값 확인)\n",
    "    X_train, X_test, y_train, y_test = train_test_split(x, y, test_size = 0.2, random_state = 42)\n",
    "    print('[Trian] {}학년, 전체 : {}, 이탈 : {}, 미이탈 {}'.format(grade_name, len(X_train), y_train[y_train == 1].shape[0], y_train[y_train == 0].shape[0]))\n",
    "    print('[test] {}학년, 전체 : {}, 이탈 : {}, 미이탈 {}'.format(grade_name, len(X_test), y_test[y_test == 1].shape[0], y_test[y_test == 0].shape[0]))\n",
    "\n",
    "    # LGBM 모델 학습\n",
    "    LGBMC_model = LGBMClassifier(random_state = 0, verbose = -1)\n",
    "    LGBMC_model.fit(X_train, y_train)\n",
    "\n",
    "    # 예측 및 결과\n",
    "    y_pred = LGBMC_model.predict(X_test)\n",
    "    y_pred = list(y_pred)\n",
    "    print('[Predict] {}학년, 이탈 : {}, 미이탈 {}'.format(grade_name, y_pred.count(1), y_pred.count(0)))\n",
    "\n",
    "    # Accuracy 측정\n",
    "    acc = accuracy_score(y_test, y_pred)\n",
    "    \n",
    "    # precision, recall, f1 score 측정\n",
    "    pre, re, f1, _ = precision_recall_fscore_support(y_test, y_pred, average = 'binary')\n",
    "    print('{}학년, acc : {}, precision : {}, recall : {}, f1 : {}'.format(grade_name, acc, pre, re, f1))\n",
    "    \n",
    "    # 영향도 (주요 변수 시각화)\n",
    "    fig, ax = plt.subplots(figsize = (5, 5))\n",
    "    plot_importance(LGBMC_model, ax = ax)\n",
    "    plt.title('{}학년 Feature Importance'.format(grade_name))\n",
    "    plt.show()\n",
    "    return"
   ]
  },
  {
   "cell_type": "code",
   "execution_count": null,
   "metadata": {},
   "outputs": [],
   "source": [
    "# 실행부 구성\n",
    "for grade in range(1, 7) :\n",
    "    grade_df = churn_data[churn_data['grade'] == grade]\n",
    "    churn_model(grade_df, grade_name = str(grade))"
   ]
  },
  {
   "cell_type": "code",
   "execution_count": null,
   "metadata": {},
   "outputs": [],
   "source": []
  }
 ],
 "metadata": {
  "kernelspec": {
   "display_name": "base",
   "language": "python",
   "name": "python3"
  },
  "language_info": {
   "codemirror_mode": {
    "name": "ipython",
    "version": 3
   },
   "file_extension": ".py",
   "mimetype": "text/x-python",
   "name": "python",
   "nbconvert_exporter": "python",
   "pygments_lexer": "ipython3",
   "version": "3.10.9"
  },
  "orig_nbformat": 4
 },
 "nbformat": 4,
 "nbformat_minor": 2
}
