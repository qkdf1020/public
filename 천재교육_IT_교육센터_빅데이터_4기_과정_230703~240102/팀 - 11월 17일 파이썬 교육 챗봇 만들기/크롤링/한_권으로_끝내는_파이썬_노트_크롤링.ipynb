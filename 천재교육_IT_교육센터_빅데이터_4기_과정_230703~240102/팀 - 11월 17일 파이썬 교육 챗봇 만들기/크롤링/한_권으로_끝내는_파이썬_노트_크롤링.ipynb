{
 "cells": [
  {
   "cell_type": "code",
   "execution_count": null,
   "metadata": {},
   "outputs": [],
   "source": [
    "# python 3.10.9에서 작성 되었습니다."
   ]
  },
  {
   "cell_type": "markdown",
   "metadata": {},
   "source": [
    "# 택스트 크롤링"
   ]
  },
  {
   "cell_type": "code",
   "execution_count": null,
   "metadata": {},
   "outputs": [],
   "source": [
    "//*[@id=\"load_content\"]/div[4]\n",
    "\n",
    "/html/body/div/div[1]/div[1]/div/div/div[1]/div[2]/a[3]/span/span\n",
    "\n",
    "/html/body/div/div[1]/div[1]/div/div/div[1]/div[2]/a[68]/span/span"
   ]
  },
  {
   "cell_type": "code",
   "execution_count": null,
   "metadata": {},
   "outputs": [],
   "source": [
    "# 패키지 불러오기\n",
    "from selenium import webdriver\n",
    "from selenium.webdriver.common.keys import Keys\n",
    "from selenium.webdriver.common.by import By\n",
    "import json\n",
    "import time\n",
    "import random\n",
    "\n",
    "# 최소 및 최대 대기 시간 설정 (예: 'min_wait초 에서 'max_wait'초 사이의 랜덤 대기)\n",
    "min_wait = 2  # 최소 대기 시간 (초)\n",
    "max_wait = 4  # 최대 대기 시간 (초)\n",
    "\n",
    "# 랜덤 대기 시간 생성\n",
    "random_wait = random.uniform(min_wait, max_wait)\n",
    "\n",
    "no = 3  # 페이지 번호 컨트롤\n",
    "page_l = 68 # 페이지 리미트 설정\n",
    "list_1 = [] # 결과물이 저장되는 리스트\n",
    "\n",
    "book_name = '한_권으로_끝내는_파이썬_노트'\n",
    "\n",
    "driver = webdriver.Chrome()\n",
    "driver.get('https://wikidocs.net/137155')\n",
    "\n",
    "time.sleep(random_wait)  # import time\n",
    "\n",
    "while True:\n",
    "    try:\n",
    "        # 텍스트 가져오기\n",
    "        instruction_1 = driver.find_element(by = 'xpath', \\\n",
    "            value = f'//*[@id=\"load_content\"]/h1').text\n",
    "        output = driver.find_element(by = 'xpath', \\\n",
    "            value = f'//*[@id=\"load_content\"]/div[4]').text\n",
    "        \n",
    "        # instruction 앞 숫자 제거\n",
    "        try :\n",
    "            instruction_2 = instruction_1.split(' ', 1)[1]\n",
    "        \n",
    "        except :\n",
    "            pass\n",
    "        \n",
    "        # 특정 목록 넘어가기\n",
    "        if instruction_1.startswith('ㄴ연습문제') == True:\n",
    "            pass\n",
    "        \n",
    "        else :\n",
    "            list_1.append({\n",
    "                'instruction': instruction_2,\n",
    "                'output': output\n",
    "            })\n",
    "            with open(f'../json/{book_name}.json', 'w', encoding='utf-8') as json_file:\n",
    "                json.dump(list_1, json_file, ensure_ascii=False, indent=4)\n",
    "                print(f\"'{instruction_1}'까지 중간 저장 성공\")\n",
    "        \n",
    "        time.sleep(random_wait)  # import time\n",
    "        \n",
    "        if no > page_l:\n",
    "            break\n",
    "        else:\n",
    "            driver.find_element(by = 'xpath', \\\n",
    "                value = f'/html/body/div/div[1]/div[1]/div/div/div[1]/div[2]/a[{no}]/span/span').click()\n",
    "        \n",
    "            no += 1\n",
    "\n",
    "    except Exception as e:\n",
    "        print(e)"
   ]
  },
  {
   "cell_type": "code",
   "execution_count": null,
   "metadata": {},
   "outputs": [],
   "source": []
  }
 ],
 "metadata": {
  "kernelspec": {
   "display_name": "mecab",
   "language": "python",
   "name": "python3"
  },
  "language_info": {
   "codemirror_mode": {
    "name": "ipython",
    "version": 3
   },
   "file_extension": ".py",
   "mimetype": "text/x-python",
   "name": "python",
   "nbconvert_exporter": "python",
   "pygments_lexer": "ipython3",
   "version": "3.10.9"
  }
 },
 "nbformat": 4,
 "nbformat_minor": 2
}
