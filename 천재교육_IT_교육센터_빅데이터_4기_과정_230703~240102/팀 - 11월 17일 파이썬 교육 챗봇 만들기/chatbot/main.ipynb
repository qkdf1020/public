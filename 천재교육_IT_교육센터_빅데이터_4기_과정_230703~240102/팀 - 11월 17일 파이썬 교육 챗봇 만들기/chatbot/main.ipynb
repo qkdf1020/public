{
 "cells": [
  {
   "cell_type": "code",
   "execution_count": null,
   "metadata": {},
   "outputs": [],
   "source": [
    "# pip install bardapi"
   ]
  },
  {
   "cell_type": "code",
   "execution_count": null,
   "metadata": {},
   "outputs": [],
   "source": [
    "# pip install google-generativeai"
   ]
  },
  {
   "cell_type": "code",
   "execution_count": null,
   "metadata": {},
   "outputs": [],
   "source": [
    "# pip install openai"
   ]
  },
  {
   "cell_type": "code",
   "execution_count": 1,
   "metadata": {},
   "outputs": [
    {
     "name": "stderr",
     "output_type": "stream",
     "text": [
      "c:\\Users\\qkdf1\\.conda\\envs\\bot\\lib\\site-packages\\tqdm\\auto.py:21: TqdmWarning: IProgress not found. Please update jupyter and ipywidgets. See https://ipywidgets.readthedocs.io/en/stable/user_install.html\n",
      "  from .autonotebook import tqdm as notebook_tqdm\n"
     ]
    }
   ],
   "source": [
    "import API"
   ]
  },
  {
   "cell_type": "code",
   "execution_count": 2,
   "metadata": {},
   "outputs": [
    {
     "name": "stdout",
     "output_type": "stream",
     "text": [
      "'palm'의 답변\n",
      "\n",
      "Python is a general-purpose, high-level programming language. Its design philosophy emphasizes code readability with its notable use of significant whitespace. Its language concept and object-oriented approach aim to help programmers write clear, logical code for small and large-scale projects.\n",
      "\n",
      "Python is becoming increasingly popular for data science and machine learning, due to its large standard library of modules for scientific and numerical computing. It is also used in web development, system scripting, and game development.\n",
      "\n",
      "Python is a free and open-source language, which means that it is available to everyone to use and modify. This has helped to make it one of the most popular programming languages in the world.\n",
      "\n",
      "Here are some of the benefits of using Python:\n",
      "\n",
      "* It is easy to learn and use.\n",
      "* It is a general-purpose language, which means that it can be used for a variety of tasks.\n",
      "* It has a large and active community of users and developers.\n",
      "* It is free and open-source.\n",
      "\n",
      "If you are looking for a programming language that is easy to learn, versatile, and has a large community of users, then Python is a good choice.\n"
     ]
    }
   ],
   "source": [
    "# 무료 영어 질문 답변\n",
    "API.palm_api_en(\"what is python?\")"
   ]
  },
  {
   "cell_type": "code",
   "execution_count": 3,
   "metadata": {},
   "outputs": [
    {
     "name": "stdout",
     "output_type": "stream",
     "text": [
      "'palm'의 답변\n",
      "\n",
      "파이썬은 범용의 고급 프로그래밍 언어이다. 그 디자인 철학은 상당한 공간을 사용하여 코드 가독성을 강조한다. 그 언어 개념과 객체 지향 접근법은 프로그래머들이 소규모 및 대규모 프로젝트를 위한 명확하고 논리적인 코드를 작성할 수 있도록 돕는 것을 목표로 한다.\n",
      "\n",
      "파이썬은 과학 및 수치 컴퓨팅 패키지의 큰 라이브러리로 인해 데이터 과학 및 기계 학습용으로 점점 인기를 얻고 있다. 웹 개발, 시스템 스크립팅 및 게임 개발에도 사용됩니다.\n",
      "\n",
      "파이썬은 자유롭고 개방적인 언어로, 누구나 사용하고 수정할 수 있다는 것을 의미한다. 이를 통해 세계에서 가장 인기 있는 프로그래밍 언어 중 하나가 되었습니다.\n",
      "\n",
      "Python을 사용하면 얻을 수 있는 몇 가지 이점은 다음과 같습니다:\n",
      "\n",
      "* 쉽게 배우고 사용할 수 있습니다.\n",
      "* 범용 언어이므로 다양한 작업에 사용할 수 있습니다.\n",
      "* 사용자와 개발자의 대규모 커뮤니티가 있습니다.\n",
      "* 자유롭고 오픈 소스입니다.\n",
      "* 복잡한 응용 프로그램을 만드는 데 사용할 수 있는 강력한 언어입니다.\n",
      "\n",
      "배우기 쉽고 다재다능하며 강력한 프로그래밍 언어를 찾고 있다면 파이썬이 좋은 옵션입니다.\n"
     ]
    }
   ],
   "source": [
    "# 무료 영어 질문 답변을 파파고로 번역 (하루 사용 제한 있음)\n",
    "API.palm_api_ko(\"파이썬이 뭐야?\")"
   ]
  },
  {
   "cell_type": "code",
   "execution_count": 4,
   "metadata": {},
   "outputs": [
    {
     "name": "stdout",
     "output_type": "stream",
     "text": [
      "'bard'의 답변\n",
      "\n",
      "파이썬은 1991년 네덜란드계 프로그래머 귀도 반 로섬이 설계한 고급 프로그래밍 언어입니다. 인터프리터 방식으로 동작하며, 객체 지향, 함수형 프로그래밍, 절차적 프로그래밍을 모두 지원합니다.\n",
      "[Image of 파이썬 프로그래밍 언어]\n",
      "\n",
      "파이썬은 다음과 같은 특징을 가지고 있습니다.\n",
      "\n",
      "* **간결하고 직관적인 문법:** 파이썬의 문법은 다른 프로그래밍 언어에 비해 간결하고 직관적입니다. 이는 파이썬을 처음 배우는 사람들도 쉽게 학습할 수 있도록 해줍니다.\n",
      "* **다양한 분야에서 사용 가능:** 파이썬은 웹 개발, 데이터 분석, 머신 러닝, 인공 지능 등 다양한 분야에서 사용되는 범용 프로그래밍 언어입니다.\n",
      "* **모바일, 데스크톱, 웹 등 다양한 플랫폼에서 사용 가능:** 파이썬은 플랫폼에 독립적이기 때문에 모바일, 데스크톱, 웹 등 다양한 플랫폼에서 사용할 수 있습니다.\n",
      "\n",
      "파이썬은 다음과 같은 분야에서 주로 사용됩니다.\n",
      "\n",
      "* **웹 개발:** 파이썬은 Django, Flask 등 다양한 웹 프레임워크를 지원하여 웹 개발에 널리 사용됩니다.\n",
      "* **데이터 분석:** 파이썬은 NumPy, Pandas, Matplotlib 등 다양한 데이터 분석 라이브러리를 지원하여 데이터 분석에 널리 사용됩니다.\n",
      "* **머신 러닝, 인공 지능:** 파이썬은 TensorFlow, PyTorch 등 다양한 머신 러닝, 인공 지능 라이브러리를 지원하여 머신 러닝, 인공 지능 분야에서 널리 사용됩니다.\n",
      "\n",
      "파이썬은 최근 몇 년 동안 인기가 급상승하고 있는 프로그래밍 언어입니다. 이는 파이썬이 다음과 같은 장점들을 가지고 있기 때문입니다.\n",
      "\n",
      "* **배우기 쉽고 사용하기 쉽습니다.**\n",
      "* **다양한 분야에서 사용 가능합니다.**\n",
      "* **모바일, 데스크톱, 웹 등 다양한 플랫폼에서 사용할 수 있습니다.**\n",
      "\n",
      "파이썬은 앞으로도 다양한 분야에서 더욱 폭넓게 사용될 것으로 전망됩니다.\n"
     ]
    }
   ],
   "source": [
    "# 1. bard의 키 발급(현재는 비공식)\n",
    "# 2. 시크릿 모드로 크롬 오픈\n",
    "# 3. 바드 사이트로 이동\n",
    "# 4. 구글 아이디로 로그인\n",
    "# 5. F12  > Application -> Storage -> Cookies -> 'https://bard.google.com'의 _Secure-1PSID 에 있는 값을 키값\n",
    "API.bard_api(\"파이썬이 뭐야?\")"
   ]
  },
  {
   "cell_type": "code",
   "execution_count": 5,
   "metadata": {},
   "outputs": [
    {
     "name": "stdout",
     "output_type": "stream",
     "text": [
      "'OpenAI'의 답변\n",
      "\n",
      "파이썬은 간결하고 사용하기 쉬운 객체지향 프로그래밍 언어입니다. 간단한 명령으로 다양한 작업을 쉽게 수행할 수 있도록 지\n"
     ]
    }
   ],
   "source": [
    "# 사용량 만큼 과금됨\n",
    "API.OpenAI_api(\"파이썬이 뭐야?\")"
   ]
  },
  {
   "cell_type": "code",
   "execution_count": 6,
   "metadata": {},
   "outputs": [],
   "source": [
    "import main"
   ]
  },
  {
   "cell_type": "code",
   "execution_count": 7,
   "metadata": {},
   "outputs": [
    {
     "name": "stdout",
     "output_type": "stream",
     "text": [
      "'bard'의 답변\n",
      "\n",
      "Python is a high-level, general-purpose programming language. It is a language that is designed to be easy to read and learn, and it is often used for tasks such as web development, data science, and software development.\n",
      "[Image of Python logo]\n",
      "\n",
      "Python is a very versatile language, and it can be used for a wide variety of tasks. Some of the most popular uses of Python include:\n",
      "\n",
      "* **Web development:** Python can be used to develop both back-end and front-end web applications. Some of the most popular web development frameworks for Python include Django, Flask, and Pyramid.\n",
      "* **Data science:** Python is a very popular language for data science. It has a number of powerful libraries for data analysis and visualization, such as NumPy, Pandas, and Matplotlib.\n",
      "* **Software development:** Python can be used to develop a wide variety of software applications. It is a popular choice for developing desktop applications, mobile applications, and games.\n",
      "* **System administration:** Python can be used to automate system administration tasks. It is a popular choice for writing scripts to manage servers, networks, and applications.\n",
      "* **Education:** Python is a popular language for teaching programming. It is a good choice for beginners because it is easy to read and learn.\n",
      "\n",
      "Python is a very popular programming language, and it is used by a wide variety of people. It is a good choice for beginners because it is easy to learn, and it is a powerful language that can be used for a wide variety of tasks.\n",
      "\n",
      "'OpenAI'의 답변\n",
      "\n",
      "Python is a programming language that is considered to be one of the most important languages used in software development. It is a high-level, interpreted, interactive, object-oriented and extensible programming language. Python code can be written in almost any text editor and can be used to create anything from basic scripts to complex applications.\n",
      "\n",
      "'palm'의 답변\n",
      "\n",
      "Python is a general-purpose, high-level programming language. Its design philosophy emphasizes code readability with its notable use of significant whitespace. Its language concept and object-oriented approach aim to help programmers write clear, logical code for small and large-scale projects.\n",
      "\n",
      "Python is becoming increasingly popular for data science and machine learning, due to its large library of scientific and numerical computing packages. It is also used for web development, system scripting, and game development.\n",
      "\n",
      "Python is a free and open-source language, which means that it is available to everyone to use and modify. This has helped to make it one of the most popular programming languages in the world.\n",
      "\n",
      "Here are some of the benefits of using Python:\n",
      "\n",
      "* It is easy to learn and use.\n",
      "* It is a general-purpose language, which means that it can be used for a variety of tasks.\n",
      "* It has a large community of users and developers.\n",
      "* It is free and open-source.\n",
      "\n",
      "If you are looking for a programming language that is easy to learn, versatile, and has a large community of users, then Python is a great option.\n"
     ]
    }
   ],
   "source": [
    "main.questions_en(\"what is python?\")"
   ]
  },
  {
   "cell_type": "code",
   "execution_count": 8,
   "metadata": {},
   "outputs": [
    {
     "name": "stdout",
     "output_type": "stream",
     "text": [
      "'bard'의 답변\n",
      "\n",
      "파이썬은 1991년 네덜란드계 프로그래머 귀도 반 로섬(Guido van Rossum)이 개발한 고급 프로그래밍 언어입니다. 파이썬은 배우기 쉽고 읽기 쉽고 사용하기 쉬운 것으로 유명합니다. 또한, 파이썬은 강력하고 유연하며 다양한 용도로 사용할 수 있습니다.\n",
      "\n",
      "파이썬은 다음과 같은 특징을 가지고 있습니다.\n",
      "\n",
      "* **객체 지향 언어:** 파이썬은 객체 지향 프로그래밍을 지원합니다. 객체 지향 프로그래밍은 프로그램의 구성 요소를 객체로 모델링하는 방법입니다.\n",
      "[Image of 객체 지향 프로그래밍]\n",
      "* **인터프리터 언어:** 파이썬은 인터프리터 언어입니다. 인터프리터 언어는 컴퓨터가 코드를 실행하기 전에 코드를 컴파일할 필요가 없습니다.\n",
      "[Image of 인터프리터 언어]\n",
      "* **동적 타이핑 언어:** 파이썬은 동적 타이핑 언어입니다. 동적 타이핑 언어는 변수의 데이터 유형을 선언할 필요가 없습니다.\n",
      "[Image of 동적 타이핑 언어]\n",
      "* **플랫폼 독립 언어:** 파이썬은 플랫폼 독립 언어입니다. 플랫폼 독립 언어는 여러 운영 체제에서 실행할 수 있습니다.\n",
      "[Image of 플랫폼 독립 언어]\n",
      "\n",
      "파이썬은 다양한 용도로 사용할 수 있습니다. 다음은 파이썬의 몇 가지 일반적인 용도입니다.\n",
      "\n",
      "* **웹 개발:** 파이썬은 Django, Flask, Pyramid와 같은 인기 있는 웹 프레임워크를 지원합니다.\n",
      "[Image of Django 웹 프레임워크]\n",
      "[Image of Flask 웹 프레임워크]\n",
      "[Image of 피라미드 웹 프레임워크]\n",
      "* **데이터 분석:** 파이썬은 NumPy, Pandas, Scikit-Learn과 같은 인기 있는 데이터 분석 라이브러리를 지원합니다.\n",
      "[Image of NumPy 라이브러리]\n",
      "[Image of 판다스 라이브러리]\n",
      "[Image of Scikit-Learn 라이브러리]\n",
      "* **머신 러닝:** 파이썬은 TensorFlow, PyTorch, scikit-learn과 같은 인기 있는 머신 러닝 라이브러리를 지원합니다.\n",
      "[Image of TensorFlow 라이브러리]\n",
      "[Image of PyTorch 라이브러리]\n",
      "* **게임 개발:** 파이썬은 PyGame, Pyglet, Panda3D와 같은 인기 있는 게임 개발 라이브러리를 지원합니다.\n",
      "[Image of PyGame 라이브러리]\n",
      "[Image of Pyglet 라이브러리]\n",
      "[Image of Panda3D 라이브러리]\n",
      "\n",
      "파이썬은 현재 가장 인기 있는 프로그래밍 언어 중 하나입니다. 배우기 쉽고 사용하기 쉽고 다양한 용도로 사용할 수 있기 때문입니다.\n",
      "\n",
      "'OpenAI'의 답변\n",
      "\n",
      "파이썬은 인터프리터 언어로 인공지능, 머신러닝, 데이터 분석 등의 빅데이터 처리 방식에서 범용적으로 사용되는 프로그래\n",
      "\n",
      "'palm'의 답변\n",
      "\n",
      "파이썬은 범용의 고급 프로그래밍 언어이다. 그 디자인 철학은 상당한 공간을 사용하여 코드 가독성을 강조한다. 그 언어 개념과 객체 지향 접근법은 프로그래머들이 소규모 및 대규모 프로젝트를 위한 명확하고 논리적인 코드를 작성할 수 있도록 돕는 것을 목표로 한다.\n",
      "\n",
      "파이썬은 웹 개발, 데이터 과학, 머신 러닝, 인공 지능을 포함한 많은 분야에서 스크립팅과 신속한 애플리케이션 개발을 위해 인기 있는 선택이다. 비교적 쉽게 배울 수 있어 초보자에게 좋은 선택입니다.\n",
      "\n",
      "파이썬은 오픈 소스 언어로 자유롭게 사용하고 수정할 수 있다는 것을 의미한다. 이를 통해 세계에서 가장 인기 있는 프로그래밍 언어 중 하나가 되었습니다.\n",
      "\n",
      "Python을 사용하면 얻을 수 있는 몇 가지 이점은 다음과 같습니다:\n",
      "\n",
      "* 쉽게 배우고 사용할 수 있습니다.\n",
      "* 범용 언어이므로 다양한 작업에 사용할 수 있습니다.\n",
      "* 오픈 소스로 자유롭게 사용하고 수정할 수 있습니다.\n",
      "* 사용자와 개발자로 구성된 대규모의 활동적인 커뮤니티를 가지고 있습니다.\n",
      "* 복잡한 응용 프로그램을 만드는 데 사용할 수 있는 강력한 언어입니다.\n",
      "\n",
      "배우기 쉽고 다재다능하며 강력한 프로그래밍 언어를 찾고 있다면 파이썬이 좋은 선택입니다.\n"
     ]
    }
   ],
   "source": [
    "main.questions_ko(\"파이썬이 뭐야?\")"
   ]
  },
  {
   "cell_type": "code",
   "execution_count": null,
   "metadata": {},
   "outputs": [],
   "source": []
  }
 ],
 "metadata": {
  "kernelspec": {
   "display_name": "mecab",
   "language": "python",
   "name": "python3"
  },
  "language_info": {
   "codemirror_mode": {
    "name": "ipython",
    "version": 3
   },
   "file_extension": ".py",
   "mimetype": "text/x-python",
   "name": "python",
   "nbconvert_exporter": "python",
   "pygments_lexer": "ipython3",
   "version": "3.10.9"
  }
 },
 "nbformat": 4,
 "nbformat_minor": 2
}
