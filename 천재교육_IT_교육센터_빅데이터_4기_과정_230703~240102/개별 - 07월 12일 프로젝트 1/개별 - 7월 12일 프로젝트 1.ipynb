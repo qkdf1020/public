{
 "cells": [
  {
   "cell_type": "code",
   "execution_count": null,
   "id": "a2bbc2f3",
   "metadata": {},
   "outputs": [],
   "source": [
    "# python 3.10.9에서 작성 되었습니다."
   ]
  },
  {
   "cell_type": "code",
   "execution_count": null,
   "metadata": {},
   "outputs": [],
   "source": [
    "import pandas as pd"
   ]
  },
  {
   "cell_type": "code",
   "execution_count": null,
   "metadata": {},
   "outputs": [],
   "source": [
    "df1 = pd.read_csv('한국자산관리공사_국유부동산 매각현황_20221231.csv',encoding='cp949')"
   ]
  },
  {
   "cell_type": "code",
   "execution_count": null,
   "metadata": {},
   "outputs": [
    {
     "data": {
      "text/html": [
       "<div>\n",
       "<style scoped>\n",
       "    .dataframe tbody tr th:only-of-type {\n",
       "        vertical-align: middle;\n",
       "    }\n",
       "\n",
       "    .dataframe tbody tr th {\n",
       "        vertical-align: top;\n",
       "    }\n",
       "\n",
       "    .dataframe thead th {\n",
       "        text-align: right;\n",
       "    }\n",
       "</style>\n",
       "<table border=\"1\" class=\"dataframe\">\n",
       "  <thead>\n",
       "    <tr style=\"text-align: right;\">\n",
       "      <th></th>\n",
       "      <th>연도구분</th>\n",
       "      <th>지역구분</th>\n",
       "      <th>소재지명</th>\n",
       "      <th>재산구분</th>\n",
       "      <th>공부지목</th>\n",
       "      <th>대장면적(제곱미터)</th>\n",
       "      <th>대장금액(원)</th>\n",
       "      <th>처분구분명</th>\n",
       "      <th>계약일자</th>\n",
       "      <th>부점명</th>\n",
       "      <th>팀명</th>\n",
       "    </tr>\n",
       "  </thead>\n",
       "  <tbody>\n",
       "    <tr>\n",
       "      <th>0</th>\n",
       "      <td>2014</td>\n",
       "      <td>전라북도</td>\n",
       "      <td>전라북도 정읍시 상동  725</td>\n",
       "      <td>토지</td>\n",
       "      <td>전</td>\n",
       "      <td>56.0</td>\n",
       "      <td>9968000.0</td>\n",
       "      <td>처분(매각수의)</td>\n",
       "      <td>2014-01-01</td>\n",
       "      <td>전북지역본부</td>\n",
       "      <td>국유재산관리1팀</td>\n",
       "    </tr>\n",
       "    <tr>\n",
       "      <th>1</th>\n",
       "      <td>2014</td>\n",
       "      <td>울산광역시</td>\n",
       "      <td>울산광역시 북구 천곡동  709-1</td>\n",
       "      <td>토지</td>\n",
       "      <td>임야</td>\n",
       "      <td>225.0</td>\n",
       "      <td>13770000.0</td>\n",
       "      <td>처분(매각수의)</td>\n",
       "      <td>2014-01-01</td>\n",
       "      <td>국유재산관리부</td>\n",
       "      <td>국유울산팀</td>\n",
       "    </tr>\n",
       "    <tr>\n",
       "      <th>2</th>\n",
       "      <td>2014</td>\n",
       "      <td>전라북도</td>\n",
       "      <td>전라북도 정읍시 산내면 종성리 727-21</td>\n",
       "      <td>토지</td>\n",
       "      <td>답</td>\n",
       "      <td>105.0</td>\n",
       "      <td>1075200.0</td>\n",
       "      <td>처분(매각수의)</td>\n",
       "      <td>2014-01-01</td>\n",
       "      <td>전북지역본부</td>\n",
       "      <td>국유재산관리1팀</td>\n",
       "    </tr>\n",
       "    <tr>\n",
       "      <th>3</th>\n",
       "      <td>2014</td>\n",
       "      <td>전라북도</td>\n",
       "      <td>전라북도 정읍시 산내면 종성리 727-16</td>\n",
       "      <td>토지</td>\n",
       "      <td>답</td>\n",
       "      <td>184.0</td>\n",
       "      <td>1884160.0</td>\n",
       "      <td>처분(매각수의)</td>\n",
       "      <td>2014-01-01</td>\n",
       "      <td>전북지역본부</td>\n",
       "      <td>국유재산관리1팀</td>\n",
       "    </tr>\n",
       "    <tr>\n",
       "      <th>4</th>\n",
       "      <td>2014</td>\n",
       "      <td>전라북도</td>\n",
       "      <td>전라북도 김제시 검산동  424-3</td>\n",
       "      <td>토지</td>\n",
       "      <td>전</td>\n",
       "      <td>2106.0</td>\n",
       "      <td>23797800.0</td>\n",
       "      <td>처분(매각수의)</td>\n",
       "      <td>2014-01-01</td>\n",
       "      <td>전북지역본부</td>\n",
       "      <td>국유재산관리2팀</td>\n",
       "    </tr>\n",
       "    <tr>\n",
       "      <th>...</th>\n",
       "      <td>...</td>\n",
       "      <td>...</td>\n",
       "      <td>...</td>\n",
       "      <td>...</td>\n",
       "      <td>...</td>\n",
       "      <td>...</td>\n",
       "      <td>...</td>\n",
       "      <td>...</td>\n",
       "      <td>...</td>\n",
       "      <td>...</td>\n",
       "      <td>...</td>\n",
       "    </tr>\n",
       "    <tr>\n",
       "      <th>141312</th>\n",
       "      <td>2022</td>\n",
       "      <td>제주특별자치도</td>\n",
       "      <td>제주특별자치도 서귀포시 표선면 하천리 1500-4</td>\n",
       "      <td>토지</td>\n",
       "      <td>임야</td>\n",
       "      <td>208.0</td>\n",
       "      <td>29952000.0</td>\n",
       "      <td>처분(매각수의)</td>\n",
       "      <td>2022-11-09</td>\n",
       "      <td>광주전남지역본부</td>\n",
       "      <td>국유제주지사</td>\n",
       "    </tr>\n",
       "    <tr>\n",
       "      <th>141313</th>\n",
       "      <td>2022</td>\n",
       "      <td>제주특별자치도</td>\n",
       "      <td>제주특별자치도 서귀포시 표선면 세화리 2451-3</td>\n",
       "      <td>토지</td>\n",
       "      <td>전</td>\n",
       "      <td>1257.0</td>\n",
       "      <td>56062200.0</td>\n",
       "      <td>처분(매각수의)</td>\n",
       "      <td>2022-12-29</td>\n",
       "      <td>광주전남지역본부</td>\n",
       "      <td>국유제주지사</td>\n",
       "    </tr>\n",
       "    <tr>\n",
       "      <th>141314</th>\n",
       "      <td>2022</td>\n",
       "      <td>제주특별자치도</td>\n",
       "      <td>제주특별자치도 서귀포시 표선면 세화리 2451-10</td>\n",
       "      <td>토지</td>\n",
       "      <td>전</td>\n",
       "      <td>2974.0</td>\n",
       "      <td>132640400.0</td>\n",
       "      <td>처분(매각수의)</td>\n",
       "      <td>2022-12-29</td>\n",
       "      <td>광주전남지역본부</td>\n",
       "      <td>국유제주지사</td>\n",
       "    </tr>\n",
       "    <tr>\n",
       "      <th>141315</th>\n",
       "      <td>2022</td>\n",
       "      <td>제주특별자치도</td>\n",
       "      <td>제주특별자치도 서귀포시 표선면 토산리 32-3</td>\n",
       "      <td>토지</td>\n",
       "      <td>유지</td>\n",
       "      <td>80.0</td>\n",
       "      <td>32160000.0</td>\n",
       "      <td>처분(매각수의)</td>\n",
       "      <td>2022-08-04</td>\n",
       "      <td>광주전남지역본부</td>\n",
       "      <td>국유제주지사</td>\n",
       "    </tr>\n",
       "    <tr>\n",
       "      <th>141316</th>\n",
       "      <td>2022</td>\n",
       "      <td>제주특별자치도</td>\n",
       "      <td>제주특별자치도 서귀포시 표선면 토산리 1033</td>\n",
       "      <td>토지</td>\n",
       "      <td>묘지</td>\n",
       "      <td>178.0</td>\n",
       "      <td>2776800.0</td>\n",
       "      <td>처분(매각수의)</td>\n",
       "      <td>2022-11-22</td>\n",
       "      <td>광주전남지역본부</td>\n",
       "      <td>국유제주지사</td>\n",
       "    </tr>\n",
       "  </tbody>\n",
       "</table>\n",
       "<p>141317 rows × 11 columns</p>\n",
       "</div>"
      ],
      "text/plain": [
       "        연도구분     지역구분                          소재지명 재산구분 공부지목  대장면적(제곱미터)  \\\n",
       "0       2014     전라북도              전라북도 정읍시 상동  725   토지    전        56.0   \n",
       "1       2014    울산광역시           울산광역시 북구 천곡동  709-1   토지   임야       225.0   \n",
       "2       2014     전라북도       전라북도 정읍시 산내면 종성리 727-21   토지    답       105.0   \n",
       "3       2014     전라북도       전라북도 정읍시 산내면 종성리 727-16   토지    답       184.0   \n",
       "4       2014     전라북도           전라북도 김제시 검산동  424-3   토지    전      2106.0   \n",
       "...      ...      ...                           ...  ...  ...         ...   \n",
       "141312  2022  제주특별자치도   제주특별자치도 서귀포시 표선면 하천리 1500-4   토지   임야       208.0   \n",
       "141313  2022  제주특별자치도   제주특별자치도 서귀포시 표선면 세화리 2451-3   토지    전      1257.0   \n",
       "141314  2022  제주특별자치도  제주특별자치도 서귀포시 표선면 세화리 2451-10   토지    전      2974.0   \n",
       "141315  2022  제주특별자치도     제주특별자치도 서귀포시 표선면 토산리 32-3   토지   유지        80.0   \n",
       "141316  2022  제주특별자치도     제주특별자치도 서귀포시 표선면 토산리 1033   토지   묘지       178.0   \n",
       "\n",
       "            대장금액(원)     처분구분명        계약일자       부점명        팀명  \n",
       "0         9968000.0  처분(매각수의)  2014-01-01    전북지역본부  국유재산관리1팀  \n",
       "1        13770000.0  처분(매각수의)  2014-01-01   국유재산관리부     국유울산팀  \n",
       "2         1075200.0  처분(매각수의)  2014-01-01    전북지역본부  국유재산관리1팀  \n",
       "3         1884160.0  처분(매각수의)  2014-01-01    전북지역본부  국유재산관리1팀  \n",
       "4        23797800.0  처분(매각수의)  2014-01-01    전북지역본부  국유재산관리2팀  \n",
       "...             ...       ...         ...       ...       ...  \n",
       "141312   29952000.0  처분(매각수의)  2022-11-09  광주전남지역본부    국유제주지사  \n",
       "141313   56062200.0  처분(매각수의)  2022-12-29  광주전남지역본부    국유제주지사  \n",
       "141314  132640400.0  처분(매각수의)  2022-12-29  광주전남지역본부    국유제주지사  \n",
       "141315   32160000.0  처분(매각수의)  2022-08-04  광주전남지역본부    국유제주지사  \n",
       "141316    2776800.0  처분(매각수의)  2022-11-22  광주전남지역본부    국유제주지사  \n",
       "\n",
       "[141317 rows x 11 columns]"
      ]
     },
     "metadata": {},
     "output_type": "display_data"
    }
   ],
   "source": [
    "df1"
   ]
  },
  {
   "cell_type": "markdown",
   "metadata": {},
   "source": [
    "# 전처리"
   ]
  },
  {
   "cell_type": "markdown",
   "metadata": {},
   "source": [
    "# 매각만 분리"
   ]
  },
  {
   "cell_type": "code",
   "execution_count": null,
   "metadata": {},
   "outputs": [
    {
     "data": {
      "text/plain": [
       "array(['처분(매각수의)', '처분(무상관리전환)', '처분(매각입찰)', '처분(유상관리전환)', '처분(무상양여)',\n",
       "       '처분(유상양여)', '처분(사용승인)', '처분(무상귀속)'], dtype=object)"
      ]
     },
     "metadata": {},
     "output_type": "display_data"
    }
   ],
   "source": [
    "df1['처분구분명'].unique()"
   ]
  },
  {
   "cell_type": "code",
   "execution_count": null,
   "metadata": {},
   "outputs": [],
   "source": [
    "df2 = df1[df1['처분구분명'].apply(lambda x : x.startswith('처분(매각'))]"
   ]
  },
  {
   "cell_type": "code",
   "execution_count": null,
   "metadata": {},
   "outputs": [
    {
     "data": {
      "text/plain": [
       "array(['처분(매각수의)', '처분(매각입찰)'], dtype=object)"
      ]
     },
     "metadata": {},
     "output_type": "display_data"
    }
   ],
   "source": [
    "df2['처분구분명'].unique()"
   ]
  },
  {
   "cell_type": "markdown",
   "metadata": {},
   "source": [
    "# 매각 면적 0 제거"
   ]
  },
  {
   "cell_type": "code",
   "execution_count": null,
   "metadata": {},
   "outputs": [],
   "source": [
    "df3 = df2[df2['대장면적(제곱미터)'] > 0]"
   ]
  },
  {
   "cell_type": "markdown",
   "metadata": {},
   "source": [
    "# 공부지목 nan값 제거"
   ]
  },
  {
   "cell_type": "code",
   "execution_count": null,
   "metadata": {},
   "outputs": [
    {
     "data": {
      "text/plain": [
       "array(['전', '임야', '답', '도로', '대', '묘지', '확인불가', '잡종지', '하천', '주유소용지',\n",
       "       '과수원', '목장용지', '구거', '유지', '공장용지', '철도용지', '수도용지', '제방', '주차장',\n",
       "       '학교용지', '양어장', '종교용지', '창고용지', '체육용지', '유원지', '사적지', '공원', '염전',\n",
       "       '광천지', nan], dtype=object)"
      ]
     },
     "metadata": {},
     "output_type": "display_data"
    }
   ],
   "source": [
    "df3['공부지목'].unique()"
   ]
  },
  {
   "cell_type": "code",
   "execution_count": null,
   "metadata": {},
   "outputs": [
    {
     "name": "stderr",
     "output_type": "stream",
     "text": [
      "C:\\Users\\qkdf1\\AppData\\Local\\Temp\\ipykernel_26284\\909043563.py:1: SettingWithCopyWarning: \n",
      "A value is trying to be set on a copy of a slice from a DataFrame.\n",
      "Try using .loc[row_indexer,col_indexer] = value instead\n",
      "\n",
      "See the caveats in the documentation: https://pandas.pydata.org/pandas-docs/stable/user_guide/indexing.html#returning-a-view-versus-a-copy\n",
      "  df3['공부지목'] = df3['공부지목'].fillna('확인불가')\n"
     ]
    }
   ],
   "source": [
    "df3['공부지목'] = df3['공부지목'].fillna('확인불가')"
   ]
  },
  {
   "cell_type": "code",
   "execution_count": null,
   "metadata": {},
   "outputs": [
    {
     "data": {
      "text/plain": [
       "array(['전', '임야', '답', '도로', '대', '묘지', '확인불가', '잡종지', '하천', '주유소용지',\n",
       "       '과수원', '목장용지', '구거', '유지', '공장용지', '철도용지', '수도용지', '제방', '주차장',\n",
       "       '학교용지', '양어장', '종교용지', '창고용지', '체육용지', '유원지', '사적지', '공원', '염전',\n",
       "       '광천지'], dtype=object)"
      ]
     },
     "metadata": {},
     "output_type": "display_data"
    }
   ],
   "source": [
    "df3['공부지목'].unique()"
   ]
  },
  {
   "cell_type": "markdown",
   "metadata": {},
   "source": [
    "# 팀명 nan값 제거"
   ]
  },
  {
   "cell_type": "code",
   "execution_count": null,
   "metadata": {},
   "outputs": [
    {
     "data": {
      "text/plain": [
       "array([False,  True])"
      ]
     },
     "metadata": {},
     "output_type": "display_data"
    }
   ],
   "source": [
    "df3['팀명'].isna().unique()"
   ]
  },
  {
   "cell_type": "code",
   "execution_count": null,
   "metadata": {},
   "outputs": [
    {
     "data": {
      "text/plain": [
       "array(['국유재산관리1팀', '국유울산팀', '국유재산관리2팀', '국유춘천팀', '국유목포팀', '국유여수팀',\n",
       "       '국유제주팀', '국유팀', '국유광주2팀', '국유원주팀', '국유진주팀', '내포지부', '국유재산관리팀',\n",
       "       '국유 충주팀', '재산관리3팀', '국유군산팀', '국유재산관리3팀', '국유 안동팀', '국유 포항팀',\n",
       "       '의정부팀', '재산관리2팀', '국유광주1팀', '국유평택팀', '재산관리1팀', '재산관리5팀', '국유통영팀',\n",
       "       '재산관리4팀', '재산관리6팀', '팀미정', '국유목포지부', '국유여수지부', '국유제주지부', '포항지부',\n",
       "       '안동지부', '국유재산1팀', '국유재산3팀', '의정부지부', '국유광주3팀', '국유재산2팀', '울산지부',\n",
       "       '국유재산관리4팀', '기획관리팀', '원주지부', '국유1팀', '국유2팀', '춘천지부', '국유진주지부',\n",
       "       '국유통영지부', '국유광주4팀', '국유목포지사', '국유여수지사', '내포지사', '충주지사', '군산지사',\n",
       "       '국유진주지사', '국유통영지사', '포항지사', '안동지사', '국유제주지사', '울산지사', '국유재산관리5팀',\n",
       "       '평택지사', '의정부지사', '원주지사', '춘천지사', '해안면무주지국유화지원추진단', nan],\n",
       "      dtype=object)"
      ]
     },
     "metadata": {},
     "output_type": "display_data"
    }
   ],
   "source": [
    "df3['팀명'].unique()"
   ]
  },
  {
   "cell_type": "code",
   "execution_count": null,
   "metadata": {},
   "outputs": [],
   "source": [
    "target = ['국유재산관리1팀', '국유울산팀', '국유재산관리2팀', '국유춘천팀', '국유목포팀', '국유여수팀',\n",
    "       '국유제주팀', '국유팀', '국유광주2팀', '국유원주팀', '국유진주팀', '내포지부', '국유재산관리팀',\n",
    "       '국유 충주팀', '재산관리3팀', '국유군산팀', '국유재산관리3팀', '국유 안동팀', '국유 포항팀',\n",
    "       '의정부팀', '재산관리2팀', '국유광주1팀', '국유평택팀', '재산관리1팀', '재산관리5팀', '국유통영팀',\n",
    "       '재산관리4팀', '재산관리6팀', '팀미정', '국유목포지부', '국유여수지부', '국유제주지부', '포항지부',\n",
    "       '안동지부', '국유재산1팀', '국유재산3팀', '의정부지부', '국유광주3팀', '국유재산2팀', '울산지부',\n",
    "       '국유재산관리4팀', '기획관리팀', '원주지부', '국유1팀', '국유2팀', '춘천지부', '국유진주지부',\n",
    "       '국유통영지부', '국유광주4팀', '국유목포지사', '국유여수지사', '내포지사', '충주지사', '군산지사',\n",
    "       '국유진주지사', '국유통영지사', '포항지사', '안동지사', '국유제주지사', '울산지사', '국유재산관리5팀',\n",
    "       '평택지사', '의정부지사', '원주지사', '춘천지사', '해안면무주지국유화지원추진단']\n",
    "df = df3[df3['팀명'].apply(lambda x : x in target)]"
   ]
  },
  {
   "cell_type": "markdown",
   "metadata": {},
   "source": [
    "# 매각 금액이 가장 많은 팀과 하위 팀의 차이 확인하기"
   ]
  },
  {
   "cell_type": "code",
   "execution_count": null,
   "metadata": {},
   "outputs": [
    {
     "data": {
      "text/plain": [
       "array(['국유재산관리1팀', '국유울산팀', '국유재산관리2팀', '국유춘천팀', '국유목포팀', '국유여수팀',\n",
       "       '국유제주팀', '국유팀', '국유광주2팀', '국유원주팀', '국유진주팀', '내포지부', '국유재산관리팀',\n",
       "       '국유 충주팀', '재산관리3팀', '국유군산팀', '국유재산관리3팀', '국유 안동팀', '국유 포항팀',\n",
       "       '의정부팀', '재산관리2팀', '국유광주1팀', '국유평택팀', '재산관리1팀', '재산관리5팀', '국유통영팀',\n",
       "       '재산관리4팀', '재산관리6팀', '팀미정', '국유목포지부', '국유여수지부', '국유제주지부', '포항지부',\n",
       "       '안동지부', '국유재산1팀', '국유재산3팀', '의정부지부', '국유광주3팀', '국유재산2팀', '울산지부',\n",
       "       '국유재산관리4팀', '기획관리팀', '원주지부', '국유1팀', '국유2팀', '춘천지부', '국유진주지부',\n",
       "       '국유통영지부', '국유광주4팀', '국유목포지사', '국유여수지사', '내포지사', '충주지사', '군산지사',\n",
       "       '국유진주지사', '국유통영지사', '포항지사', '안동지사', '국유제주지사', '울산지사', '국유재산관리5팀',\n",
       "       '평택지사', '의정부지사', '원주지사', '춘천지사', '해안면무주지국유화지원추진단'], dtype=object)"
      ]
     },
     "metadata": {},
     "output_type": "display_data"
    }
   ],
   "source": [
    "df['팀명'].unique()"
   ]
  },
  {
   "cell_type": "code",
   "execution_count": null,
   "metadata": {},
   "outputs": [],
   "source": [
    "dfs = pd.DataFrame(df.groupby('팀명')['대장금액(원)'].sum())"
   ]
  },
  {
   "cell_type": "code",
   "execution_count": null,
   "metadata": {},
   "outputs": [
    {
     "data": {
      "text/html": [
       "<div>\n",
       "<style scoped>\n",
       "    .dataframe tbody tr th:only-of-type {\n",
       "        vertical-align: middle;\n",
       "    }\n",
       "\n",
       "    .dataframe tbody tr th {\n",
       "        vertical-align: top;\n",
       "    }\n",
       "\n",
       "    .dataframe thead th {\n",
       "        text-align: right;\n",
       "    }\n",
       "</style>\n",
       "<table border=\"1\" class=\"dataframe\">\n",
       "  <thead>\n",
       "    <tr style=\"text-align: right;\">\n",
       "      <th></th>\n",
       "      <th>대장금액(원)</th>\n",
       "    </tr>\n",
       "    <tr>\n",
       "      <th>팀명</th>\n",
       "      <th></th>\n",
       "    </tr>\n",
       "  </thead>\n",
       "  <tbody>\n",
       "    <tr>\n",
       "      <th>국유 안동팀</th>\n",
       "      <td>7.819281e+09</td>\n",
       "    </tr>\n",
       "    <tr>\n",
       "      <th>국유 충주팀</th>\n",
       "      <td>2.378839e+10</td>\n",
       "    </tr>\n",
       "    <tr>\n",
       "      <th>국유 포항팀</th>\n",
       "      <td>3.570669e+10</td>\n",
       "    </tr>\n",
       "    <tr>\n",
       "      <th>국유1팀</th>\n",
       "      <td>1.057947e+10</td>\n",
       "    </tr>\n",
       "    <tr>\n",
       "      <th>국유2팀</th>\n",
       "      <td>1.448434e+10</td>\n",
       "    </tr>\n",
       "    <tr>\n",
       "      <th>...</th>\n",
       "      <td>...</td>\n",
       "    </tr>\n",
       "    <tr>\n",
       "      <th>팀미정</th>\n",
       "      <td>4.876852e+09</td>\n",
       "    </tr>\n",
       "    <tr>\n",
       "      <th>평택지사</th>\n",
       "      <td>4.424125e+10</td>\n",
       "    </tr>\n",
       "    <tr>\n",
       "      <th>포항지부</th>\n",
       "      <td>2.699168e+10</td>\n",
       "    </tr>\n",
       "    <tr>\n",
       "      <th>포항지사</th>\n",
       "      <td>2.395380e+10</td>\n",
       "    </tr>\n",
       "    <tr>\n",
       "      <th>해안면무주지국유화지원추진단</th>\n",
       "      <td>2.210196e+07</td>\n",
       "    </tr>\n",
       "  </tbody>\n",
       "</table>\n",
       "<p>66 rows × 1 columns</p>\n",
       "</div>"
      ],
      "text/plain": [
       "                     대장금액(원)\n",
       "팀명                          \n",
       "국유 안동팀          7.819281e+09\n",
       "국유 충주팀          2.378839e+10\n",
       "국유 포항팀          3.570669e+10\n",
       "국유1팀            1.057947e+10\n",
       "국유2팀            1.448434e+10\n",
       "...                      ...\n",
       "팀미정             4.876852e+09\n",
       "평택지사            4.424125e+10\n",
       "포항지부            2.699168e+10\n",
       "포항지사            2.395380e+10\n",
       "해안면무주지국유화지원추진단  2.210196e+07\n",
       "\n",
       "[66 rows x 1 columns]"
      ]
     },
     "metadata": {},
     "output_type": "display_data"
    }
   ],
   "source": [
    "dfs"
   ]
  },
  {
   "cell_type": "code",
   "execution_count": null,
   "metadata": {},
   "outputs": [
    {
     "data": {
      "text/plain": [
       "대장금액(원)    국유재산3팀\n",
       "dtype: object"
      ]
     },
     "metadata": {},
     "output_type": "display_data"
    }
   ],
   "source": [
    "dfs.idxmax()"
   ]
  },
  {
   "cell_type": "code",
   "execution_count": null,
   "metadata": {},
   "outputs": [
    {
     "name": "stdout",
     "output_type": "stream",
     "text": [
      "대장금액(원)    1.014499e+12\n",
      "dtype: float64\n"
     ]
    }
   ],
   "source": [
    "dfs.max()"
   ]
  },
  {
   "cell_type": "code",
   "execution_count": null,
   "metadata": {},
   "outputs": [
    {
     "data": {
      "text/plain": [
       "대장금액(원)    해안면무주지국유화지원추진단\n",
       "dtype: object"
      ]
     },
     "metadata": {},
     "output_type": "display_data"
    }
   ],
   "source": [
    "dfs.idxmin()"
   ]
  },
  {
   "cell_type": "code",
   "execution_count": null,
   "metadata": {},
   "outputs": [
    {
     "data": {
      "text/plain": [
       "대장금액(원)    22101960.0\n",
       "dtype: float64"
      ]
     },
     "metadata": {},
     "output_type": "display_data"
    }
   ],
   "source": [
    "dfs.min()"
   ]
  },
  {
   "cell_type": "code",
   "execution_count": null,
   "metadata": {},
   "outputs": [],
   "source": [
    "from scipy import stats\n",
    "import numpy as np\n",
    "import pandas as pd\n",
    "import seaborn as sns\n",
    "import matplotlib.pyplot as plt"
   ]
  },
  {
   "cell_type": "code",
   "execution_count": null,
   "metadata": {},
   "outputs": [],
   "source": [
    "m1 = df['팀명'] == '국유재산3팀'\n",
    "n1 = df['팀명'] == '해안면무주지국유화지원추진단'"
   ]
  },
  {
   "cell_type": "code",
   "execution_count": null,
   "metadata": {},
   "outputs": [],
   "source": [
    "m = df[m1]['대장금액(원)']\n",
    "n = df[n1]['대장금액(원)']"
   ]
  },
  {
   "cell_type": "code",
   "execution_count": null,
   "metadata": {},
   "outputs": [],
   "source": [
    "ttest = stats.ttest_ind(m, n)"
   ]
  },
  {
   "cell_type": "code",
   "execution_count": null,
   "metadata": {},
   "outputs": [
    {
     "data": {
      "text/plain": [
       "0.9407620103481295"
      ]
     },
     "metadata": {},
     "output_type": "display_data"
    }
   ],
   "source": [
    "ttest.pvalue"
   ]
  },
  {
   "cell_type": "code",
   "execution_count": null,
   "metadata": {},
   "outputs": [
    {
     "data": {
      "text/plain": [
       "0.07431574901938794"
      ]
     },
     "metadata": {},
     "output_type": "display_data"
    }
   ],
   "source": [
    "ttest.statistic"
   ]
  },
  {
   "cell_type": "code",
   "execution_count": null,
   "metadata": {},
   "outputs": [
    {
     "name": "stderr",
     "output_type": "stream",
     "text": [
      "C:\\ProgramData\\anaconda3\\lib\\site-packages\\scipy\\stats\\_morestats.py:1816: UserWarning: p-value may not be accurate for N > 5000.\n",
      "  warnings.warn(\"p-value may not be accurate for N > 5000.\")\n"
     ]
    },
    {
     "data": {
      "text/plain": [
       "ShapiroResult(statistic=0.00950312614440918, pvalue=0.0)"
      ]
     },
     "metadata": {},
     "output_type": "display_data"
    }
   ],
   "source": [
    "stats.shapiro(m)"
   ]
  },
  {
   "cell_type": "code",
   "execution_count": null,
   "metadata": {},
   "outputs": [
    {
     "data": {
      "text/plain": [
       "ShapiroResult(statistic=0.8970823287963867, pvalue=0.41671162843704224)"
      ]
     },
     "metadata": {},
     "output_type": "display_data"
    }
   ],
   "source": [
    "stats.shapiro(n)"
   ]
  },
  {
   "cell_type": "code",
   "execution_count": null,
   "metadata": {},
   "outputs": [
    {
     "data": {
      "text/plain": [
       "KstestResult(statistic=0.6215538847117794, pvalue=0.051754877223033006, statistic_location=9587400.0, statistic_sign=-1)"
      ]
     },
     "metadata": {},
     "output_type": "display_data"
    }
   ],
   "source": [
    "stats.ks_2samp(m, n)"
   ]
  },
  {
   "cell_type": "markdown",
   "metadata": {},
   "source": [
    "# 부점 구분으로 수정 - 매각 금액이 가장 많은 팀과 하위 팀의 차이 확인하기"
   ]
  },
  {
   "cell_type": "code",
   "execution_count": null,
   "metadata": {},
   "outputs": [],
   "source": [
    "dfa = df.groupby(['부점명','팀명']).agg({'대장금액(원)' : sum})"
   ]
  },
  {
   "cell_type": "code",
   "execution_count": null,
   "metadata": {},
   "outputs": [
    {
     "data": {
      "text/plain": [
       "대장금액(원)    (서울동부지역본부, 국유재산3팀)\n",
       "dtype: object"
      ]
     },
     "metadata": {},
     "output_type": "display_data"
    }
   ],
   "source": [
    "dfa.idxmax()"
   ]
  },
  {
   "cell_type": "code",
   "execution_count": null,
   "metadata": {},
   "outputs": [
    {
     "data": {
      "text/plain": [
       "대장금액(원)    5.321157e+11\n",
       "dtype: float64"
      ]
     },
     "metadata": {},
     "output_type": "display_data"
    }
   ],
   "source": [
    "dfa.max()"
   ]
  },
  {
   "cell_type": "code",
   "execution_count": null,
   "metadata": {},
   "outputs": [
    {
     "data": {
      "text/plain": [
       "대장금액(원)    (국유재산기획처, 팀미정)\n",
       "dtype: object"
      ]
     },
     "metadata": {},
     "output_type": "display_data"
    }
   ],
   "source": [
    "dfa.idxmin()"
   ]
  },
  {
   "cell_type": "code",
   "execution_count": null,
   "metadata": {},
   "outputs": [
    {
     "data": {
      "text/plain": [
       "대장금액(원)    15087644.0\n",
       "dtype: float64"
      ]
     },
     "metadata": {},
     "output_type": "display_data"
    }
   ],
   "source": [
    "dfa.min()"
   ]
  },
  {
   "cell_type": "markdown",
   "metadata": {},
   "source": [
    "# 연도별 매각금액 추이 확인하기"
   ]
  },
  {
   "cell_type": "code",
   "execution_count": null,
   "metadata": {},
   "outputs": [],
   "source": [
    "from sklearn.datasets import load_iris\n",
    "import matplotlib as mpl\n",
    "import matplotlib.pyplot as plt\n",
    "import pandas as pd\n",
    "import matplotlib.font_manager as fm"
   ]
  },
  {
   "cell_type": "code",
   "execution_count": null,
   "metadata": {},
   "outputs": [
    {
     "name": "stderr",
     "output_type": "stream",
     "text": [
      "C:\\ProgramData\\anaconda3\\lib\\site-packages\\IPython\\core\\pylabtools.py:152: UserWarning: Glyph 50672 (\\N{HANGUL SYLLABLE YEON}) missing from current font.\n",
      "  fig.canvas.print_figure(bytes_io, **kw)\n",
      "C:\\ProgramData\\anaconda3\\lib\\site-packages\\IPython\\core\\pylabtools.py:152: UserWarning: Glyph 46020 (\\N{HANGUL SYLLABLE DO}) missing from current font.\n",
      "  fig.canvas.print_figure(bytes_io, **kw)\n",
      "C:\\ProgramData\\anaconda3\\lib\\site-packages\\IPython\\core\\pylabtools.py:152: UserWarning: Glyph 44396 (\\N{HANGUL SYLLABLE GU}) missing from current font.\n",
      "  fig.canvas.print_figure(bytes_io, **kw)\n",
      "C:\\ProgramData\\anaconda3\\lib\\site-packages\\IPython\\core\\pylabtools.py:152: UserWarning: Glyph 48516 (\\N{HANGUL SYLLABLE BUN}) missing from current font.\n",
      "  fig.canvas.print_figure(bytes_io, **kw)\n",
      "C:\\ProgramData\\anaconda3\\lib\\site-packages\\IPython\\core\\pylabtools.py:152: UserWarning: Glyph 45824 (\\N{HANGUL SYLLABLE DAE}) missing from current font.\n",
      "  fig.canvas.print_figure(bytes_io, **kw)\n",
      "C:\\ProgramData\\anaconda3\\lib\\site-packages\\IPython\\core\\pylabtools.py:152: UserWarning: Glyph 51109 (\\N{HANGUL SYLLABLE JANG}) missing from current font.\n",
      "  fig.canvas.print_figure(bytes_io, **kw)\n",
      "C:\\ProgramData\\anaconda3\\lib\\site-packages\\IPython\\core\\pylabtools.py:152: UserWarning: Glyph 44552 (\\N{HANGUL SYLLABLE GEUM}) missing from current font.\n",
      "  fig.canvas.print_figure(bytes_io, **kw)\n",
      "C:\\ProgramData\\anaconda3\\lib\\site-packages\\IPython\\core\\pylabtools.py:152: UserWarning: Glyph 50529 (\\N{HANGUL SYLLABLE AEG}) missing from current font.\n",
      "  fig.canvas.print_figure(bytes_io, **kw)\n",
      "C:\\ProgramData\\anaconda3\\lib\\site-packages\\IPython\\core\\pylabtools.py:152: UserWarning: Glyph 50896 (\\N{HANGUL SYLLABLE WEON}) missing from current font.\n",
      "  fig.canvas.print_figure(bytes_io, **kw)\n"
     ]
    },
    {
     "data": {
      "image/png": "[encoded data removed]",
      "text/plain": [
       "<Figure size 640x480 with 1 Axes>"
      ]
     },
     "metadata": {},
     "output_type": "display_data"
    }
   ],
   "source": [
    "sns.lineplot(data = df, x = '연도구분', y = '대장금액(원)')\n",
    "plt.show()"
   ]
  },
  {
   "cell_type": "code",
   "execution_count": null,
   "metadata": {},
   "outputs": [
    {
     "data": {
      "text/plain": [
       "['STIXSizeFiveSym',\n",
       " 'STIXGeneral',\n",
       " 'STIXNonUnicode',\n",
       " 'STIXSizeFourSym',\n",
       " 'cmr10',\n",
       " 'cmtt10',\n",
       " 'DejaVu Sans',\n",
       " 'DejaVu Serif',\n",
       " 'cmss10',\n",
       " 'DejaVu Serif',\n",
       " 'DejaVu Sans Mono',\n",
       " 'DejaVu Sans',\n",
       " 'STIXGeneral',\n",
       " 'DejaVu Sans Mono',\n",
       " 'STIXGeneral',\n",
       " 'DejaVu Serif',\n",
       " 'DejaVu Sans',\n",
       " 'DejaVu Sans Mono',\n",
       " 'STIXSizeFourSym',\n",
       " 'cmex10',\n",
       " 'STIXNonUnicode',\n",
       " 'STIXSizeThreeSym',\n",
       " 'cmmi10',\n",
       " 'cmsy10',\n",
       " 'STIXNonUnicode',\n",
       " 'DejaVu Sans Display',\n",
       " 'DejaVu Serif Display',\n",
       " 'cmb10',\n",
       " 'STIXSizeTwoSym',\n",
       " 'STIXSizeOneSym',\n",
       " 'DejaVu Sans',\n",
       " 'STIXNonUnicode',\n",
       " 'STIXSizeOneSym',\n",
       " 'DejaVu Serif',\n",
       " 'STIXSizeThreeSym',\n",
       " 'STIXGeneral',\n",
       " 'STIXSizeTwoSym',\n",
       " 'DejaVu Sans Mono',\n",
       " 'Papyrus',\n",
       " 'Rubik',\n",
       " 'Franklin Gothic Demi Cond',\n",
       " 'Linux Libertine G',\n",
       " 'Wingdings 3',\n",
       " 'Gill Sans MT',\n",
       " 'Noto Sans Lisu',\n",
       " 'Perpetua',\n",
       " 'Segoe UI Historic',\n",
       " 'Noto Sans Georgian',\n",
       " 'Georgia',\n",
       " 'Gill Sans MT',\n",
       " 'DejaVu Sans',\n",
       " 'Gabriola',\n",
       " 'Candara',\n",
       " 'Carlito',\n",
       " 'Eras Medium ITC',\n",
       " 'Liberation Serif',\n",
       " 'Noto Sans',\n",
       " 'Leelawadee UI',\n",
       " 'Noto Sans',\n",
       " 'Calibri',\n",
       " 'Gentium Basic',\n",
       " 'David Libre',\n",
       " 'Eras Light ITC',\n",
       " 'Blackadder ITC',\n",
       " 'Bookman Old Style',\n",
       " 'Cambria',\n",
       " 'Tw Cen MT Condensed',\n",
       " 'David CLM',\n",
       " 'Noto Sans Arabic UI',\n",
       " 'Kunstler Script',\n",
       " 'Linux Biolinum G',\n",
       " 'Verdana',\n",
       " 'Frank Ruhl Hofshi',\n",
       " 'Trebuchet MS',\n",
       " 'Pyunji R',\n",
       " 'Microsoft Yi Baiti',\n",
       " 'Juice ITC',\n",
       " 'Noto Serif',\n",
       " 'Agency FB',\n",
       " 'Times New Roman',\n",
       " 'Lucida Fax',\n",
       " 'Noto Naskh Arabic',\n",
       " 'Consolas',\n",
       " 'Book Antiqua',\n",
       " 'Lucida Console',\n",
       " 'Noto Sans',\n",
       " 'Niagara Engraved',\n",
       " 'Lucida Bright',\n",
       " 'MV Boli',\n",
       " 'Bauhaus 93',\n",
       " 'Noto Naskh Arabic UI',\n",
       " 'Goudy Old Style',\n",
       " 'Yet R',\n",
       " 'Noto Serif Lao',\n",
       " 'Bodoni MT',\n",
       " 'Elephant',\n",
       " 'High Tower Text',\n",
       " 'Niagara Solid',\n",
       " 'Viner Hand ITC',\n",
       " 'Bodoni MT',\n",
       " 'Bodoni MT',\n",
       " 'Bodoni MT',\n",
       " 'Noto Sans',\n",
       " 'Californian FB',\n",
       " 'Noto Serif',\n",
       " 'Century Schoolbook',\n",
       " 'Amiri',\n",
       " 'Gloucester MT Extra Condensed',\n",
       " 'Century Gothic',\n",
       " 'Amiri',\n",
       " 'Noto Sans Lao',\n",
       " 'Lucida Sans',\n",
       " 'OCR A Extended',\n",
       " 'Gentium Book Basic',\n",
       " 'Arial',\n",
       " 'MingLiU-ExtB',\n",
       " 'Gill Sans MT Condensed',\n",
       " 'HYMyeongJo-Extra',\n",
       " 'Gadugi',\n",
       " 'Frank Ruhl Hofshi',\n",
       " 'Liberation Sans',\n",
       " 'Book Antiqua',\n",
       " 'Segoe UI',\n",
       " 'Garamond',\n",
       " 'Noto Serif Lao',\n",
       " 'Old English Text MT',\n",
       " 'Microsoft Tai Le',\n",
       " 'Linux Libertine G',\n",
       " 'Arial',\n",
       " 'Parchment',\n",
       " 'Rockwell',\n",
       " 'Gentium Book Basic',\n",
       " 'Microsoft Sans Serif',\n",
       " 'Liberation Sans Narrow',\n",
       " 'HYGothic-Medium',\n",
       " 'Scheherazade',\n",
       " 'Berlin Sans FB',\n",
       " 'Calibri',\n",
       " 'Century Schoolbook',\n",
       " 'Chiller',\n",
       " 'Agency FB',\n",
       " 'Gentium Book Basic',\n",
       " 'Castellar',\n",
       " 'Lucida Sans Unicode',\n",
       " 'Source Sans Pro',\n",
       " 'Dubai',\n",
       " 'OpenSymbol',\n",
       " 'Javanese Text',\n",
       " 'HYHeadLine-Medium',\n",
       " 'DejaVu Sans',\n",
       " 'Microsoft Himalaya',\n",
       " 'Baskerville Old Face',\n",
       " 'Linux Libertine G',\n",
       " 'Nirmala UI',\n",
       " 'DejaVu Serif',\n",
       " 'NanumGothic',\n",
       " 'Franklin Gothic Medium',\n",
       " 'HYGothic-Extra',\n",
       " 'Leelawadee UI',\n",
       " 'Perpetua',\n",
       " 'David CLM',\n",
       " 'Gentium Book Basic',\n",
       " 'Franklin Gothic Heavy',\n",
       " 'Reem Kufi',\n",
       " 'Rubik',\n",
       " 'Microsoft YaHei',\n",
       " 'Gill Sans Ultra Bold Condensed',\n",
       " 'Tw Cen MT',\n",
       " 'Segoe UI',\n",
       " 'Garamond',\n",
       " 'HYGraphic-Medium',\n",
       " 'DejaVu Serif',\n",
       " 'Miriam Mono CLM',\n",
       " 'MS Reference Specialty',\n",
       " 'Microsoft JhengHei',\n",
       " 'Segoe UI',\n",
       " 'Noto Sans Arabic',\n",
       " 'Noto Serif',\n",
       " 'Forte',\n",
       " 'Stencil',\n",
       " 'Sylfaen',\n",
       " 'Segoe UI',\n",
       " 'Noto Serif Armenian',\n",
       " 'Century',\n",
       " 'Franklin Gothic Demi',\n",
       " 'Tahoma',\n",
       " 'Impact',\n",
       " 'Headline R',\n",
       " 'DejaVu Sans',\n",
       " 'Lucida Sans Typewriter',\n",
       " 'Gulim',\n",
       " 'Noto Sans',\n",
       " 'Palatino Linotype',\n",
       " 'Arial',\n",
       " 'Source Sans Pro',\n",
       " 'Corbel',\n",
       " 'Liberation Serif',\n",
       " 'Constantia',\n",
       " 'Candara',\n",
       " 'Ami R',\n",
       " 'Source Sans Pro',\n",
       " 'Berlin Sans FB Demi',\n",
       " 'Tahoma',\n",
       " 'Amiri',\n",
       " 'Liberation Mono',\n",
       " 'Arial',\n",
       " 'Calisto MT',\n",
       " 'Ravie',\n",
       " 'Caladea',\n",
       " 'Perpetua',\n",
       " 'Segoe UI',\n",
       " 'Gill Sans MT Ext Condensed Bold',\n",
       " 'DejaVu Sans',\n",
       " 'Rockwell',\n",
       " 'Trebuchet MS',\n",
       " 'Harrington',\n",
       " 'Noto Sans',\n",
       " 'Noto Kufi Arabic',\n",
       " 'Arial',\n",
       " 'Microsoft New Tai Lue',\n",
       " 'Lucida Fax',\n",
       " 'Miriam Mono CLM',\n",
       " 'Noto Serif Armenian',\n",
       " 'Segoe UI Symbol',\n",
       " 'MS Outlook',\n",
       " 'Alef',\n",
       " 'Miriam Libre',\n",
       " 'Rubik',\n",
       " 'Frank Ruehl CLM',\n",
       " 'Calisto MT',\n",
       " 'MS Reference Sans Serif',\n",
       " 'Liberation Sans',\n",
       " 'Sitka',\n",
       " 'Noto Serif',\n",
       " 'Calisto MT',\n",
       " 'Noto Sans Hebrew',\n",
       " 'Bodoni MT',\n",
       " 'Calibri',\n",
       " 'Yu Gothic',\n",
       " 'DejaVu Math TeX Gyre',\n",
       " 'Showcard Gothic',\n",
       " 'Noto Serif',\n",
       " 'MoeumT R',\n",
       " 'Maiandra GD',\n",
       " 'Nirmala UI',\n",
       " 'Lucida Fax',\n",
       " 'Nirmala UI',\n",
       " 'Bookman Old Style',\n",
       " 'Segoe Script',\n",
       " 'Verdana',\n",
       " 'Comic Sans MS',\n",
       " 'Linux Biolinum G',\n",
       " 'Noto Serif Georgian',\n",
       " 'Ink Free',\n",
       " 'Calisto MT',\n",
       " 'Rubik',\n",
       " 'Segoe UI',\n",
       " 'Garamond',\n",
       " 'Segoe UI',\n",
       " 'Britannic Bold',\n",
       " 'Constantia',\n",
       " 'Source Sans Pro',\n",
       " 'Palatino Linotype',\n",
       " 'Copperplate Gothic Bold',\n",
       " 'Linux Libertine G',\n",
       " 'Corbel',\n",
       " 'Monotype Corsiva',\n",
       " 'Century Schoolbook',\n",
       " 'Segoe Print',\n",
       " 'DejaVu Sans Mono',\n",
       " 'Noto Sans Georgian',\n",
       " 'Footlight MT Light',\n",
       " 'Times New Roman',\n",
       " 'Linux Libertine G',\n",
       " 'Bell MT',\n",
       " 'Candara',\n",
       " 'Rockwell Condensed',\n",
       " 'Noto Naskh Arabic',\n",
       " 'Franklin Gothic Book',\n",
       " 'Perpetua',\n",
       " 'Source Sans Pro',\n",
       " 'Nachlieli CLM',\n",
       " 'Perpetua Titling MT',\n",
       " 'Tw Cen MT Condensed',\n",
       " 'Wingdings',\n",
       " 'Elephant',\n",
       " 'Palatino Linotype',\n",
       " 'Script MT Bold',\n",
       " 'Noto Sans Armenian',\n",
       " 'Bookman Old Style',\n",
       " 'DejaVu Sans Mono',\n",
       " 'Miriam CLM',\n",
       " 'Bookshelf Symbol 7',\n",
       " 'Lucida Handwriting',\n",
       " 'Segoe Fluent Icons',\n",
       " 'Arial',\n",
       " 'Corbel',\n",
       " 'Symbol',\n",
       " 'Engravers MT',\n",
       " 'Liberation Sans Narrow',\n",
       " 'DejaVu Sans',\n",
       " 'Harlow Solid Italic',\n",
       " 'HYShortSamul-Medium',\n",
       " 'Arial',\n",
       " 'Carlito',\n",
       " 'Tw Cen MT',\n",
       " 'Microsoft PhagsPa',\n",
       " 'Lucida Sans Typewriter',\n",
       " 'Calibri',\n",
       " 'Noto Sans',\n",
       " 'Miriam Mono CLM',\n",
       " 'Book Antiqua',\n",
       " 'Palatino Linotype',\n",
       " 'Tempus Sans ITC',\n",
       " 'New Gulim',\n",
       " 'Times New Roman',\n",
       " 'Dubai',\n",
       " 'Noto Sans',\n",
       " 'Arial',\n",
       " 'Segoe UI',\n",
       " 'Consolas',\n",
       " 'Linux Libertine G',\n",
       " 'Franklin Gothic Medium',\n",
       " 'Noto Sans',\n",
       " 'Ebrima',\n",
       " 'Noto Serif Georgian',\n",
       " 'DejaVu Serif',\n",
       " 'Courier New',\n",
       " 'Noto Naskh Arabic UI',\n",
       " 'Bell MT',\n",
       " 'Microsoft Tai Le',\n",
       " 'Jokerman',\n",
       " 'MT Extra',\n",
       " 'Georgia',\n",
       " 'Cooper Black',\n",
       " 'Microsoft JhengHei',\n",
       " 'Century Schoolbook',\n",
       " 'Liberation Sans',\n",
       " 'Haettenschweiler',\n",
       " 'Rockwell',\n",
       " 'Corbel',\n",
       " 'Candara',\n",
       " 'Amiri Quran',\n",
       " 'Wide Latin',\n",
       " 'Source Sans Pro',\n",
       " 'Georgia',\n",
       " 'Carlito',\n",
       " 'Bradley Hand ITC',\n",
       " 'Courier New',\n",
       " 'Nachlieli CLM',\n",
       " 'Source Sans Pro',\n",
       " 'NanumGothic',\n",
       " 'Carlito',\n",
       " 'Webdings',\n",
       " 'Gentium Basic',\n",
       " 'Frank Ruehl CLM',\n",
       " 'Eras Bold ITC',\n",
       " 'Sitka',\n",
       " 'Source Sans Pro',\n",
       " 'Cambria',\n",
       " 'Goudy Old Style',\n",
       " 'Comic Sans MS',\n",
       " 'Eras Demi ITC',\n",
       " 'Liberation Sans Narrow',\n",
       " 'Amiri',\n",
       " 'Edwardian Script ITC',\n",
       " 'Noto Serif',\n",
       " 'Noto Serif',\n",
       " 'Noto Sans Armenian',\n",
       " 'Frank Ruehl CLM',\n",
       " 'Consolas',\n",
       " 'Malgun Gothic',\n",
       " 'Tw Cen MT',\n",
       " 'HYPost-Medium',\n",
       " 'Brush Script MT',\n",
       " 'Gadugi',\n",
       " 'Franklin Gothic Book',\n",
       " 'Ebrima',\n",
       " 'Goudy Stout',\n",
       " 'Colonna MT',\n",
       " 'Lucida Sans',\n",
       " 'Gill Sans MT',\n",
       " 'Curlz MT',\n",
       " 'Bodoni MT',\n",
       " 'French Script MT',\n",
       " 'Noto Serif Hebrew',\n",
       " 'Noto Serif',\n",
       " 'Poor Richard',\n",
       " 'Consolas',\n",
       " 'Bodoni MT',\n",
       " 'Century Gothic',\n",
       " 'Myanmar Text',\n",
       " 'Rockwell Condensed',\n",
       " 'SimSun-ExtB',\n",
       " 'Yu Gothic',\n",
       " 'Source Sans Pro',\n",
       " 'Lucida Bright',\n",
       " 'Constantia',\n",
       " 'Arial',\n",
       " 'Segoe UI',\n",
       " 'Segoe UI',\n",
       " 'Noto Kufi Arabic',\n",
       " 'Microsoft PhagsPa',\n",
       " 'Nachlieli CLM',\n",
       " 'Rockwell',\n",
       " 'Broadway',\n",
       " 'Courier New',\n",
       " 'Playbill',\n",
       " 'Microsoft YaHei',\n",
       " 'Dubai',\n",
       " 'Magic R',\n",
       " 'Verdana',\n",
       " 'Yu Gothic',\n",
       " 'Microsoft YaHei',\n",
       " 'Calibri',\n",
       " 'David CLM',\n",
       " 'Liberation Serif',\n",
       " 'Gentium Basic',\n",
       " 'HoloLens MDL2 Assets',\n",
       " 'Tw Cen MT',\n",
       " 'DejaVu Serif',\n",
       " 'Leelawadee UI',\n",
       " 'Franklin Gothic Heavy',\n",
       " 'Segoe Print',\n",
       " 'Microsoft New Tai Lue',\n",
       " 'Lucida Fax',\n",
       " 'Miriam CLM',\n",
       " 'Comic Sans MS',\n",
       " 'Franklin Gothic Medium Cond',\n",
       " 'Noto Sans Arabic',\n",
       " 'Malgun Gothic',\n",
       " 'Caladea',\n",
       " 'Snap ITC',\n",
       " 'Georgia',\n",
       " 'Verdana',\n",
       " 'NanumGothic',\n",
       " 'Bookman Old Style',\n",
       " 'Linux Libertine Display G',\n",
       " 'Frank Ruehl CLM',\n",
       " 'Tw Cen MT Condensed Extra Bold',\n",
       " 'Gigi',\n",
       " 'Perpetua Titling MT',\n",
       " 'Candara',\n",
       " 'Imprint MT Shadow',\n",
       " 'Segoe UI Emoji',\n",
       " 'Linux Biolinum G',\n",
       " 'Microsoft JhengHei',\n",
       " 'Gill Sans Ultra Bold',\n",
       " 'Bodoni MT',\n",
       " 'Dubai',\n",
       " 'Bodoni MT',\n",
       " 'Miriam Mono CLM',\n",
       " 'Myanmar Text',\n",
       " 'Californian FB',\n",
       " 'Trebuchet MS',\n",
       " 'Corbel',\n",
       " 'Batang',\n",
       " 'Liberation Mono',\n",
       " 'Corbel',\n",
       " 'Franklin Gothic Demi',\n",
       " 'Californian FB',\n",
       " 'Noto Serif Hebrew',\n",
       " 'Noto Sans Arabic UI',\n",
       " 'Liberation Serif',\n",
       " 'MS Gothic',\n",
       " 'Nachlieli CLM',\n",
       " 'HYGungSo-Bold',\n",
       " 'Yu Gothic',\n",
       " 'Modern No. 20',\n",
       " 'Noto Sans Lao',\n",
       " 'Noto Serif',\n",
       " 'Scheherazade',\n",
       " 'Wingdings 2',\n",
       " 'Trebuchet MS',\n",
       " 'Rage Italic',\n",
       " 'Algerian',\n",
       " 'HYPMokGak-Bold',\n",
       " 'Bernard MT Condensed',\n",
       " 'Caladea',\n",
       " 'Comic Sans MS',\n",
       " 'DejaVu Serif',\n",
       " 'Copperplate Gothic Light',\n",
       " 'Mistral',\n",
       " 'Felix Titling',\n",
       " 'Magneto',\n",
       " 'DejaVu Serif',\n",
       " 'Candara',\n",
       " 'Source Sans Pro',\n",
       " 'Rockwell Extra Bold',\n",
       " 'Noto Sans Hebrew',\n",
       " 'Courier New',\n",
       " 'SimSun',\n",
       " 'Gentium Basic',\n",
       " 'HYPost-Light',\n",
       " 'Malgun Gothic',\n",
       " 'Alef',\n",
       " 'Lucida Sans',\n",
       " 'Lucida Bright',\n",
       " 'HYSinMyeongJo-Medium',\n",
       " 'Lucida Sans',\n",
       " 'Matura MT Script Capitals',\n",
       " 'DejaVu Sans',\n",
       " 'Liberation Mono',\n",
       " 'Lucida Calligraphy',\n",
       " 'Liberation Sans',\n",
       " 'Vladimir Script',\n",
       " 'Century Gothic',\n",
       " 'Gill Sans MT',\n",
       " 'Century Gothic',\n",
       " 'Caladea',\n",
       " 'Reem Kufi',\n",
       " 'Sans Serif Collection',\n",
       " 'Palace Script MT',\n",
       " 'Book Antiqua',\n",
       " 'Kristen ITC',\n",
       " 'Segoe Script',\n",
       " 'Noto Mono',\n",
       " 'DejaVu Sans',\n",
       " 'Lucida Bright',\n",
       " 'Liberation Mono',\n",
       " 'Bodoni MT',\n",
       " 'Arial Rounded MT Bold',\n",
       " 'DejaVu Sans',\n",
       " 'Source Sans Pro',\n",
       " 'Cambria',\n",
       " 'Noto Serif',\n",
       " 'Centaur',\n",
       " 'Informal Roman',\n",
       " 'DejaVu Sans Mono',\n",
       " 'Mongolian Baiti',\n",
       " 'Vivaldi',\n",
       " 'Bell MT',\n",
       " 'David Libre',\n",
       " 'Times New Roman',\n",
       " 'Freestyle Script',\n",
       " 'Goudy Old Style',\n",
       " 'Cambria',\n",
       " 'Bahnschrift',\n",
       " 'Segoe UI',\n",
       " 'Constantia',\n",
       " 'Miriam Libre',\n",
       " 'Source Sans Pro',\n",
       " 'Berlin Sans FB',\n",
       " 'Lucida Sans Typewriter',\n",
       " 'Noto Sans',\n",
       " 'Pristina',\n",
       " 'DejaVu Sans Mono',\n",
       " 'DejaVu Sans',\n",
       " 'Segoe UI',\n",
       " 'Segoe MDL2 Assets',\n",
       " 'Liberation Sans Narrow',\n",
       " 'David CLM',\n",
       " 'Bodoni MT',\n",
       " 'DejaVu Serif',\n",
       " 'High Tower Text',\n",
       " 'Onyx',\n",
       " 'Lucida Sans Typewriter',\n",
       " 'Calibri',\n",
       " 'Segoe UI Variable',\n",
       " 'DejaVu Serif']"
      ]
     },
     "metadata": {},
     "output_type": "display_data"
    }
   ],
   "source": [
    "[f.name for f in fm.fontManager.ttflist]"
   ]
  },
  {
   "cell_type": "code",
   "execution_count": null,
   "metadata": {},
   "outputs": [],
   "source": [
    "plt.rc('font', family='Malgun Gothic')"
   ]
  },
  {
   "cell_type": "code",
   "execution_count": null,
   "metadata": {},
   "outputs": [
    {
     "data": {
      "image/png": "[encoded data removed]",
      "text/plain": [
       "<Figure size 640x480 with 1 Axes>"
      ]
     },
     "metadata": {},
     "output_type": "display_data"
    }
   ],
   "source": [
    "sns.lineplot(data = df, x = '연도구분', y = '대장금액(원)')\n",
    "plt.show()"
   ]
  },
  {
   "cell_type": "markdown",
   "metadata": {},
   "source": [
    "# 상위 5개 지역별 매각 면적 확인하기"
   ]
  },
  {
   "cell_type": "code",
   "execution_count": null,
   "metadata": {},
   "outputs": [],
   "source": [
    "dfb = df.groupby(['부점명','팀명']).agg({'대장면적(제곱미터)' : sum})"
   ]
  },
  {
   "cell_type": "code",
   "execution_count": null,
   "metadata": {},
   "outputs": [
    {
     "data": {
      "text/html": [
       "<div>\n",
       "<style scoped>\n",
       "    .dataframe tbody tr th:only-of-type {\n",
       "        vertical-align: middle;\n",
       "    }\n",
       "\n",
       "    .dataframe tbody tr th {\n",
       "        vertical-align: top;\n",
       "    }\n",
       "\n",
       "    .dataframe thead th {\n",
       "        text-align: right;\n",
       "    }\n",
       "</style>\n",
       "<table border=\"1\" class=\"dataframe\">\n",
       "  <thead>\n",
       "    <tr style=\"text-align: right;\">\n",
       "      <th></th>\n",
       "      <th></th>\n",
       "      <th>대장면적(제곱미터)</th>\n",
       "    </tr>\n",
       "    <tr>\n",
       "      <th>부점명</th>\n",
       "      <th>팀명</th>\n",
       "      <th></th>\n",
       "    </tr>\n",
       "  </thead>\n",
       "  <tbody>\n",
       "    <tr>\n",
       "      <th rowspan=\"5\" valign=\"top\">강원지역본부</th>\n",
       "      <th>국유1팀</th>\n",
       "      <td>372155.281</td>\n",
       "    </tr>\n",
       "    <tr>\n",
       "      <th>국유2팀</th>\n",
       "      <td>536371.200</td>\n",
       "    </tr>\n",
       "    <tr>\n",
       "      <th>국유원주팀</th>\n",
       "      <td>948216.000</td>\n",
       "    </tr>\n",
       "    <tr>\n",
       "      <th>국유춘천팀</th>\n",
       "      <td>2163883.000</td>\n",
       "    </tr>\n",
       "    <tr>\n",
       "      <th>국유팀</th>\n",
       "      <td>4414675.000</td>\n",
       "    </tr>\n",
       "    <tr>\n",
       "      <th>...</th>\n",
       "      <th>...</th>\n",
       "      <td>...</td>\n",
       "    </tr>\n",
       "    <tr>\n",
       "      <th rowspan=\"5\" valign=\"top\">충북지역본부</th>\n",
       "      <th>국유재산관리1팀</th>\n",
       "      <td>58162.450</td>\n",
       "    </tr>\n",
       "    <tr>\n",
       "      <th>국유재산관리2팀</th>\n",
       "      <td>347405.500</td>\n",
       "    </tr>\n",
       "    <tr>\n",
       "      <th>국유재산관리팀</th>\n",
       "      <td>891385.000</td>\n",
       "    </tr>\n",
       "    <tr>\n",
       "      <th>충주지사</th>\n",
       "      <td>491023.780</td>\n",
       "    </tr>\n",
       "    <tr>\n",
       "      <th>팀미정</th>\n",
       "      <td>3641.000</td>\n",
       "    </tr>\n",
       "  </tbody>\n",
       "</table>\n",
       "<p>112 rows × 1 columns</p>\n",
       "</div>"
      ],
      "text/plain": [
       "                  대장면적(제곱미터)\n",
       "부점명    팀명                   \n",
       "강원지역본부 국유1팀       372155.281\n",
       "       국유2팀       536371.200\n",
       "       국유원주팀      948216.000\n",
       "       국유춘천팀     2163883.000\n",
       "       국유팀       4414675.000\n",
       "...                      ...\n",
       "충북지역본부 국유재산관리1팀    58162.450\n",
       "       국유재산관리2팀   347405.500\n",
       "       국유재산관리팀    891385.000\n",
       "       충주지사       491023.780\n",
       "       팀미정          3641.000\n",
       "\n",
       "[112 rows x 1 columns]"
      ]
     },
     "metadata": {},
     "output_type": "display_data"
    }
   ],
   "source": [
    "dfb"
   ]
  },
  {
   "cell_type": "code",
   "execution_count": null,
   "metadata": {},
   "outputs": [],
   "source": [
    "dfc = dfb.nlargest(5, '대장면적(제곱미터)', keep='first')"
   ]
  },
  {
   "cell_type": "code",
   "execution_count": null,
   "metadata": {},
   "outputs": [
    {
     "data": {
      "text/html": [
       "<div>\n",
       "<style scoped>\n",
       "    .dataframe tbody tr th:only-of-type {\n",
       "        vertical-align: middle;\n",
       "    }\n",
       "\n",
       "    .dataframe tbody tr th {\n",
       "        vertical-align: top;\n",
       "    }\n",
       "\n",
       "    .dataframe thead th {\n",
       "        text-align: right;\n",
       "    }\n",
       "</style>\n",
       "<table border=\"1\" class=\"dataframe\">\n",
       "  <thead>\n",
       "    <tr style=\"text-align: right;\">\n",
       "      <th></th>\n",
       "      <th></th>\n",
       "      <th>대장면적(제곱미터)</th>\n",
       "    </tr>\n",
       "    <tr>\n",
       "      <th>부점명</th>\n",
       "      <th>팀명</th>\n",
       "      <th></th>\n",
       "    </tr>\n",
       "  </thead>\n",
       "  <tbody>\n",
       "    <tr>\n",
       "      <th rowspan=\"2\" valign=\"top\">강원지역본부</th>\n",
       "      <th>국유팀</th>\n",
       "      <td>4414675.000</td>\n",
       "    </tr>\n",
       "    <tr>\n",
       "      <th>국유춘천팀</th>\n",
       "      <td>2163883.000</td>\n",
       "    </tr>\n",
       "    <tr>\n",
       "      <th>대전충남지역본부</th>\n",
       "      <th>내포지사</th>\n",
       "      <td>1952206.696</td>\n",
       "    </tr>\n",
       "    <tr>\n",
       "      <th>전북지역본부</th>\n",
       "      <th>국유재산관리1팀</th>\n",
       "      <td>1730079.900</td>\n",
       "    </tr>\n",
       "    <tr>\n",
       "      <th>광주전남지역본부</th>\n",
       "      <th>국유광주2팀</th>\n",
       "      <td>1489381.000</td>\n",
       "    </tr>\n",
       "  </tbody>\n",
       "</table>\n",
       "</div>"
      ],
      "text/plain": [
       "                    대장면적(제곱미터)\n",
       "부점명      팀명                   \n",
       "강원지역본부   국유팀       4414675.000\n",
       "         국유춘천팀     2163883.000\n",
       "대전충남지역본부 내포지사      1952206.696\n",
       "전북지역본부   국유재산관리1팀  1730079.900\n",
       "광주전남지역본부 국유광주2팀    1489381.000"
      ]
     },
     "metadata": {},
     "output_type": "display_data"
    }
   ],
   "source": [
    "dfc"
   ]
  },
  {
   "cell_type": "code",
   "execution_count": null,
   "metadata": {},
   "outputs": [
    {
     "name": "stderr",
     "output_type": "stream",
     "text": [
      "No artists with labels found to put in legend.  Note that artists whose label start with an underscore are ignored when legend() is called with no argument.\n"
     ]
    },
    {
     "data": {
      "image/png": "[encoded data removed]",
      "text/plain": [
       "<Figure size 640x480 with 1 Axes>"
      ]
     },
     "metadata": {},
     "output_type": "display_data"
    }
   ],
   "source": [
    "import matplotlib.pyplot as plt\n",
    "\n",
    "fig, ax = plt.subplots()\n",
    "\n",
    "팀명 = ['강원지역본부\\n국유팀', '강원지역본부\\n국유춘천팀', '대전충남지역본부\\n내포지사',\n",
    "      '전북지역본부\\n국유재산관리1팀', '광주전남지역본부\\n국유광주2팀']\n",
    "counts = [4414675.000, 2163883.000, 1952206.696, 1730079.900, 1489381.000]\n",
    "\n",
    "ax.bar(팀명, counts)\n",
    "\n",
    "\n",
    "ax.set_title('팀별 매각 면적 상위 5곳')\n",
    "ax.legend(title='대장면적(제곱미터)')\n",
    "\n",
    "plt.show()"
   ]
  },
  {
   "cell_type": "code",
   "execution_count": null,
   "metadata": {},
   "outputs": [],
   "source": [
    "dfd = pd.DataFrame(df.groupby('지역구분')['대장면적(제곱미터)'].sum())"
   ]
  },
  {
   "cell_type": "code",
   "execution_count": null,
   "metadata": {},
   "outputs": [
    {
     "data": {
      "text/html": [
       "<div>\n",
       "<style scoped>\n",
       "    .dataframe tbody tr th:only-of-type {\n",
       "        vertical-align: middle;\n",
       "    }\n",
       "\n",
       "    .dataframe tbody tr th {\n",
       "        vertical-align: top;\n",
       "    }\n",
       "\n",
       "    .dataframe thead th {\n",
       "        text-align: right;\n",
       "    }\n",
       "</style>\n",
       "<table border=\"1\" class=\"dataframe\">\n",
       "  <thead>\n",
       "    <tr style=\"text-align: right;\">\n",
       "      <th></th>\n",
       "      <th>대장면적(제곱미터)</th>\n",
       "    </tr>\n",
       "    <tr>\n",
       "      <th>지역구분</th>\n",
       "      <th></th>\n",
       "    </tr>\n",
       "  </thead>\n",
       "  <tbody>\n",
       "    <tr>\n",
       "      <th>강원도</th>\n",
       "      <td>9584364.950</td>\n",
       "    </tr>\n",
       "    <tr>\n",
       "      <th>경기도</th>\n",
       "      <td>8319993.462</td>\n",
       "    </tr>\n",
       "    <tr>\n",
       "      <th>경상남도</th>\n",
       "      <td>4400455.356</td>\n",
       "    </tr>\n",
       "    <tr>\n",
       "      <th>경상북도</th>\n",
       "      <td>4857939.602</td>\n",
       "    </tr>\n",
       "    <tr>\n",
       "      <th>광주광역시</th>\n",
       "      <td>1260222.536</td>\n",
       "    </tr>\n",
       "    <tr>\n",
       "      <th>대구광역시</th>\n",
       "      <td>406469.392</td>\n",
       "    </tr>\n",
       "    <tr>\n",
       "      <th>대전광역시</th>\n",
       "      <td>319324.575</td>\n",
       "    </tr>\n",
       "    <tr>\n",
       "      <th>부산광역시</th>\n",
       "      <td>1430846.754</td>\n",
       "    </tr>\n",
       "    <tr>\n",
       "      <th>서울특별시</th>\n",
       "      <td>632627.670</td>\n",
       "    </tr>\n",
       "    <tr>\n",
       "      <th>세종특별자치시</th>\n",
       "      <td>254083.300</td>\n",
       "    </tr>\n",
       "    <tr>\n",
       "      <th>울산광역시</th>\n",
       "      <td>642607.900</td>\n",
       "    </tr>\n",
       "    <tr>\n",
       "      <th>인천광역시</th>\n",
       "      <td>1350704.094</td>\n",
       "    </tr>\n",
       "    <tr>\n",
       "      <th>전라남도</th>\n",
       "      <td>5811610.737</td>\n",
       "    </tr>\n",
       "    <tr>\n",
       "      <th>전라북도</th>\n",
       "      <td>4984516.275</td>\n",
       "    </tr>\n",
       "    <tr>\n",
       "      <th>제주특별자치도</th>\n",
       "      <td>386370.620</td>\n",
       "    </tr>\n",
       "    <tr>\n",
       "      <th>충청남도</th>\n",
       "      <td>4839435.846</td>\n",
       "    </tr>\n",
       "    <tr>\n",
       "      <th>충청북도</th>\n",
       "      <td>2846756.730</td>\n",
       "    </tr>\n",
       "  </tbody>\n",
       "</table>\n",
       "</div>"
      ],
      "text/plain": [
       "          대장면적(제곱미터)\n",
       "지역구분                \n",
       "강원도      9584364.950\n",
       "경기도      8319993.462\n",
       "경상남도     4400455.356\n",
       "경상북도     4857939.602\n",
       "광주광역시    1260222.536\n",
       "대구광역시     406469.392\n",
       "대전광역시     319324.575\n",
       "부산광역시    1430846.754\n",
       "서울특별시     632627.670\n",
       "세종특별자치시   254083.300\n",
       "울산광역시     642607.900\n",
       "인천광역시    1350704.094\n",
       "전라남도     5811610.737\n",
       "전라북도     4984516.275\n",
       "제주특별자치도   386370.620\n",
       "충청남도     4839435.846\n",
       "충청북도     2846756.730"
      ]
     },
     "metadata": {},
     "output_type": "display_data"
    }
   ],
   "source": [
    "dfd"
   ]
  },
  {
   "cell_type": "code",
   "execution_count": null,
   "metadata": {},
   "outputs": [],
   "source": [
    "dfe = dfd.nlargest(5, '대장면적(제곱미터)', keep='first')"
   ]
  },
  {
   "cell_type": "code",
   "execution_count": null,
   "metadata": {},
   "outputs": [
    {
     "data": {
      "text/html": [
       "<div>\n",
       "<style scoped>\n",
       "    .dataframe tbody tr th:only-of-type {\n",
       "        vertical-align: middle;\n",
       "    }\n",
       "\n",
       "    .dataframe tbody tr th {\n",
       "        vertical-align: top;\n",
       "    }\n",
       "\n",
       "    .dataframe thead th {\n",
       "        text-align: right;\n",
       "    }\n",
       "</style>\n",
       "<table border=\"1\" class=\"dataframe\">\n",
       "  <thead>\n",
       "    <tr style=\"text-align: right;\">\n",
       "      <th></th>\n",
       "      <th>대장면적(제곱미터)</th>\n",
       "    </tr>\n",
       "    <tr>\n",
       "      <th>지역구분</th>\n",
       "      <th></th>\n",
       "    </tr>\n",
       "  </thead>\n",
       "  <tbody>\n",
       "    <tr>\n",
       "      <th>강원도</th>\n",
       "      <td>9584364.950</td>\n",
       "    </tr>\n",
       "    <tr>\n",
       "      <th>경기도</th>\n",
       "      <td>8319993.462</td>\n",
       "    </tr>\n",
       "    <tr>\n",
       "      <th>전라남도</th>\n",
       "      <td>5811610.737</td>\n",
       "    </tr>\n",
       "    <tr>\n",
       "      <th>전라북도</th>\n",
       "      <td>4984516.275</td>\n",
       "    </tr>\n",
       "    <tr>\n",
       "      <th>경상북도</th>\n",
       "      <td>4857939.602</td>\n",
       "    </tr>\n",
       "  </tbody>\n",
       "</table>\n",
       "</div>"
      ],
      "text/plain": [
       "       대장면적(제곱미터)\n",
       "지역구분             \n",
       "강원도   9584364.950\n",
       "경기도   8319993.462\n",
       "전라남도  5811610.737\n",
       "전라북도  4984516.275\n",
       "경상북도  4857939.602"
      ]
     },
     "metadata": {},
     "output_type": "display_data"
    }
   ],
   "source": [
    "dfe"
   ]
  },
  {
   "cell_type": "code",
   "execution_count": null,
   "metadata": {},
   "outputs": [
    {
     "name": "stderr",
     "output_type": "stream",
     "text": [
      "No artists with labels found to put in legend.  Note that artists whose label start with an underscore are ignored when legend() is called with no argument.\n"
     ]
    },
    {
     "data": {
      "image/png": "[encoded data removed]",
      "text/plain": [
       "<Figure size 640x480 with 1 Axes>"
      ]
     },
     "metadata": {},
     "output_type": "display_data"
    }
   ],
   "source": [
    "import matplotlib.pyplot as plt\n",
    "\n",
    "fig, ax = plt.subplots()\n",
    "\n",
    "팀명 = ['강원도', '경기도', '전라남도', '전라북도', '경상북도']\n",
    "counts = [9584364.950, 8319993.462, 5811610.737, 4984516.275, 4857939.602]\n",
    "\n",
    "ax.bar(팀명, counts)\n",
    "\n",
    "\n",
    "ax.set_title('지역별 매각 면적 상위 5곳')\n",
    "ax.legend(title='대장면적(제곱미터)')\n",
    "\n",
    "plt.show()"
   ]
  },
  {
   "cell_type": "markdown",
   "metadata": {},
   "source": [
    "# 계약 일자 정보 기준으로, 매각이 많은 때의 특징 알아보기"
   ]
  },
  {
   "cell_type": "code",
   "execution_count": null,
   "metadata": {},
   "outputs": [
    {
     "data": {
      "text/html": [
       "<div>\n",
       "<style scoped>\n",
       "    .dataframe tbody tr th:only-of-type {\n",
       "        vertical-align: middle;\n",
       "    }\n",
       "\n",
       "    .dataframe tbody tr th {\n",
       "        vertical-align: top;\n",
       "    }\n",
       "\n",
       "    .dataframe thead th {\n",
       "        text-align: right;\n",
       "    }\n",
       "</style>\n",
       "<table border=\"1\" class=\"dataframe\">\n",
       "  <thead>\n",
       "    <tr style=\"text-align: right;\">\n",
       "      <th></th>\n",
       "      <th>연도구분</th>\n",
       "      <th>지역구분</th>\n",
       "      <th>소재지명</th>\n",
       "      <th>재산구분</th>\n",
       "      <th>공부지목</th>\n",
       "      <th>대장면적(제곱미터)</th>\n",
       "      <th>대장금액(원)</th>\n",
       "      <th>처분구분명</th>\n",
       "      <th>계약일자</th>\n",
       "      <th>부점명</th>\n",
       "      <th>팀명</th>\n",
       "    </tr>\n",
       "  </thead>\n",
       "  <tbody>\n",
       "    <tr>\n",
       "      <th>0</th>\n",
       "      <td>2014</td>\n",
       "      <td>전라북도</td>\n",
       "      <td>전라북도 정읍시 상동  725</td>\n",
       "      <td>토지</td>\n",
       "      <td>전</td>\n",
       "      <td>56.0</td>\n",
       "      <td>9968000.0</td>\n",
       "      <td>처분(매각수의)</td>\n",
       "      <td>2014-01-01</td>\n",
       "      <td>전북지역본부</td>\n",
       "      <td>국유재산관리1팀</td>\n",
       "    </tr>\n",
       "    <tr>\n",
       "      <th>1</th>\n",
       "      <td>2014</td>\n",
       "      <td>울산광역시</td>\n",
       "      <td>울산광역시 북구 천곡동  709-1</td>\n",
       "      <td>토지</td>\n",
       "      <td>임야</td>\n",
       "      <td>225.0</td>\n",
       "      <td>13770000.0</td>\n",
       "      <td>처분(매각수의)</td>\n",
       "      <td>2014-01-01</td>\n",
       "      <td>국유재산관리부</td>\n",
       "      <td>국유울산팀</td>\n",
       "    </tr>\n",
       "    <tr>\n",
       "      <th>2</th>\n",
       "      <td>2014</td>\n",
       "      <td>전라북도</td>\n",
       "      <td>전라북도 정읍시 산내면 종성리 727-21</td>\n",
       "      <td>토지</td>\n",
       "      <td>답</td>\n",
       "      <td>105.0</td>\n",
       "      <td>1075200.0</td>\n",
       "      <td>처분(매각수의)</td>\n",
       "      <td>2014-01-01</td>\n",
       "      <td>전북지역본부</td>\n",
       "      <td>국유재산관리1팀</td>\n",
       "    </tr>\n",
       "    <tr>\n",
       "      <th>3</th>\n",
       "      <td>2014</td>\n",
       "      <td>전라북도</td>\n",
       "      <td>전라북도 정읍시 산내면 종성리 727-16</td>\n",
       "      <td>토지</td>\n",
       "      <td>답</td>\n",
       "      <td>184.0</td>\n",
       "      <td>1884160.0</td>\n",
       "      <td>처분(매각수의)</td>\n",
       "      <td>2014-01-01</td>\n",
       "      <td>전북지역본부</td>\n",
       "      <td>국유재산관리1팀</td>\n",
       "    </tr>\n",
       "    <tr>\n",
       "      <th>4</th>\n",
       "      <td>2014</td>\n",
       "      <td>전라북도</td>\n",
       "      <td>전라북도 김제시 검산동  424-3</td>\n",
       "      <td>토지</td>\n",
       "      <td>전</td>\n",
       "      <td>2106.0</td>\n",
       "      <td>23797800.0</td>\n",
       "      <td>처분(매각수의)</td>\n",
       "      <td>2014-01-01</td>\n",
       "      <td>전북지역본부</td>\n",
       "      <td>국유재산관리2팀</td>\n",
       "    </tr>\n",
       "    <tr>\n",
       "      <th>...</th>\n",
       "      <td>...</td>\n",
       "      <td>...</td>\n",
       "      <td>...</td>\n",
       "      <td>...</td>\n",
       "      <td>...</td>\n",
       "      <td>...</td>\n",
       "      <td>...</td>\n",
       "      <td>...</td>\n",
       "      <td>...</td>\n",
       "      <td>...</td>\n",
       "      <td>...</td>\n",
       "    </tr>\n",
       "    <tr>\n",
       "      <th>141312</th>\n",
       "      <td>2022</td>\n",
       "      <td>제주특별자치도</td>\n",
       "      <td>제주특별자치도 서귀포시 표선면 하천리 1500-4</td>\n",
       "      <td>토지</td>\n",
       "      <td>임야</td>\n",
       "      <td>208.0</td>\n",
       "      <td>29952000.0</td>\n",
       "      <td>처분(매각수의)</td>\n",
       "      <td>2022-11-09</td>\n",
       "      <td>광주전남지역본부</td>\n",
       "      <td>국유제주지사</td>\n",
       "    </tr>\n",
       "    <tr>\n",
       "      <th>141313</th>\n",
       "      <td>2022</td>\n",
       "      <td>제주특별자치도</td>\n",
       "      <td>제주특별자치도 서귀포시 표선면 세화리 2451-3</td>\n",
       "      <td>토지</td>\n",
       "      <td>전</td>\n",
       "      <td>1257.0</td>\n",
       "      <td>56062200.0</td>\n",
       "      <td>처분(매각수의)</td>\n",
       "      <td>2022-12-29</td>\n",
       "      <td>광주전남지역본부</td>\n",
       "      <td>국유제주지사</td>\n",
       "    </tr>\n",
       "    <tr>\n",
       "      <th>141314</th>\n",
       "      <td>2022</td>\n",
       "      <td>제주특별자치도</td>\n",
       "      <td>제주특별자치도 서귀포시 표선면 세화리 2451-10</td>\n",
       "      <td>토지</td>\n",
       "      <td>전</td>\n",
       "      <td>2974.0</td>\n",
       "      <td>132640400.0</td>\n",
       "      <td>처분(매각수의)</td>\n",
       "      <td>2022-12-29</td>\n",
       "      <td>광주전남지역본부</td>\n",
       "      <td>국유제주지사</td>\n",
       "    </tr>\n",
       "    <tr>\n",
       "      <th>141315</th>\n",
       "      <td>2022</td>\n",
       "      <td>제주특별자치도</td>\n",
       "      <td>제주특별자치도 서귀포시 표선면 토산리 32-3</td>\n",
       "      <td>토지</td>\n",
       "      <td>유지</td>\n",
       "      <td>80.0</td>\n",
       "      <td>32160000.0</td>\n",
       "      <td>처분(매각수의)</td>\n",
       "      <td>2022-08-04</td>\n",
       "      <td>광주전남지역본부</td>\n",
       "      <td>국유제주지사</td>\n",
       "    </tr>\n",
       "    <tr>\n",
       "      <th>141316</th>\n",
       "      <td>2022</td>\n",
       "      <td>제주특별자치도</td>\n",
       "      <td>제주특별자치도 서귀포시 표선면 토산리 1033</td>\n",
       "      <td>토지</td>\n",
       "      <td>묘지</td>\n",
       "      <td>178.0</td>\n",
       "      <td>2776800.0</td>\n",
       "      <td>처분(매각수의)</td>\n",
       "      <td>2022-11-22</td>\n",
       "      <td>광주전남지역본부</td>\n",
       "      <td>국유제주지사</td>\n",
       "    </tr>\n",
       "  </tbody>\n",
       "</table>\n",
       "<p>133083 rows × 11 columns</p>\n",
       "</div>"
      ],
      "text/plain": [
       "        연도구분     지역구분                          소재지명 재산구분 공부지목  대장면적(제곱미터)  \\\n",
       "0       2014     전라북도              전라북도 정읍시 상동  725   토지    전        56.0   \n",
       "1       2014    울산광역시           울산광역시 북구 천곡동  709-1   토지   임야       225.0   \n",
       "2       2014     전라북도       전라북도 정읍시 산내면 종성리 727-21   토지    답       105.0   \n",
       "3       2014     전라북도       전라북도 정읍시 산내면 종성리 727-16   토지    답       184.0   \n",
       "4       2014     전라북도           전라북도 김제시 검산동  424-3   토지    전      2106.0   \n",
       "...      ...      ...                           ...  ...  ...         ...   \n",
       "141312  2022  제주특별자치도   제주특별자치도 서귀포시 표선면 하천리 1500-4   토지   임야       208.0   \n",
       "141313  2022  제주특별자치도   제주특별자치도 서귀포시 표선면 세화리 2451-3   토지    전      1257.0   \n",
       "141314  2022  제주특별자치도  제주특별자치도 서귀포시 표선면 세화리 2451-10   토지    전      2974.0   \n",
       "141315  2022  제주특별자치도     제주특별자치도 서귀포시 표선면 토산리 32-3   토지   유지        80.0   \n",
       "141316  2022  제주특별자치도     제주특별자치도 서귀포시 표선면 토산리 1033   토지   묘지       178.0   \n",
       "\n",
       "            대장금액(원)     처분구분명        계약일자       부점명        팀명  \n",
       "0         9968000.0  처분(매각수의)  2014-01-01    전북지역본부  국유재산관리1팀  \n",
       "1        13770000.0  처분(매각수의)  2014-01-01   국유재산관리부     국유울산팀  \n",
       "2         1075200.0  처분(매각수의)  2014-01-01    전북지역본부  국유재산관리1팀  \n",
       "3         1884160.0  처분(매각수의)  2014-01-01    전북지역본부  국유재산관리1팀  \n",
       "4        23797800.0  처분(매각수의)  2014-01-01    전북지역본부  국유재산관리2팀  \n",
       "...             ...       ...         ...       ...       ...  \n",
       "141312   29952000.0  처분(매각수의)  2022-11-09  광주전남지역본부    국유제주지사  \n",
       "141313   56062200.0  처분(매각수의)  2022-12-29  광주전남지역본부    국유제주지사  \n",
       "141314  132640400.0  처분(매각수의)  2022-12-29  광주전남지역본부    국유제주지사  \n",
       "141315   32160000.0  처분(매각수의)  2022-08-04  광주전남지역본부    국유제주지사  \n",
       "141316    2776800.0  처분(매각수의)  2022-11-22  광주전남지역본부    국유제주지사  \n",
       "\n",
       "[133083 rows x 11 columns]"
      ]
     },
     "metadata": {},
     "output_type": "display_data"
    }
   ],
   "source": [
    "df"
   ]
  },
  {
   "cell_type": "code",
   "execution_count": null,
   "metadata": {},
   "outputs": [],
   "source": [
    "df11 = df.groupby('계약일자')['대장금액(원)'].describe()"
   ]
  },
  {
   "cell_type": "code",
   "execution_count": null,
   "metadata": {},
   "outputs": [],
   "source": [
    "df12 = df.groupby('계약일자')['대장면적(제곱미터)'].describe()"
   ]
  },
  {
   "cell_type": "code",
   "execution_count": null,
   "metadata": {},
   "outputs": [],
   "source": [
    "d1 = df11.nlargest(5, 'count', keep='first')"
   ]
  },
  {
   "cell_type": "code",
   "execution_count": null,
   "metadata": {},
   "outputs": [],
   "source": [
    "d2 = df12.nlargest(5, 'count', keep='first')"
   ]
  },
  {
   "cell_type": "code",
   "execution_count": null,
   "metadata": {},
   "outputs": [
    {
     "data": {
      "text/html": [
       "<div>\n",
       "<style scoped>\n",
       "    .dataframe tbody tr th:only-of-type {\n",
       "        vertical-align: middle;\n",
       "    }\n",
       "\n",
       "    .dataframe tbody tr th {\n",
       "        vertical-align: top;\n",
       "    }\n",
       "\n",
       "    .dataframe thead th {\n",
       "        text-align: right;\n",
       "    }\n",
       "</style>\n",
       "<table border=\"1\" class=\"dataframe\">\n",
       "  <thead>\n",
       "    <tr style=\"text-align: right;\">\n",
       "      <th></th>\n",
       "      <th>count</th>\n",
       "      <th>mean</th>\n",
       "      <th>std</th>\n",
       "      <th>min</th>\n",
       "      <th>25%</th>\n",
       "      <th>50%</th>\n",
       "      <th>75%</th>\n",
       "      <th>max</th>\n",
       "    </tr>\n",
       "    <tr>\n",
       "      <th>계약일자</th>\n",
       "      <th></th>\n",
       "      <th></th>\n",
       "      <th></th>\n",
       "      <th></th>\n",
       "      <th></th>\n",
       "      <th></th>\n",
       "      <th></th>\n",
       "      <th></th>\n",
       "    </tr>\n",
       "  </thead>\n",
       "  <tbody>\n",
       "    <tr>\n",
       "      <th>2017-12-01</th>\n",
       "      <td>592.0</td>\n",
       "      <td>4.298843e+07</td>\n",
       "      <td>6.421650e+07</td>\n",
       "      <td>30100.0</td>\n",
       "      <td>4310975.0</td>\n",
       "      <td>16365600.0</td>\n",
       "      <td>51383250.0</td>\n",
       "      <td>4.134888e+08</td>\n",
       "    </tr>\n",
       "    <tr>\n",
       "      <th>2022-07-25</th>\n",
       "      <td>486.0</td>\n",
       "      <td>8.575855e+07</td>\n",
       "      <td>6.111482e+08</td>\n",
       "      <td>128330.0</td>\n",
       "      <td>4481125.0</td>\n",
       "      <td>15364270.0</td>\n",
       "      <td>39138945.0</td>\n",
       "      <td>1.187670e+10</td>\n",
       "    </tr>\n",
       "    <tr>\n",
       "      <th>2020-04-01</th>\n",
       "      <td>442.0</td>\n",
       "      <td>1.587431e+06</td>\n",
       "      <td>3.079203e+06</td>\n",
       "      <td>9600.0</td>\n",
       "      <td>132800.0</td>\n",
       "      <td>467500.0</td>\n",
       "      <td>1550875.0</td>\n",
       "      <td>3.594256e+07</td>\n",
       "    </tr>\n",
       "    <tr>\n",
       "      <th>2019-08-29</th>\n",
       "      <td>431.0</td>\n",
       "      <td>8.840090e+07</td>\n",
       "      <td>3.039503e+08</td>\n",
       "      <td>108360.0</td>\n",
       "      <td>5797395.0</td>\n",
       "      <td>16980000.0</td>\n",
       "      <td>66055562.0</td>\n",
       "      <td>4.422430e+09</td>\n",
       "    </tr>\n",
       "    <tr>\n",
       "      <th>2017-10-27</th>\n",
       "      <td>412.0</td>\n",
       "      <td>1.943967e+07</td>\n",
       "      <td>5.000375e+07</td>\n",
       "      <td>4270.0</td>\n",
       "      <td>2116425.0</td>\n",
       "      <td>5922850.0</td>\n",
       "      <td>17061250.0</td>\n",
       "      <td>7.042840e+08</td>\n",
       "    </tr>\n",
       "  </tbody>\n",
       "</table>\n",
       "</div>"
      ],
      "text/plain": [
       "            count          mean           std       min        25%  \\\n",
       "계약일자                                                                 \n",
       "2017-12-01  592.0  4.298843e+07  6.421650e+07   30100.0  4310975.0   \n",
       "2022-07-25  486.0  8.575855e+07  6.111482e+08  128330.0  4481125.0   \n",
       "2020-04-01  442.0  1.587431e+06  3.079203e+06    9600.0   132800.0   \n",
       "2019-08-29  431.0  8.840090e+07  3.039503e+08  108360.0  5797395.0   \n",
       "2017-10-27  412.0  1.943967e+07  5.000375e+07    4270.0  2116425.0   \n",
       "\n",
       "                   50%         75%           max  \n",
       "계약일자                                              \n",
       "2017-12-01  16365600.0  51383250.0  4.134888e+08  \n",
       "2022-07-25  15364270.0  39138945.0  1.187670e+10  \n",
       "2020-04-01    467500.0   1550875.0  3.594256e+07  \n",
       "2019-08-29  16980000.0  66055562.0  4.422430e+09  \n",
       "2017-10-27   5922850.0  17061250.0  7.042840e+08  "
      ]
     },
     "metadata": {},
     "output_type": "display_data"
    }
   ],
   "source": [
    "d1"
   ]
  },
  {
   "cell_type": "code",
   "execution_count": null,
   "metadata": {},
   "outputs": [
    {
     "data": {
      "text/html": [
       "<div>\n",
       "<style scoped>\n",
       "    .dataframe tbody tr th:only-of-type {\n",
       "        vertical-align: middle;\n",
       "    }\n",
       "\n",
       "    .dataframe tbody tr th {\n",
       "        vertical-align: top;\n",
       "    }\n",
       "\n",
       "    .dataframe thead th {\n",
       "        text-align: right;\n",
       "    }\n",
       "</style>\n",
       "<table border=\"1\" class=\"dataframe\">\n",
       "  <thead>\n",
       "    <tr style=\"text-align: right;\">\n",
       "      <th></th>\n",
       "      <th>count</th>\n",
       "      <th>mean</th>\n",
       "      <th>std</th>\n",
       "      <th>min</th>\n",
       "      <th>25%</th>\n",
       "      <th>50%</th>\n",
       "      <th>75%</th>\n",
       "      <th>max</th>\n",
       "    </tr>\n",
       "    <tr>\n",
       "      <th>계약일자</th>\n",
       "      <th></th>\n",
       "      <th></th>\n",
       "      <th></th>\n",
       "      <th></th>\n",
       "      <th></th>\n",
       "      <th></th>\n",
       "      <th></th>\n",
       "      <th></th>\n",
       "    </tr>\n",
       "  </thead>\n",
       "  <tbody>\n",
       "    <tr>\n",
       "      <th>2017-12-01</th>\n",
       "      <td>592.0</td>\n",
       "      <td>384.964527</td>\n",
       "      <td>688.412992</td>\n",
       "      <td>1.0</td>\n",
       "      <td>38.75</td>\n",
       "      <td>132.0</td>\n",
       "      <td>437.50</td>\n",
       "      <td>5304.0</td>\n",
       "    </tr>\n",
       "    <tr>\n",
       "      <th>2022-07-25</th>\n",
       "      <td>486.0</td>\n",
       "      <td>107.620833</td>\n",
       "      <td>408.040552</td>\n",
       "      <td>0.3</td>\n",
       "      <td>10.00</td>\n",
       "      <td>24.0</td>\n",
       "      <td>82.75</td>\n",
       "      <td>7788.0</td>\n",
       "    </tr>\n",
       "    <tr>\n",
       "      <th>2020-04-01</th>\n",
       "      <td>442.0</td>\n",
       "      <td>159.735294</td>\n",
       "      <td>286.035161</td>\n",
       "      <td>1.0</td>\n",
       "      <td>16.25</td>\n",
       "      <td>53.0</td>\n",
       "      <td>162.00</td>\n",
       "      <td>2961.0</td>\n",
       "    </tr>\n",
       "    <tr>\n",
       "      <th>2019-08-29</th>\n",
       "      <td>431.0</td>\n",
       "      <td>187.232019</td>\n",
       "      <td>659.302120</td>\n",
       "      <td>1.0</td>\n",
       "      <td>16.00</td>\n",
       "      <td>40.0</td>\n",
       "      <td>134.50</td>\n",
       "      <td>6873.0</td>\n",
       "    </tr>\n",
       "    <tr>\n",
       "      <th>2017-10-27</th>\n",
       "      <td>412.0</td>\n",
       "      <td>171.742718</td>\n",
       "      <td>418.700785</td>\n",
       "      <td>1.0</td>\n",
       "      <td>8.00</td>\n",
       "      <td>31.0</td>\n",
       "      <td>113.25</td>\n",
       "      <td>3722.0</td>\n",
       "    </tr>\n",
       "  </tbody>\n",
       "</table>\n",
       "</div>"
      ],
      "text/plain": [
       "            count        mean         std  min    25%    50%     75%     max\n",
       "계약일자                                                                        \n",
       "2017-12-01  592.0  384.964527  688.412992  1.0  38.75  132.0  437.50  5304.0\n",
       "2022-07-25  486.0  107.620833  408.040552  0.3  10.00   24.0   82.75  7788.0\n",
       "2020-04-01  442.0  159.735294  286.035161  1.0  16.25   53.0  162.00  2961.0\n",
       "2019-08-29  431.0  187.232019  659.302120  1.0  16.00   40.0  134.50  6873.0\n",
       "2017-10-27  412.0  171.742718  418.700785  1.0   8.00   31.0  113.25  3722.0"
      ]
     },
     "metadata": {},
     "output_type": "display_data"
    }
   ],
   "source": [
    "d2"
   ]
  },
  {
   "cell_type": "code",
   "execution_count": null,
   "metadata": {},
   "outputs": [],
   "source": [
    "target1 = ['2017-12-01', '2022-07-25', '2020-04-01','2019-08-29', '2017-10-27']\n",
    "df10 = df[df['계약일자'].apply(lambda x : x in target1)]"
   ]
  },
  {
   "cell_type": "code",
   "execution_count": null,
   "metadata": {},
   "outputs": [],
   "source": [
    "d10 = pd.DataFrame(df10.groupby('계약일자')['지역구분'].value_counts())"
   ]
  },
  {
   "cell_type": "code",
   "execution_count": null,
   "metadata": {},
   "outputs": [
    {
     "data": {
      "text/html": [
       "<div>\n",
       "<style scoped>\n",
       "    .dataframe tbody tr th:only-of-type {\n",
       "        vertical-align: middle;\n",
       "    }\n",
       "\n",
       "    .dataframe tbody tr th {\n",
       "        vertical-align: top;\n",
       "    }\n",
       "\n",
       "    .dataframe thead th {\n",
       "        text-align: right;\n",
       "    }\n",
       "</style>\n",
       "<table border=\"1\" class=\"dataframe\">\n",
       "  <thead>\n",
       "    <tr style=\"text-align: right;\">\n",
       "      <th></th>\n",
       "      <th></th>\n",
       "      <th>지역구분</th>\n",
       "    </tr>\n",
       "    <tr>\n",
       "      <th>계약일자</th>\n",
       "      <th>지역구분</th>\n",
       "      <th></th>\n",
       "    </tr>\n",
       "  </thead>\n",
       "  <tbody>\n",
       "    <tr>\n",
       "      <th rowspan=\"13\" valign=\"top\">2017-10-27</th>\n",
       "      <th>부산광역시</th>\n",
       "      <td>272</td>\n",
       "    </tr>\n",
       "    <tr>\n",
       "      <th>경상북도</th>\n",
       "      <td>32</td>\n",
       "    </tr>\n",
       "    <tr>\n",
       "      <th>경기도</th>\n",
       "      <td>21</td>\n",
       "    </tr>\n",
       "    <tr>\n",
       "      <th>전라남도</th>\n",
       "      <td>20</td>\n",
       "    </tr>\n",
       "    <tr>\n",
       "      <th>전라북도</th>\n",
       "      <td>17</td>\n",
       "    </tr>\n",
       "    <tr>\n",
       "      <th>경상남도</th>\n",
       "      <td>15</td>\n",
       "    </tr>\n",
       "    <tr>\n",
       "      <th>충청남도</th>\n",
       "      <td>13</td>\n",
       "    </tr>\n",
       "    <tr>\n",
       "      <th>강원도</th>\n",
       "      <td>10</td>\n",
       "    </tr>\n",
       "    <tr>\n",
       "      <th>충청북도</th>\n",
       "      <td>4</td>\n",
       "    </tr>\n",
       "    <tr>\n",
       "      <th>서울특별시</th>\n",
       "      <td>3</td>\n",
       "    </tr>\n",
       "    <tr>\n",
       "      <th>광주광역시</th>\n",
       "      <td>2</td>\n",
       "    </tr>\n",
       "    <tr>\n",
       "      <th>인천광역시</th>\n",
       "      <td>2</td>\n",
       "    </tr>\n",
       "    <tr>\n",
       "      <th>대전광역시</th>\n",
       "      <td>1</td>\n",
       "    </tr>\n",
       "    <tr>\n",
       "      <th rowspan=\"11\" valign=\"top\">2017-12-01</th>\n",
       "      <th>부산광역시</th>\n",
       "      <td>528</td>\n",
       "    </tr>\n",
       "    <tr>\n",
       "      <th>전라남도</th>\n",
       "      <td>17</td>\n",
       "    </tr>\n",
       "    <tr>\n",
       "      <th>경상북도</th>\n",
       "      <td>14</td>\n",
       "    </tr>\n",
       "    <tr>\n",
       "      <th>경기도</th>\n",
       "      <td>11</td>\n",
       "    </tr>\n",
       "    <tr>\n",
       "      <th>경상남도</th>\n",
       "      <td>6</td>\n",
       "    </tr>\n",
       "    <tr>\n",
       "      <th>강원도</th>\n",
       "      <td>5</td>\n",
       "    </tr>\n",
       "    <tr>\n",
       "      <th>전라북도</th>\n",
       "      <td>4</td>\n",
       "    </tr>\n",
       "    <tr>\n",
       "      <th>충청남도</th>\n",
       "      <td>3</td>\n",
       "    </tr>\n",
       "    <tr>\n",
       "      <th>제주특별자치도</th>\n",
       "      <td>2</td>\n",
       "    </tr>\n",
       "    <tr>\n",
       "      <th>대구광역시</th>\n",
       "      <td>1</td>\n",
       "    </tr>\n",
       "    <tr>\n",
       "      <th>충청북도</th>\n",
       "      <td>1</td>\n",
       "    </tr>\n",
       "    <tr>\n",
       "      <th rowspan=\"11\" valign=\"top\">2019-08-29</th>\n",
       "      <th>부산광역시</th>\n",
       "      <td>388</td>\n",
       "    </tr>\n",
       "    <tr>\n",
       "      <th>경상북도</th>\n",
       "      <td>7</td>\n",
       "    </tr>\n",
       "    <tr>\n",
       "      <th>대전광역시</th>\n",
       "      <td>6</td>\n",
       "    </tr>\n",
       "    <tr>\n",
       "      <th>전라남도</th>\n",
       "      <td>6</td>\n",
       "    </tr>\n",
       "    <tr>\n",
       "      <th>전라북도</th>\n",
       "      <td>6</td>\n",
       "    </tr>\n",
       "    <tr>\n",
       "      <th>경기도</th>\n",
       "      <td>5</td>\n",
       "    </tr>\n",
       "    <tr>\n",
       "      <th>경상남도</th>\n",
       "      <td>5</td>\n",
       "    </tr>\n",
       "    <tr>\n",
       "      <th>서울특별시</th>\n",
       "      <td>3</td>\n",
       "    </tr>\n",
       "    <tr>\n",
       "      <th>강원도</th>\n",
       "      <td>2</td>\n",
       "    </tr>\n",
       "    <tr>\n",
       "      <th>충청남도</th>\n",
       "      <td>2</td>\n",
       "    </tr>\n",
       "    <tr>\n",
       "      <th>인천광역시</th>\n",
       "      <td>1</td>\n",
       "    </tr>\n",
       "    <tr>\n",
       "      <th rowspan=\"5\" valign=\"top\">2020-04-01</th>\n",
       "      <th>경상남도</th>\n",
       "      <td>423</td>\n",
       "    </tr>\n",
       "    <tr>\n",
       "      <th>전라북도</th>\n",
       "      <td>9</td>\n",
       "    </tr>\n",
       "    <tr>\n",
       "      <th>충청북도</th>\n",
       "      <td>4</td>\n",
       "    </tr>\n",
       "    <tr>\n",
       "      <th>강원도</th>\n",
       "      <td>3</td>\n",
       "    </tr>\n",
       "    <tr>\n",
       "      <th>경기도</th>\n",
       "      <td>3</td>\n",
       "    </tr>\n",
       "    <tr>\n",
       "      <th rowspan=\"10\" valign=\"top\">2022-07-25</th>\n",
       "      <th>부산광역시</th>\n",
       "      <td>403</td>\n",
       "    </tr>\n",
       "    <tr>\n",
       "      <th>경상남도</th>\n",
       "      <td>58</td>\n",
       "    </tr>\n",
       "    <tr>\n",
       "      <th>경기도</th>\n",
       "      <td>7</td>\n",
       "    </tr>\n",
       "    <tr>\n",
       "      <th>충청북도</th>\n",
       "      <td>5</td>\n",
       "    </tr>\n",
       "    <tr>\n",
       "      <th>제주특별자치도</th>\n",
       "      <td>4</td>\n",
       "    </tr>\n",
       "    <tr>\n",
       "      <th>전라남도</th>\n",
       "      <td>3</td>\n",
       "    </tr>\n",
       "    <tr>\n",
       "      <th>전라북도</th>\n",
       "      <td>3</td>\n",
       "    </tr>\n",
       "    <tr>\n",
       "      <th>경상북도</th>\n",
       "      <td>1</td>\n",
       "    </tr>\n",
       "    <tr>\n",
       "      <th>서울특별시</th>\n",
       "      <td>1</td>\n",
       "    </tr>\n",
       "    <tr>\n",
       "      <th>울산광역시</th>\n",
       "      <td>1</td>\n",
       "    </tr>\n",
       "  </tbody>\n",
       "</table>\n",
       "</div>"
      ],
      "text/plain": [
       "                    지역구분\n",
       "계약일자       지역구분         \n",
       "2017-10-27 부산광역시     272\n",
       "           경상북도       32\n",
       "           경기도        21\n",
       "           전라남도       20\n",
       "           전라북도       17\n",
       "           경상남도       15\n",
       "           충청남도       13\n",
       "           강원도        10\n",
       "           충청북도        4\n",
       "           서울특별시       3\n",
       "           광주광역시       2\n",
       "           인천광역시       2\n",
       "           대전광역시       1\n",
       "2017-12-01 부산광역시     528\n",
       "           전라남도       17\n",
       "           경상북도       14\n",
       "           경기도        11\n",
       "           경상남도        6\n",
       "           강원도         5\n",
       "           전라북도        4\n",
       "           충청남도        3\n",
       "           제주특별자치도     2\n",
       "           대구광역시       1\n",
       "           충청북도        1\n",
       "2019-08-29 부산광역시     388\n",
       "           경상북도        7\n",
       "           대전광역시       6\n",
       "           전라남도        6\n",
       "           전라북도        6\n",
       "           경기도         5\n",
       "           경상남도        5\n",
       "           서울특별시       3\n",
       "           강원도         2\n",
       "           충청남도        2\n",
       "           인천광역시       1\n",
       "2020-04-01 경상남도      423\n",
       "           전라북도        9\n",
       "           충청북도        4\n",
       "           강원도         3\n",
       "           경기도         3\n",
       "2022-07-25 부산광역시     403\n",
       "           경상남도       58\n",
       "           경기도         7\n",
       "           충청북도        5\n",
       "           제주특별자치도     4\n",
       "           전라남도        3\n",
       "           전라북도        3\n",
       "           경상북도        1\n",
       "           서울특별시       1\n",
       "           울산광역시       1"
      ]
     },
     "metadata": {},
     "output_type": "display_data"
    }
   ],
   "source": [
    "d10"
   ]
  },
  {
   "cell_type": "code",
   "execution_count": null,
   "metadata": {},
   "outputs": [
    {
     "name": "stderr",
     "output_type": "stream",
     "text": [
      "No artists with labels found to put in legend.  Note that artists whose label start with an underscore are ignored when legend() is called with no argument.\n"
     ]
    },
    {
     "data": {
      "image/png": "[encoded data removed]",
      "text/plain": [
       "<Figure size 200x200 with 1 Axes>"
      ]
     },
     "metadata": {},
     "output_type": "display_data"
    }
   ],
   "source": [
    "import matplotlib.pyplot as plt\n",
    "\n",
    "fig, ax = plt.subplots()\n",
    "\n",
    "팀명 = ['2017-\\n10-27', '2017-\\n12-01', '2019-\\n08-29', '2020-\\n04-01', '2022-\\n07-25']\n",
    "counts = [412, 592, 431, 442, 486]\n",
    "\n",
    "ax.bar(팀명, counts)\n",
    "\n",
    "\n",
    "ax.set_title('일자별 매각량 상위 5일 매각량')\n",
    "ax.legend(title='매각량(건)')\n",
    "\n",
    "plt.show()"
   ]
  },
  {
   "cell_type": "code",
   "execution_count": null,
   "metadata": {},
   "outputs": [],
   "source": [
    "d10 = df10.groupby('계약일자')['지역구분'].describe()"
   ]
  },
  {
   "cell_type": "code",
   "execution_count": null,
   "metadata": {},
   "outputs": [
    {
     "data": {
      "text/html": [
       "<div>\n",
       "<style scoped>\n",
       "    .dataframe tbody tr th:only-of-type {\n",
       "        vertical-align: middle;\n",
       "    }\n",
       "\n",
       "    .dataframe tbody tr th {\n",
       "        vertical-align: top;\n",
       "    }\n",
       "\n",
       "    .dataframe thead th {\n",
       "        text-align: right;\n",
       "    }\n",
       "</style>\n",
       "<table border=\"1\" class=\"dataframe\">\n",
       "  <thead>\n",
       "    <tr style=\"text-align: right;\">\n",
       "      <th></th>\n",
       "      <th>count</th>\n",
       "      <th>unique</th>\n",
       "      <th>top</th>\n",
       "      <th>freq</th>\n",
       "    </tr>\n",
       "    <tr>\n",
       "      <th>계약일자</th>\n",
       "      <th></th>\n",
       "      <th></th>\n",
       "      <th></th>\n",
       "      <th></th>\n",
       "    </tr>\n",
       "  </thead>\n",
       "  <tbody>\n",
       "    <tr>\n",
       "      <th>2017-10-27</th>\n",
       "      <td>412</td>\n",
       "      <td>13</td>\n",
       "      <td>부산광역시</td>\n",
       "      <td>272</td>\n",
       "    </tr>\n",
       "    <tr>\n",
       "      <th>2017-12-01</th>\n",
       "      <td>592</td>\n",
       "      <td>11</td>\n",
       "      <td>부산광역시</td>\n",
       "      <td>528</td>\n",
       "    </tr>\n",
       "    <tr>\n",
       "      <th>2019-08-29</th>\n",
       "      <td>431</td>\n",
       "      <td>11</td>\n",
       "      <td>부산광역시</td>\n",
       "      <td>388</td>\n",
       "    </tr>\n",
       "    <tr>\n",
       "      <th>2020-04-01</th>\n",
       "      <td>442</td>\n",
       "      <td>5</td>\n",
       "      <td>경상남도</td>\n",
       "      <td>423</td>\n",
       "    </tr>\n",
       "    <tr>\n",
       "      <th>2022-07-25</th>\n",
       "      <td>486</td>\n",
       "      <td>10</td>\n",
       "      <td>부산광역시</td>\n",
       "      <td>403</td>\n",
       "    </tr>\n",
       "  </tbody>\n",
       "</table>\n",
       "</div>"
      ],
      "text/plain": [
       "           count unique    top freq\n",
       "계약일자                               \n",
       "2017-10-27   412     13  부산광역시  272\n",
       "2017-12-01   592     11  부산광역시  528\n",
       "2019-08-29   431     11  부산광역시  388\n",
       "2020-04-01   442      5   경상남도  423\n",
       "2022-07-25   486     10  부산광역시  403"
      ]
     },
     "metadata": {},
     "output_type": "display_data"
    }
   ],
   "source": [
    "d10"
   ]
  },
  {
   "cell_type": "code",
   "execution_count": null,
   "metadata": {},
   "outputs": [],
   "source": []
  }
 ],
 "metadata": {
  "kernelspec": {
   "display_name": "Python 3 (ipykernel)",
   "language": "python",
   "name": "python3"
  },
  "language_info": {
   "codemirror_mode": {
    "name": "ipython",
    "version": 3
   },
   "file_extension": ".py",
   "mimetype": "text/x-python",
   "name": "python",
   "nbconvert_exporter": "python",
   "pygments_lexer": "ipython3",
   "version": "3.10.9"
  }
 },
 "nbformat": 4,
 "nbformat_minor": 5
}
