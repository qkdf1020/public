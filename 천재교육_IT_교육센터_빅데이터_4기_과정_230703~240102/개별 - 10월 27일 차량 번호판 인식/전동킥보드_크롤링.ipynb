{
 "cells": [
  {
   "cell_type": "code",
   "execution_count": null,
   "metadata": {},
   "outputs": [],
   "source": [
    "# 해당 파일은 python 3.10.9에서 작성 되었습니다."
   ]
  },
  {
   "cell_type": "code",
   "execution_count": null,
   "metadata": {},
   "outputs": [],
   "source": [
    "# pip install selenium"
   ]
  },
  {
   "cell_type": "code",
   "execution_count": null,
   "metadata": {},
   "outputs": [],
   "source": [
    "# pip install --upgrade selenium"
   ]
  },
  {
   "cell_type": "code",
   "execution_count": null,
   "metadata": {},
   "outputs": [],
   "source": [
    "# pip install --upgrade urllib3 chardet"
   ]
  },
  {
   "cell_type": "markdown",
   "metadata": {},
   "source": [
    "# 이미지 크롤링"
   ]
  },
  {
   "cell_type": "code",
   "execution_count": null,
   "metadata": {},
   "outputs": [],
   "source": [
    "from selenium import webdriver\n",
    "from selenium.webdriver.common.keys import Keys\n",
    "from selenium.webdriver.common.by import By\n",
    "from urllib.request import urlretrieve\n",
    "import pandas as pd\n",
    "import os\n",
    "import time\n",
    "import random\n",
    "\n",
    "# 최소 및 최대 대기 시간 설정 (예: 'min_wait초 에서 'max_wait'초 사이의 랜덤 대기)\n",
    "min_wait = 2 # 최소 대기 시간 (초)\n",
    "max_wait = 4 # 최대 대기 시간 (초)\n",
    "\n",
    "# 랜덤 대기 시간 생성\n",
    "random_wait = random.uniform(min_wait, max_wait)\n",
    "\n",
    "ind = 1 # 현재 복사한 순서\n",
    "ind_ = 50 # 현재 페이지에 결번이 있으며 결번 뒤의 지정 번호 까지 반복하고 페이지를 넘어감\n",
    "no = 0  # 페이지 번호\n",
    "list_1 = [] # 결과물이 저장되는 리스트\n",
    "\n",
    "# 찾을 검색어\n",
    "find = '전동킥보드'\n",
    "\n",
    "driver = webdriver.Chrome()\n",
    "driver.get(f\"https://search.shopping.naver.com/search/all?where=all&frm=NVSCTAB&query={find}\")\n",
    "\n",
    "time.sleep(5) # 브라우저가 열릴떄 까지 대기\n",
    "\n",
    "# 이미지 저장할 폴더 생성\n",
    "save_folder = os.path.join(os.getcwd(), \"data\")\n",
    "os.makedirs(save_folder, exist_ok=True)\n",
    "\n",
    "# 반복할 횟수 설정\n",
    "repeat_limit = 3\n",
    "\n",
    "while no <= repeat_limit:\n",
    "    try:\n",
    "        img_element = driver.find_element(by = 'xpath', value = f'//*[@id=\"content\"]/div[1]/div[2]/div/div[{ind}]/div/div/div[1]/div/a/img')\n",
    "        img_src = img_element.get_attribute(\"src\")\n",
    "        img_alt = img_element.get_attribute(\"alt\")\n",
    "        list_1 = [img_src, img_alt]\n",
    "        \n",
    "        try:\n",
    "            file_name = f\"{no + 1}-{ind}-{list_1[1]}.jpg\"\n",
    "            file_path = os.path.join(save_folder, file_name)\n",
    "            urlretrieve(list_1[0], file_path)\n",
    "            print(f\"다운로드 완료: {file_name}\")\n",
    "            \n",
    "        except Exception as e:\n",
    "            print(f\"다운로드 중 오류 발생: {e}\")\n",
    "            \n",
    "        time.sleep(random_wait) # import time\n",
    "        ind += 1\n",
    "\n",
    "    except:\n",
    "        if ind < ind_: \n",
    "            # 스크롤 내리기 (페이지 다운 키를 사용)\n",
    "            driver.find_element(by = By.TAG_NAME, value = \"body\").send_keys(Keys.PAGE_DOWN)\n",
    "            ind += 1\n",
    "            continue\n",
    "        \n",
    "        else:\n",
    "            # 다음 페이지로 넘어가기\n",
    "            try:\n",
    "                no += 1\n",
    "                driver.find_element(by = 'xpath', value = f'//*[@id=\"page_area\"]/a[{no}]').click()\n",
    "                print(f\"{no} 페이지의 다운로드를 완료하였습니다.\")\n",
    "                ind = 1\n",
    "\n",
    "                time.sleep(random_wait) # import time\n",
    "\n",
    "            except:\n",
    "                break\n"
   ]
  },
  {
   "cell_type": "markdown",
   "metadata": {},
   "source": [
    "# 택스트 크롤링"
   ]
  },
  {
   "cell_type": "code",
   "execution_count": null,
   "metadata": {},
   "outputs": [],
   "source": [
    "# 패키지 불러오기\n",
    "from selenium import webdriver\n",
    "from selenium.webdriver.common.keys import Keys\n",
    "from selenium.webdriver.common.by import By\n",
    "import pandas as pd\n",
    "import time\n",
    "import random\n",
    "\n",
    "# 최소 및 최대 대기 시간 설정 (예: 'min_wait초 에서 'max_wait'초 사이의 랜덤 대기)\n",
    "min_wait = 1  # 최소 대기 시간 (초)\n",
    "max_wait = 2  # 최대 대기 시간 (초)\n",
    "\n",
    "# 랜덤 대기 시간 생성\n",
    "random_wait = random.uniform(min_wait, max_wait)\n",
    "\n",
    "ind = 1 # 현재 복사한 순서\n",
    "no = 0  # 지역목록 순서\n",
    "list_1 = [] # 결과물이 저장되는 리스트\n",
    "\n",
    "# 찾을 검색어\n",
    "find = '전동킥보드'\n",
    "\n",
    "driver = webdriver.Chrome()\n",
    "driver.get(f\"https://search.shopping.naver.com/search/all?where=all&frm=NVSCTAB&query={find}\")\n",
    "\n",
    "# 반복할 횟수 설정\n",
    "repeat_limit = 3\n",
    "\n",
    "while no <= repeat_limit:\n",
    "    try:\n",
    "        title = driver.find_element(by='xpath',value = f'//*[@id=\"content\"]/div[1]/div[2]/div/div[{ind}]/div/div/div[2]/div[1]/a').text\n",
    "        price = driver.find_element(by='xpath',value = f'//*[@id=\"content\"]/div[1]/div[2]/div/div[{ind}]/div/div/div[2]/div[2]/strong/span[1]/span/em').text\n",
    "        list_1.append([title, price])\n",
    "        \n",
    "        time.sleep(random_wait)  # import time\n",
    "        ind += 1\n",
    "\n",
    "    except:\n",
    "        # 다음 지역으로 넘어가기\n",
    "        try:\n",
    "            driver.find_element(by='xpath', value = f'//*[@id=\"content\"]/div[1]/div[4]/div/a[{no + 1}]').click()\n",
    "            no += 1\n",
    "            ind = 1\n",
    "            \n",
    "            time.sleep(random_wait)  # import time\n",
    "\n",
    "            # 중간 저장\n",
    "            df = pd.DataFrame(list_1)\n",
    "            df.to_csv(f\"네이버쇼핑 {find}.csv\", index = False)\n",
    "            print(f\"{no} 페이지 까지 중간 저장 성공\")\n",
    "            continue\n",
    "        \n",
    "        except:\n",
    "            break"
   ]
  },
  {
   "cell_type": "code",
   "execution_count": null,
   "metadata": {},
   "outputs": [],
   "source": [
    "# 칼럼명 변경 후 저장\n",
    "df = df.rename(columns = {0 : '상품명', 1 : '가격'})\n",
    "df.to_csv(f\"네이버쇼핑 {find}.csv\", index = False)"
   ]
  }
 ],
 "metadata": {
  "kernelspec": {
   "display_name": "base",
   "language": "python",
   "name": "python3"
  },
  "language_info": {
   "codemirror_mode": {
    "name": "ipython",
    "version": 3
   },
   "file_extension": ".py",
   "mimetype": "text/x-python",
   "name": "python",
   "nbconvert_exporter": "python",
   "pygments_lexer": "ipython3",
   "version": "3.10.9"
  }
 },
 "nbformat": 4,
 "nbformat_minor": 2
}
