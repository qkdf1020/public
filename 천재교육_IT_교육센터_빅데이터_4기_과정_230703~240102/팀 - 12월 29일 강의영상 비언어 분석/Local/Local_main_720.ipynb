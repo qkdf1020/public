{
 "cells": [
  {
   "cell_type": "code",
   "execution_count": 2,
   "metadata": {},
   "outputs": [],
   "source": [
    "# 얼굴\n",
    "# 0 - nose / 코\n",
    "# 1 - left eye (inner) / 왼쪽 눈 (안)\n",
    "# 2 - left eye / 왼쪽 눈\n",
    "# 3 - left eye (outer) / 왼쪽 눈 (밖)\n",
    "# 4 - right eye (inner) / 오른쪽 눈 (안)\n",
    "# 5 - right eye / 오른쪽 눈 \n",
    "# 6 - right eye (outer) / 오른쪽 눈 (밖)\n",
    "# 7 - left ear / 왼쪽 귀\n",
    "# 8 - right ear / 오른쪽 귀\n",
    "# 9 - mouth (left) / 입 (왼쪽)\n",
    "# 10 - mouth (right) / 입 (오른쪽)\n",
    "\n",
    "# 몸\n",
    "# 11 - left shoulder / 왼쪽 어깨\n",
    "# 12 - right shoulder / 오른쪽 어깨\n",
    "# 13 - left elbow / 왼쪽 팔꿈치\n",
    "# 14 - right elbow / 오른쪽 팔꿈치\n",
    "# 15 - left wrist / 왼쪽 손목\n",
    "# 16 - right wrist / 오른쪽 손목\n",
    "# 17 - left pinky / 왼쪽 새끼손가락\n",
    "# 18 - right pinky / 오른쪽 새끼손가락\n",
    "# 19 - left index / 왼쪽 검지손가락\n",
    "# 20 - right index / 오른쪽 검지손가락\n",
    "# 21 - left thumb / 왼쪽 엄지손가락\n",
    "# 22 - right thumb / 오른쪽 엄지손가락\n",
    "# 23 - left hip / 왼쪽 엉덩이\n",
    "# 24 - right hip / 오른쪽 엉덩이\n",
    "# 25 - left knee / 왼쪽 무릎\n",
    "# 26 - right knee / 오른쪽 무릎\n",
    "# 27 - left ankle / 왼쪽 발목\n",
    "# 28 - right ankle / 오른쪽 발목\n",
    "# 29 - left heel / 왼쪽 발뒤꿈치\n",
    "# 30 - right heel / 오른쪽 발뒤꿈치\n",
    "# 31 - left foot index / 왼쪽 발끝\n",
    "# 32 - right foot index / 오른쪽 발끝"
   ]
  },
  {
   "cell_type": "code",
   "execution_count": 31,
   "metadata": {},
   "outputs": [
    {
     "name": "stdout",
     "output_type": "stream",
     "text": [
      "선택된 랜드마크 : [0, 1, 2, 3, 4, 5, 6, 7, 8, 9, 10, 11, 12, 13, 14, 15, 16, 17, 18, 19, 20, 21, 22]\n"
     ]
    }
   ],
   "source": [
    "# 랜드마크 포인트\n",
    "lmpns = list(range(23))\n",
    "points = []\n",
    "\n",
    "for lmpn in lmpns :\n",
    "    points.extend([lmpn * 2, (lmpn * 2) + 1])\n",
    "\n",
    "print(\"선택된 랜드마크 :\", lmpns)"
   ]
  },
  {
   "cell_type": "code",
   "execution_count": null,
   "metadata": {},
   "outputs": [],
   "source": [
    "import Local_main_720 as lm\n",
    "\n",
    "# 폴더 경로 설정\n",
    "video_folder_path = \"경로\"\n",
    "json_folder_path = \"경로\"\n",
    "\n",
    "lm.video2json_folder_720(video_folder_path, json_folder_path, points)"
   ]
  },
  {
   "cell_type": "code",
   "execution_count": null,
   "metadata": {},
   "outputs": [],
   "source": []
  }
 ],
 "metadata": {
  "kernelspec": {
   "display_name": "bot",
   "language": "python",
   "name": "python3"
  },
  "language_info": {
   "codemirror_mode": {
    "name": "ipython",
    "version": 3
   },
   "file_extension": ".py",
   "mimetype": "text/x-python",
   "name": "python",
   "nbconvert_exporter": "python",
   "pygments_lexer": "ipython3",
   "version": "3.10.9"
  }
 },
 "nbformat": 4,
 "nbformat_minor": 2
}
