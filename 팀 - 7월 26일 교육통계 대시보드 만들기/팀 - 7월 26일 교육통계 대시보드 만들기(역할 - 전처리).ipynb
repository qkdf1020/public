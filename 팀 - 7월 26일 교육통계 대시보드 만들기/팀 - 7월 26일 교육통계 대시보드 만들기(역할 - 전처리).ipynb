{
 "cells": [
  {
   "cell_type": "code",
   "execution_count": null,
   "id": "ef35ea47",
   "metadata": {},
   "outputs": [],
   "source": [
    "# 해당 파일은 python 3.10.9에서 실행 되었습니다."
   ]
  },
  {
   "cell_type": "code",
   "execution_count": null,
   "id": "935044c1",
   "metadata": {},
   "outputs": [],
   "source": [
    "# 시작할 때 사용할 패키지 파일을 전부 입력한다.\n",
    "import pandas as pd\n",
    "import numpy as np\n",
    "import matplotlib.pyplot as plt\n",
    "import seaborn as sns\n",
    "import plotly.express as px\n",
    "import re\n",
    "from scipy import stats\n",
    "from statannot import add_stat_annotation\n",
    "# 그래프 한글 표시 요류 관련 해결 방법\n",
    "plt.rc('font', family='Malgun Gothic')"
   ]
  },
  {
   "cell_type": "code",
   "execution_count": null,
   "id": "e0b368ae",
   "metadata": {
    "scrolled": false
   },
   "outputs": [],
   "source": [
    "# 유치원, 초, 중, 고, 대학교 교원 1인당 학생수 = df1\n",
    "df1 = pd.read_excel('17개_시도_교원1인당_학생수.xlsx')\n",
    "df1 = df1.rename(columns={'재적학생수<br>(A)':'재적학생수', '교원수<br>(B)':'교원수'})\n",
    "df1"
   ]
  },
  {
   "cell_type": "code",
   "execution_count": null,
   "id": "4b1de0fa",
   "metadata": {},
   "outputs": [],
   "source": [
    "# 유치원 원아수 = df2\n",
    "df2 = pd.read_excel('17개_시도_유치원_원아수.xlsx')\n",
    "df2 = df2.rename(columns={'데이터':'원아수'})\n",
    "df2"
   ]
  },
  {
   "cell_type": "code",
   "execution_count": null,
   "id": "89428f86",
   "metadata": {
    "scrolled": false
   },
   "outputs": [],
   "source": [
    "# 유치원 교원수 = d2\n",
    "d2 = pd.read_excel('17개_시도_유치원_교원수.xlsx')\n",
    "d2"
   ]
  },
  {
   "cell_type": "code",
   "execution_count": null,
   "id": "1f06a442",
   "metadata": {},
   "outputs": [],
   "source": [
    "# 유치원 원아수, 교원수 = df2\n",
    "df2['교원수'] = d2['데이터']\n",
    "df2"
   ]
  },
  {
   "cell_type": "code",
   "execution_count": null,
   "id": "79153cff",
   "metadata": {},
   "outputs": [],
   "source": [
    "# 초등학교 학생수 = df3\n",
    "df3 = pd.read_excel('17개_시도_초등학교_학생수.xlsx')\n",
    "df3 = df3.rename(columns={'데이터':'학생수'})\n",
    "df3"
   ]
  },
  {
   "cell_type": "code",
   "execution_count": null,
   "id": "90c20765",
   "metadata": {},
   "outputs": [],
   "source": [
    "# 초등학교 교원수 = d3\n",
    "d3 = pd.read_excel('17개_시도_초등학교_교원수.xlsx')\n",
    "d3"
   ]
  },
  {
   "cell_type": "code",
   "execution_count": null,
   "id": "63d4d035",
   "metadata": {},
   "outputs": [],
   "source": [
    "# 초등학교 학생수, 교원수 = df3\n",
    "df3['교원수'] = d3['데이터']\n",
    "df3"
   ]
  },
  {
   "cell_type": "code",
   "execution_count": null,
   "id": "3cce25a4",
   "metadata": {},
   "outputs": [],
   "source": [
    "# 대학교 학생수 = df4\n",
    "df4 = pd.read_excel('17개_시도_대학교_학생수.xlsx')\n",
    "df4 = df4.rename(columns={'대학교 재학생수<br>(A+B+C+D)':'재학생수'})\n",
    "df4"
   ]
  },
  {
   "cell_type": "code",
   "execution_count": null,
   "id": "f84780c1",
   "metadata": {},
   "outputs": [],
   "source": [
    "# 대학교 교원수 = d4\n",
    "d4 = pd.read_excel('17개_시도_대학교_교원수.xlsx')\n",
    "d4"
   ]
  },
  {
   "cell_type": "code",
   "execution_count": null,
   "id": "f449291d",
   "metadata": {
    "scrolled": false
   },
   "outputs": [],
   "source": [
    "# 대학교 학생수, 교원수 = df4\n",
    "df4['교원수'] = d4['대학교 교원수<br>(A+B+C+D)']\n",
    "df4"
   ]
  },
  {
   "cell_type": "code",
   "execution_count": null,
   "id": "f6b460f2",
   "metadata": {
    "scrolled": false
   },
   "outputs": [],
   "source": [
    "# 중, 고등학교 학생수, 교원수 = df1\n",
    "df1['재적학생수'] = df1['재적학생수'] - df2['원아수'] - df3['학생수'] - df4['재학생수']\n",
    "df1['교원수'] = df1['교원수'] - df2['교원수'] - df3['교원수'] - df4['교원수']\n",
    "df1"
   ]
  },
  {
   "cell_type": "code",
   "execution_count": null,
   "id": "95281f57",
   "metadata": {},
   "outputs": [],
   "source": [
    "# 중, 고등학교 교원1인당학생수 구하기\n",
    "df1['교원1인당학생수'] = df1['재적학생수'] / df1['교원수']\n",
    "df1"
   ]
  },
  {
   "cell_type": "code",
   "execution_count": null,
   "id": "f405210e",
   "metadata": {},
   "outputs": [],
   "source": [
    "# 중, 고등학교 교원1인당학생수 소수점 3번쨰에서 반올림하여 2번째 까지 표시\n",
    "df1['교원1인당학생수'] = round(df1['교원1인당학생수'], 2)\n",
    "df1"
   ]
  },
  {
   "cell_type": "code",
   "execution_count": null,
   "id": "d38d939c",
   "metadata": {},
   "outputs": [],
   "source": [
    "#칼럼 순서 변경\n",
    "df1 = df1[['행정구역별', '시점', '재적학생수', '교원수', '교원1인당학생수']]\n",
    "df1"
   ]
  },
  {
   "cell_type": "code",
   "execution_count": null,
   "id": "c5565b4e",
   "metadata": {
    "scrolled": false
   },
   "outputs": [],
   "source": [
    "# 중, 고등학교 학생의 학교생활만족도 = df5\n",
    "df5 = pd.read_excel('17개_시도_학생의_학교생활만족도.xlsx')\n",
    "df5.head()"
   ]
  },
  {
   "cell_type": "code",
   "execution_count": null,
   "id": "e8f61595",
   "metadata": {},
   "outputs": [],
   "source": [
    "# 중, 고등학교 학생의 학교생활만족도 불필요 칼럼 제거\n",
    "df5 = df5.drop(['특성별(1)', '특성별(2)'], axis = 1)\n",
    "df5.head()"
   ]
  },
  {
   "cell_type": "code",
   "execution_count": null,
   "id": "b4cbaedc",
   "metadata": {
    "scrolled": false
   },
   "outputs": [],
   "source": [
    "# 학생의 학교생활만족도 칼럼명 변경\n",
    "df5.columns = ['시점', '행정구역별', '매우만족', '약간만족', '보통', '약간불만족', '매우불만족']\n",
    "df5"
   ]
  },
  {
   "cell_type": "code",
   "execution_count": null,
   "id": "c39d40d9",
   "metadata": {},
   "outputs": [],
   "source": [
    "#칼럼 순서 변경\n",
    "df5 = df5[['행정구역별', '시점', '매우만족', '약간만족', '보통', '약간불만족', '매우불만족']]\n",
    "df5"
   ]
  },
  {
   "cell_type": "code",
   "execution_count": null,
   "id": "378ba42c",
   "metadata": {},
   "outputs": [],
   "source": [
    "# 데이터 타입 확인\n",
    "df5.dtypes"
   ]
  },
  {
   "cell_type": "code",
   "execution_count": null,
   "id": "8619eb70",
   "metadata": {},
   "outputs": [],
   "source": [
    "# 약간불만족', '약간불만족'에서 '-'값을 0으로 수정\n",
    "df5['약간불만족'] = df5['약간불만족'].replace('-', 0)\n",
    "df5['매우불만족'] = df5['매우불만족'].replace('-', 0)"
   ]
  },
  {
   "cell_type": "code",
   "execution_count": null,
   "id": "dba93959",
   "metadata": {
    "scrolled": true
   },
   "outputs": [],
   "source": [
    "# 데이터 타입 확인\n",
    "df5.dtypes"
   ]
  },
  {
   "cell_type": "code",
   "execution_count": null,
   "id": "bbe39a06",
   "metadata": {
    "scrolled": true
   },
   "outputs": [],
   "source": [
    "# 데이터 타입 변경\n",
    "df5['약간불만족'] = df5['약간불만족'].astype('float')\n",
    "df5['매우불만족'] = df5['매우불만족'].astype('float')"
   ]
  },
  {
   "cell_type": "code",
   "execution_count": null,
   "id": "356bddde",
   "metadata": {},
   "outputs": [],
   "source": [
    "# 데이터 타입 확인\n",
    "df5.dtypes"
   ]
  },
  {
   "cell_type": "code",
   "execution_count": null,
   "id": "3871ad07",
   "metadata": {},
   "outputs": [],
   "source": [
    "# 만족도환산점수 = '매우만족' = 5점, '약간만족' = 4점, '보통' = 3점, '약간불만족' = 2점, '매우불만족' = 1점\n",
    "df5['만족도환산점수'] = df5['매우만족'].mul(5) + df5['약간만족'].mul(4) + df5['보통'].mul(3) + df5['약간불만족'].mul(2) + df5['매우불만족']\n",
    "df5"
   ]
  },
  {
   "cell_type": "code",
   "execution_count": null,
   "id": "227604af",
   "metadata": {},
   "outputs": [],
   "source": [
    "#df1과 df5 데이터 프레임 합치기 1\n",
    "df6 = df1.drop(['행정구역별', '시점'], axis = 1)"
   ]
  },
  {
   "cell_type": "code",
   "execution_count": null,
   "id": "721ff86e",
   "metadata": {},
   "outputs": [],
   "source": [
    "#df1과 df5 데이터 프레임 합치기 2\n",
    "df = pd.concat([df5, df6], axis = 1)\n",
    "df"
   ]
  },
  {
   "cell_type": "code",
   "execution_count": null,
   "id": "fcbcbc4d",
   "metadata": {},
   "outputs": [],
   "source": [
    "# 데이터 프레임 통합 결과물 내보내기\n",
    "df.to_excel('17개_시도_중고등학생의_학교생활만족도와_교원1인당_학생수.xlsx', index = False)"
   ]
  },
  {
   "cell_type": "code",
   "execution_count": null,
   "id": "0e8c2947",
   "metadata": {},
   "outputs": [],
   "source": [
    "# T-test용 데이터 프레임 생성 중 불필요 데이터 칼럼 삭제\n",
    "df7 = df1.drop(['재적학생수', '교원수'], axis = 1)\n",
    "df7"
   ]
  },
  {
   "cell_type": "code",
   "execution_count": null,
   "id": "96dcf7a5",
   "metadata": {
    "scrolled": false
   },
   "outputs": [],
   "source": [
    "# T-test용 데이터 프레임 생성 = df8\n",
    "df8 = df7.pivot(index = '행정구역별', columns = '시점', values = '교원1인당학생수').reset_index()\n",
    "df8"
   ]
  },
  {
   "cell_type": "code",
   "execution_count": null,
   "id": "24260190",
   "metadata": {},
   "outputs": [],
   "source": [
    "# 평균 구하기\n",
    "df8['평균'] = df8.mean(axis = 1)\n",
    "df8['평균'] = round(df8['평균'], 2)\n",
    "df8"
   ]
  },
  {
   "cell_type": "code",
   "execution_count": null,
   "id": "158b8a7e",
   "metadata": {},
   "outputs": [],
   "source": [
    "# 열 이름 '시점' 삭제\n",
    "df8.columns.name = None\n",
    "df8"
   ]
  },
  {
   "cell_type": "code",
   "execution_count": null,
   "id": "cc2aae9a",
   "metadata": {},
   "outputs": [],
   "source": [
    "# T-test용 데이터 프레임 통합 결과물 내보내기\n",
    "df8.to_excel('17개_시도_중고등학생의_교원1인당_학생수.xlsx', index = False)"
   ]
  },
  {
   "cell_type": "code",
   "execution_count": null,
   "id": "522c15fe",
   "metadata": {},
   "outputs": [],
   "source": []
  }
 ],
 "metadata": {
  "kernelspec": {
   "display_name": "Python 3 (ipykernel)",
   "language": "python",
   "name": "python3"
  },
  "language_info": {
   "codemirror_mode": {
    "name": "ipython",
    "version": 3
   },
   "file_extension": ".py",
   "mimetype": "text/x-python",
   "name": "python",
   "nbconvert_exporter": "python",
   "pygments_lexer": "ipython3",
   "version": "3.10.9"
  }
 },
 "nbformat": 4,
 "nbformat_minor": 5
}
